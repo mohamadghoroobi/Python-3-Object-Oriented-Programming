{
 "cells": [
  {
   "cell_type": "markdown",
   "source": [
    "# Functions"
   ],
   "metadata": {
    "collapsed": false
   }
  },
  {
   "cell_type": "code",
   "execution_count": null,
   "outputs": [],
   "source": [
    "def add_one(number):\n",
    "    return number + 1\n",
    "\n",
    "\n",
    "add_one(2)"
   ],
   "metadata": {
    "collapsed": false
   }
  },
  {
   "cell_type": "markdown",
   "source": [
    "### First-Class Objects"
   ],
   "metadata": {
    "collapsed": false
   }
  },
  {
   "cell_type": "code",
   "execution_count": 3,
   "outputs": [],
   "source": [
    "def say_hello(name):\n",
    "    return f\"Hello {name}\"\n",
    "\n",
    "\n",
    "def be_awesome(name):\n",
    "    return f\"Yo {name}, together we are the awesomest!\"\n",
    "\n",
    "\n",
    "def greet_bob(greeter_func):\n",
    "    return greeter_func(\"Bob\")"
   ],
   "metadata": {
    "collapsed": false
   }
  },
  {
   "cell_type": "code",
   "execution_count": 4,
   "outputs": [
    {
     "data": {
      "text/plain": "'Hello Bob'"
     },
     "execution_count": 4,
     "metadata": {},
     "output_type": "execute_result"
    }
   ],
   "source": [
    "greet_bob(say_hello)"
   ],
   "metadata": {
    "collapsed": false
   }
  },
  {
   "cell_type": "code",
   "execution_count": 5,
   "outputs": [
    {
     "data": {
      "text/plain": "'Yo Bob, together we are the awesomest!'"
     },
     "execution_count": 5,
     "metadata": {},
     "output_type": "execute_result"
    }
   ],
   "source": [
    "greet_bob(be_awesome)"
   ],
   "metadata": {
    "collapsed": false
   }
  },
  {
   "cell_type": "markdown",
   "source": [
    "### Inner Functions"
   ],
   "metadata": {
    "collapsed": false
   }
  },
  {
   "cell_type": "code",
   "execution_count": 7,
   "outputs": [],
   "source": [
    "def parent():\n",
    "    print(\"Printing from the parent() function\")\n",
    "\n",
    "    def first_child():\n",
    "        print(\"Printing from the first_child() function\")\n",
    "\n",
    "    def second_child():\n",
    "        print(\"Printing from the second_child() function\")\n",
    "\n",
    "    second_child()\n",
    "    first_child()"
   ],
   "metadata": {
    "collapsed": false
   }
  },
  {
   "cell_type": "code",
   "execution_count": 8,
   "outputs": [
    {
     "name": "stdout",
     "output_type": "stream",
     "text": [
      "Printing from the parent() function\n",
      "Printing from the second_child() function\n",
      "Printing from the first_child() function\n"
     ]
    }
   ],
   "source": [
    "parent()"
   ],
   "metadata": {
    "collapsed": false
   }
  },
  {
   "cell_type": "markdown",
   "source": [
    "### Returning Functions From Functions"
   ],
   "metadata": {
    "collapsed": false
   }
  },
  {
   "cell_type": "code",
   "execution_count": 9,
   "outputs": [],
   "source": [
    "def parent(num):\n",
    "    def first_child():\n",
    "        return \"Hi, I am Emma\"\n",
    "\n",
    "    def second_child():\n",
    "        return \"Call me Liam\"\n",
    "\n",
    "    if num == 1:\n",
    "        return first_child\n",
    "    else:\n",
    "        return second_child"
   ],
   "metadata": {
    "collapsed": false
   }
  },
  {
   "cell_type": "code",
   "execution_count": 10,
   "outputs": [
    {
     "data": {
      "text/plain": "<function __main__.parent.<locals>.first_child()>"
     },
     "execution_count": 10,
     "metadata": {},
     "output_type": "execute_result"
    }
   ],
   "source": [
    "parent(1)"
   ],
   "metadata": {
    "collapsed": false
   }
  },
  {
   "cell_type": "code",
   "execution_count": 11,
   "outputs": [
    {
     "data": {
      "text/plain": "<function __main__.parent.<locals>.second_child()>"
     },
     "execution_count": 11,
     "metadata": {},
     "output_type": "execute_result"
    }
   ],
   "source": [
    "parent(2)"
   ],
   "metadata": {
    "collapsed": false
   }
  },
  {
   "cell_type": "markdown",
   "source": [
    "# Simple Decorators"
   ],
   "metadata": {
    "collapsed": false
   }
  },
  {
   "cell_type": "code",
   "execution_count": 12,
   "outputs": [],
   "source": [
    "def my_decorator(func):\n",
    "    def wrapper():\n",
    "        print(\"Something is happening before the function is called.\")\n",
    "        func()\n",
    "        print(\"Something is happening after the function is called.\")\n",
    "\n",
    "    return wrapper"
   ],
   "metadata": {
    "collapsed": false
   }
  },
  {
   "cell_type": "code",
   "execution_count": 13,
   "outputs": [],
   "source": [
    "def say_whee():\n",
    "    print(\"Whee!\")"
   ],
   "metadata": {
    "collapsed": false
   }
  },
  {
   "cell_type": "code",
   "execution_count": 14,
   "outputs": [],
   "source": [
    "say_whee = my_decorator(say_whee)"
   ],
   "metadata": {
    "collapsed": false
   }
  },
  {
   "cell_type": "code",
   "execution_count": 15,
   "outputs": [
    {
     "name": "stdout",
     "output_type": "stream",
     "text": [
      "Something is happening before the function is called.\n",
      "Whee!\n",
      "Something is happening after the function is called.\n"
     ]
    }
   ],
   "source": [
    "say_whee()"
   ],
   "metadata": {
    "collapsed": false
   }
  },
  {
   "cell_type": "code",
   "execution_count": 16,
   "outputs": [
    {
     "data": {
      "text/plain": "<function __main__.my_decorator.<locals>.wrapper()>"
     },
     "execution_count": 16,
     "metadata": {},
     "output_type": "execute_result"
    }
   ],
   "source": [
    "say_whee"
   ],
   "metadata": {
    "collapsed": false
   }
  },
  {
   "cell_type": "code",
   "execution_count": 29,
   "outputs": [],
   "source": [
    "from datetime import datetime\n",
    "\n",
    "\n",
    "def not_during_the_night(func):\n",
    "    def wrapper():\n",
    "        if 7 <= datetime.now().hour < 22:\n",
    "            func()\n",
    "        else:\n",
    "            pass  # Hush, the neighbors are asleep\n",
    "\n",
    "    return wrapper\n",
    "\n",
    "\n",
    "def say_whee():\n",
    "    print(\"Whee!\")\n",
    "\n",
    "\n",
    "say_whee = not_during_the_night(say_whee)"
   ],
   "metadata": {
    "collapsed": false
   }
  },
  {
   "cell_type": "code",
   "execution_count": 31,
   "outputs": [
    {
     "name": "stdout",
     "output_type": "stream",
     "text": [
      "Whee!\n"
     ]
    }
   ],
   "source": [
    "say_whee()"
   ],
   "metadata": {
    "collapsed": false
   }
  },
  {
   "cell_type": "code",
   "execution_count": 19,
   "outputs": [
    {
     "data": {
      "text/plain": "<function __main__.not_during_the_night.<locals>.wrapper()>"
     },
     "execution_count": 19,
     "metadata": {},
     "output_type": "execute_result"
    }
   ],
   "source": [
    "say_whee"
   ],
   "metadata": {
    "collapsed": false
   }
  },
  {
   "cell_type": "markdown",
   "source": [
    "### Syntactic Sugar!"
   ],
   "metadata": {
    "collapsed": false
   }
  },
  {
   "cell_type": "code",
   "execution_count": 39,
   "outputs": [],
   "source": [
    "def my_decorator(func):\n",
    "    def wrapper():\n",
    "        print(\"Something is happening before the function is called.\")\n",
    "        func()\n",
    "        print(\"Something is happening after the function is called.\")\n",
    "\n",
    "    return wrapper"
   ],
   "metadata": {
    "collapsed": false
   }
  },
  {
   "cell_type": "code",
   "execution_count": 40,
   "outputs": [],
   "source": [
    "@my_decorator\n",
    "def say_whee():\n",
    "    print(\"Whee!\")"
   ],
   "metadata": {
    "collapsed": false
   }
  },
  {
   "cell_type": "code",
   "execution_count": 41,
   "outputs": [],
   "source": [
    "say_whee = my_decorator(say_whee)"
   ],
   "metadata": {
    "collapsed": false
   }
  },
  {
   "cell_type": "code",
   "execution_count": 42,
   "outputs": [
    {
     "name": "stdout",
     "output_type": "stream",
     "text": [
      "Something is happening before the function is called.\n",
      "Something is happening before the function is called.\n",
      "Whee!\n",
      "Something is happening after the function is called.\n",
      "Something is happening after the function is called.\n"
     ]
    }
   ],
   "source": [
    "say_whee()"
   ],
   "metadata": {
    "collapsed": false
   }
  },
  {
   "cell_type": "markdown",
   "source": [
    "### Reusing Decorators"
   ],
   "metadata": {
    "collapsed": false
   }
  },
  {
   "cell_type": "code",
   "execution_count": 43,
   "outputs": [],
   "source": [
    "def do_twice(func):\n",
    "    def wrapper_do_twice():\n",
    "        func()\n",
    "        func()\n",
    "\n",
    "    return wrapper_do_twice"
   ],
   "metadata": {
    "collapsed": false
   }
  },
  {
   "cell_type": "code",
   "execution_count": 44,
   "outputs": [],
   "source": [
    "@do_twice\n",
    "def say_whee():\n",
    "    print(\"Whee!\")"
   ],
   "metadata": {
    "collapsed": false
   }
  },
  {
   "cell_type": "code",
   "execution_count": 45,
   "outputs": [
    {
     "name": "stdout",
     "output_type": "stream",
     "text": [
      "Whee!\n",
      "Whee!\n"
     ]
    }
   ],
   "source": [
    "say_whee()"
   ],
   "metadata": {
    "collapsed": false
   }
  },
  {
   "cell_type": "markdown",
   "source": [
    "### Decorating Functions With Arguments"
   ],
   "metadata": {
    "collapsed": false
   }
  },
  {
   "cell_type": "code",
   "execution_count": 46,
   "outputs": [],
   "source": [
    "@do_twice\n",
    "def greet(name):\n",
    "    print(f\"hello {name}\")"
   ],
   "metadata": {
    "collapsed": false
   }
  },
  {
   "cell_type": "code",
   "execution_count": 47,
   "outputs": [
    {
     "ename": "TypeError",
     "evalue": "do_twice.<locals>.wrapper_do_twice() takes 0 positional arguments but 1 was given",
     "output_type": "error",
     "traceback": [
      "\u001B[1;31m---------------------------------------------------------------------------\u001B[0m",
      "\u001B[1;31mTypeError\u001B[0m                                 Traceback (most recent call last)",
      "Cell \u001B[1;32mIn[47], line 1\u001B[0m\n\u001B[1;32m----> 1\u001B[0m \u001B[43mgreet\u001B[49m\u001B[43m(\u001B[49m\u001B[38;5;124;43m\"\u001B[39;49m\u001B[38;5;124;43mmohammad\u001B[39;49m\u001B[38;5;124;43m\"\u001B[39;49m\u001B[43m)\u001B[49m\n",
      "\u001B[1;31mTypeError\u001B[0m: do_twice.<locals>.wrapper_do_twice() takes 0 positional arguments but 1 was given"
     ]
    }
   ],
   "source": [
    "greet(\"mohammad\")"
   ],
   "metadata": {
    "collapsed": false
   }
  },
  {
   "cell_type": "code",
   "execution_count": 52,
   "outputs": [],
   "source": [
    "def do_twice(func):\n",
    "    def wrapper_do_twice(*args, **kwargs):\n",
    "        func(*args, **kwargs)\n",
    "        func(*args, **kwargs)\n",
    "\n",
    "    return wrapper_do_twice"
   ],
   "metadata": {
    "collapsed": false
   }
  },
  {
   "cell_type": "code",
   "execution_count": 53,
   "outputs": [],
   "source": [
    "@do_twice\n",
    "def say_whee():\n",
    "    print(\"Whee!\")"
   ],
   "metadata": {
    "collapsed": false
   }
  },
  {
   "cell_type": "code",
   "execution_count": 54,
   "outputs": [],
   "source": [
    "@do_twice\n",
    "def greet(name):\n",
    "    print(f\"hello {name}\")"
   ],
   "metadata": {
    "collapsed": false
   }
  },
  {
   "cell_type": "code",
   "execution_count": 55,
   "outputs": [
    {
     "name": "stdout",
     "output_type": "stream",
     "text": [
      "Whee!\n",
      "Whee!\n"
     ]
    }
   ],
   "source": [
    "say_whee()"
   ],
   "metadata": {
    "collapsed": false
   }
  },
  {
   "cell_type": "code",
   "execution_count": 56,
   "outputs": [
    {
     "name": "stdout",
     "output_type": "stream",
     "text": [
      "hello mohammad\n",
      "hello mohammad\n"
     ]
    }
   ],
   "source": [
    "greet(\"mohammad\")"
   ],
   "metadata": {
    "collapsed": false
   }
  },
  {
   "cell_type": "markdown",
   "source": [
    "### Returning Values From Decorated Functions"
   ],
   "metadata": {
    "collapsed": false
   }
  },
  {
   "cell_type": "code",
   "execution_count": 57,
   "outputs": [],
   "source": [
    "@do_twice\n",
    "def return_greeting(name):\n",
    "    print(\"Creating greeting\")\n",
    "    return f\"Hi {name}\""
   ],
   "metadata": {
    "collapsed": false
   }
  },
  {
   "cell_type": "code",
   "execution_count": 58,
   "outputs": [
    {
     "name": "stdout",
     "output_type": "stream",
     "text": [
      "Creating greeting\n",
      "Creating greeting\n"
     ]
    }
   ],
   "source": [
    "hi_mohammad = return_greeting(\"Mohammad\")"
   ],
   "metadata": {
    "collapsed": false
   }
  },
  {
   "cell_type": "code",
   "execution_count": 59,
   "outputs": [
    {
     "name": "stdout",
     "output_type": "stream",
     "text": [
      "None\n"
     ]
    }
   ],
   "source": [
    "print(hi_mohammad)"
   ],
   "metadata": {
    "collapsed": false
   }
  },
  {
   "cell_type": "code",
   "execution_count": 60,
   "outputs": [],
   "source": [
    "def do_twice(func):\n",
    "    def wrapper_do_twice(*args, **kwargs):\n",
    "        func(*args, **kwargs)\n",
    "        return func(*args, **kwargs)\n",
    "\n",
    "    return wrapper_do_twice"
   ],
   "metadata": {
    "collapsed": false
   }
  },
  {
   "cell_type": "code",
   "execution_count": 61,
   "outputs": [],
   "source": [
    "@do_twice\n",
    "def return_greeting(name):\n",
    "    print(\"Creating greeting\")\n",
    "    return f\"Hi {name}\""
   ],
   "metadata": {
    "collapsed": false
   }
  },
  {
   "cell_type": "code",
   "execution_count": 62,
   "outputs": [
    {
     "name": "stdout",
     "output_type": "stream",
     "text": [
      "Creating greeting\n",
      "Creating greeting\n"
     ]
    },
    {
     "data": {
      "text/plain": "'Hi Mohammad'"
     },
     "execution_count": 62,
     "metadata": {},
     "output_type": "execute_result"
    }
   ],
   "source": [
    "return_greeting(\"Mohammad\")"
   ],
   "metadata": {
    "collapsed": false
   }
  },
  {
   "cell_type": "code",
   "execution_count": 63,
   "outputs": [
    {
     "data": {
      "text/plain": "<function print(*args, sep=' ', end='\\n', file=None, flush=False)>"
     },
     "execution_count": 63,
     "metadata": {},
     "output_type": "execute_result"
    }
   ],
   "source": [
    "print"
   ],
   "metadata": {
    "collapsed": false
   }
  },
  {
   "cell_type": "code",
   "execution_count": 64,
   "outputs": [
    {
     "data": {
      "text/plain": "'print'"
     },
     "execution_count": 64,
     "metadata": {},
     "output_type": "execute_result"
    }
   ],
   "source": [
    "print.__name__"
   ],
   "metadata": {
    "collapsed": false
   }
  },
  {
   "cell_type": "code",
   "execution_count": 65,
   "outputs": [
    {
     "name": "stdout",
     "output_type": "stream",
     "text": [
      "Help on built-in function print in module builtins:\n",
      "\n",
      "print(*args, sep=' ', end='\\n', file=None, flush=False)\n",
      "    Prints the values to a stream, or to sys.stdout by default.\n",
      "    \n",
      "    sep\n",
      "      string inserted between values, default a space.\n",
      "    end\n",
      "      string appended after the last value, default a newline.\n",
      "    file\n",
      "      a file-like object (stream); defaults to the current sys.stdout.\n",
      "    flush\n",
      "      whether to forcibly flush the stream.\n",
      "\n"
     ]
    }
   ],
   "source": [
    "help(print)"
   ],
   "metadata": {
    "collapsed": false
   }
  },
  {
   "cell_type": "code",
   "execution_count": 66,
   "outputs": [
    {
     "data": {
      "text/plain": "<function __main__.do_twice.<locals>.wrapper_do_twice(*args, **kwargs)>"
     },
     "execution_count": 66,
     "metadata": {},
     "output_type": "execute_result"
    }
   ],
   "source": [
    "say_whee"
   ],
   "metadata": {
    "collapsed": false
   }
  },
  {
   "cell_type": "code",
   "execution_count": 67,
   "outputs": [
    {
     "data": {
      "text/plain": "'wrapper_do_twice'"
     },
     "execution_count": 67,
     "metadata": {},
     "output_type": "execute_result"
    }
   ],
   "source": [
    "say_whee.__name__"
   ],
   "metadata": {
    "collapsed": false
   }
  },
  {
   "cell_type": "code",
   "execution_count": 68,
   "outputs": [
    {
     "name": "stdout",
     "output_type": "stream",
     "text": [
      "Help on function wrapper_do_twice in module __main__:\n",
      "\n",
      "wrapper_do_twice(*args, **kwargs)\n",
      "\n"
     ]
    }
   ],
   "source": [
    "help(say_whee)"
   ],
   "metadata": {
    "collapsed": false
   }
  },
  {
   "cell_type": "code",
   "execution_count": 70,
   "outputs": [],
   "source": [
    "import functools\n",
    "\n",
    "\n",
    "def do_twice(func):\n",
    "    @functools.wraps(func)\n",
    "    def wrapper_do_twice(*args, **kwargs):\n",
    "        func(*args, **kwargs)\n",
    "        return func(*args, **kwargs)\n",
    "\n",
    "    return wrapper_do_twice"
   ],
   "metadata": {
    "collapsed": false
   }
  },
  {
   "cell_type": "code",
   "execution_count": 74,
   "outputs": [],
   "source": [
    "@do_twice\n",
    "def say_whee():\n",
    "    print(\"Whee!\")"
   ],
   "metadata": {
    "collapsed": false
   }
  },
  {
   "cell_type": "code",
   "execution_count": 75,
   "outputs": [],
   "source": [
    "say_whee = do_twice(say_whee)"
   ],
   "metadata": {
    "collapsed": false
   }
  },
  {
   "cell_type": "code",
   "execution_count": 76,
   "outputs": [
    {
     "data": {
      "text/plain": "<function __main__.say_whee()>"
     },
     "execution_count": 76,
     "metadata": {},
     "output_type": "execute_result"
    }
   ],
   "source": [
    "say_whee"
   ],
   "metadata": {
    "collapsed": false
   }
  },
  {
   "cell_type": "code",
   "execution_count": 77,
   "outputs": [
    {
     "data": {
      "text/plain": "'say_whee'"
     },
     "execution_count": 77,
     "metadata": {},
     "output_type": "execute_result"
    }
   ],
   "source": [
    "say_whee.__name__"
   ],
   "metadata": {
    "collapsed": false
   }
  },
  {
   "cell_type": "code",
   "execution_count": 78,
   "outputs": [
    {
     "name": "stdout",
     "output_type": "stream",
     "text": [
      "Help on function say_whee in module __main__:\n",
      "\n",
      "say_whee()\n",
      "\n"
     ]
    }
   ],
   "source": [
    "help(say_whee)"
   ],
   "metadata": {
    "collapsed": false
   }
  },
  {
   "cell_type": "markdown",
   "source": [
    "# A Few Real World Examples"
   ],
   "metadata": {
    "collapsed": false
   }
  },
  {
   "cell_type": "code",
   "execution_count": 80,
   "outputs": [],
   "source": [
    "import functools\n",
    "\n",
    "\n",
    "def decorator(func):\n",
    "    @functools.wraps(func)\n",
    "    def wrapper_decorator(*args, **kwargs):\n",
    "        print(\"Start\")\n",
    "        value = func(*args, **kwargs)\n",
    "        print(\"End\")\n",
    "        return value\n",
    "\n",
    "    return wrapper_decorator"
   ],
   "metadata": {
    "collapsed": false
   }
  },
  {
   "cell_type": "markdown",
   "source": [
    "### Timing Functions"
   ],
   "metadata": {
    "collapsed": false
   }
  },
  {
   "cell_type": "code",
   "execution_count": 81,
   "outputs": [],
   "source": [
    "import functools\n",
    "import time\n",
    "\n",
    "\n",
    "def timer(func):\n",
    "    @functools.wraps(func)\n",
    "    def wrapper_timer(*args, **kwargs):\n",
    "        # print(\"Start\")\n",
    "        start_time = time.perf_counter()\n",
    "        value = func(*args, **kwargs)\n",
    "        # print(\"End\")\n",
    "        end_time = time.perf_counter()\n",
    "        run_time = end_time - start_time\n",
    "        print(f\"Finished {func.__name__!r} in {run_time:.4f} secs\")\n",
    "        return value\n",
    "\n",
    "    return wrapper_timer"
   ],
   "metadata": {
    "collapsed": false
   }
  },
  {
   "cell_type": "code",
   "execution_count": 82,
   "outputs": [],
   "source": [
    "@timer\n",
    "def waste_some_time(num_times):\n",
    "    for _ in range(num_times):\n",
    "        sum([i ** 2 for i in range(1000)])"
   ],
   "metadata": {
    "collapsed": false
   }
  },
  {
   "cell_type": "code",
   "execution_count": 83,
   "outputs": [
    {
     "name": "stdout",
     "output_type": "stream",
     "text": [
      "Finished 'waste_some_time' in 0.0001 secs\n"
     ]
    }
   ],
   "source": [
    "waste_some_time(1)"
   ],
   "metadata": {
    "collapsed": false
   }
  },
  {
   "cell_type": "code",
   "execution_count": 84,
   "outputs": [
    {
     "name": "stdout",
     "output_type": "stream",
     "text": [
      "Finished 'waste_some_time' in 0.0579 secs\n"
     ]
    }
   ],
   "source": [
    "waste_some_time(1000)"
   ],
   "metadata": {
    "collapsed": false
   }
  },
  {
   "cell_type": "markdown",
   "source": [
    "### Debugging Code"
   ],
   "metadata": {
    "collapsed": false
   }
  },
  {
   "cell_type": "code",
   "execution_count": 97,
   "outputs": [],
   "source": [
    "import functools\n",
    "\n",
    "\n",
    "def debug(func):\n",
    "    @functools.wraps(func)\n",
    "    def wrapper_debug(*args, **kwargs):\n",
    "        args_repr = [repr(a) for a in args]\n",
    "        kwargs_repr = [f\"{k}={v!r}\" for k, v in kwargs.items()]\n",
    "        signature = \", \".join(args_repr + kwargs_repr)\n",
    "        print(f\"Calling {func.__name__}({signature})\")\n",
    "        value = func(*args, **kwargs)\n",
    "        print(f\"{func.__name__!r} returned {value!r}\")\n",
    "        return value\n",
    "\n",
    "    return wrapper_debug"
   ],
   "metadata": {
    "collapsed": false
   }
  },
  {
   "cell_type": "code",
   "execution_count": 98,
   "outputs": [],
   "source": [
    "@debug\n",
    "def make_greeting(name, age=None):\n",
    "    if age is None:\n",
    "        return f\"Howdy {name}!\"\n",
    "    else:\n",
    "        return f\"Whoa {name}! {age} already, you are growing up!\""
   ],
   "metadata": {
    "collapsed": false
   }
  },
  {
   "cell_type": "code",
   "execution_count": 99,
   "outputs": [
    {
     "name": "stdout",
     "output_type": "stream",
     "text": [
      "Calling make_greeting('Mohammad')\n",
      "'make_greeting' returned 'Howdy Mohammad!'\n"
     ]
    },
    {
     "data": {
      "text/plain": "'Howdy Mohammad!'"
     },
     "execution_count": 99,
     "metadata": {},
     "output_type": "execute_result"
    }
   ],
   "source": [
    "make_greeting(\"Mohammad\")"
   ],
   "metadata": {
    "collapsed": false
   }
  },
  {
   "cell_type": "code",
   "execution_count": 96,
   "outputs": [
    {
     "name": "stdout",
     "output_type": "stream",
     "text": [
      "Calling make_greeting('Richard', age=112)\n",
      "'make_greeting' returned 'Whoa Richard! 112 already, you are growing up!'\n"
     ]
    },
    {
     "data": {
      "text/plain": "'Whoa Richard! 112 already, you are growing up!'"
     },
     "execution_count": 96,
     "metadata": {},
     "output_type": "execute_result"
    }
   ],
   "source": [
    "make_greeting(\"Richard\", age=112)"
   ],
   "metadata": {
    "collapsed": false
   }
  },
  {
   "cell_type": "code",
   "execution_count": 100,
   "outputs": [],
   "source": [
    "import math\n",
    "\n",
    "math.factorial = debug(math.factorial)\n",
    "\n",
    "\n",
    "def approximate_e(terms=18):\n",
    "    return sum(1 / math.factorial(n) for n in range(terms))"
   ],
   "metadata": {
    "collapsed": false
   }
  },
  {
   "cell_type": "code",
   "execution_count": 101,
   "outputs": [
    {
     "name": "stdout",
     "output_type": "stream",
     "text": [
      "Calling factorial(0)\n",
      "'factorial' returned 1\n",
      "Calling factorial(1)\n",
      "'factorial' returned 1\n",
      "Calling factorial(2)\n",
      "'factorial' returned 2\n",
      "Calling factorial(3)\n",
      "'factorial' returned 6\n",
      "Calling factorial(4)\n",
      "'factorial' returned 24\n"
     ]
    },
    {
     "data": {
      "text/plain": "2.708333333333333"
     },
     "execution_count": 101,
     "metadata": {},
     "output_type": "execute_result"
    }
   ],
   "source": [
    "approximate_e(5)"
   ],
   "metadata": {
    "collapsed": false
   }
  },
  {
   "cell_type": "markdown",
   "source": [
    "### Slowing Down Code"
   ],
   "metadata": {
    "collapsed": false
   }
  },
  {
   "cell_type": "code",
   "execution_count": 102,
   "outputs": [],
   "source": [
    "import functools\n",
    "import time\n",
    "\n",
    "\n",
    "def slow_down(func):\n",
    "    @functools.wraps(func)\n",
    "    def wrapper_slow_down(*args, **kwargs):\n",
    "        # print(\"Start\")\n",
    "        time.sleep(1)\n",
    "        return func(*args, **kwargs)\n",
    "        # value = func(*args, **kwargs)\n",
    "        # print(\"End\")\n",
    "        # return value\n",
    "\n",
    "    return wrapper_slow_down"
   ],
   "metadata": {
    "collapsed": false
   }
  },
  {
   "cell_type": "code",
   "execution_count": 105,
   "outputs": [],
   "source": [
    "@slow_down\n",
    "def countdown(from_number):\n",
    "    if from_number < 1:\n",
    "        print(\"Liftoff!\")\n",
    "    else:\n",
    "        print(from_number)\n",
    "        countdown(from_number - 1)"
   ],
   "metadata": {
    "collapsed": false
   }
  },
  {
   "cell_type": "code",
   "execution_count": 106,
   "outputs": [
    {
     "name": "stdout",
     "output_type": "stream",
     "text": [
      "3\n",
      "2\n",
      "1\n",
      "Liftoff!\n"
     ]
    }
   ],
   "source": [
    "countdown(3)"
   ],
   "metadata": {
    "collapsed": false
   }
  },
  {
   "cell_type": "markdown",
   "source": [
    "### Registering Plugins"
   ],
   "metadata": {
    "collapsed": false
   }
  },
  {
   "cell_type": "code",
   "execution_count": 107,
   "outputs": [],
   "source": [
    "import random\n",
    "\n",
    "PLUGINS = dict()\n",
    "\n",
    "\n",
    "def register(func):\n",
    "    \"\"\"Register a function as a plug-in\"\"\"\n",
    "    PLUGINS[func.__name__] = func\n",
    "    return func"
   ],
   "metadata": {
    "collapsed": false
   }
  },
  {
   "cell_type": "code",
   "execution_count": 108,
   "outputs": [],
   "source": [
    "@register\n",
    "def say_hello(name):\n",
    "    return f'Hello {name}'\n",
    "\n",
    "@register\n",
    "def be_awesome(name):\n",
    "    return f\"Yo {name}, together we are the awesome!\"\n",
    "\n",
    "def randomly_greet(name):\n",
    "    greeter, greeter_func = random.choice(list(PLUGINS.items()))\n",
    "    print(f\"Using {greeter!r}\")\n",
    "    return greeter_func(name)"
   ],
   "metadata": {
    "collapsed": false
   }
  },
  {
   "cell_type": "code",
   "execution_count": 109,
   "outputs": [
    {
     "data": {
      "text/plain": "{'say_hello': <function __main__.say_hello(name)>,\n 'be_awesome': <function __main__.be_awesome(name)>}"
     },
     "execution_count": 109,
     "metadata": {},
     "output_type": "execute_result"
    }
   ],
   "source": [
    "PLUGINS"
   ],
   "metadata": {
    "collapsed": false
   }
  },
  {
   "cell_type": "code",
   "execution_count": 112,
   "outputs": [
    {
     "name": "stdout",
     "output_type": "stream",
     "text": [
      "Using 'be_awesome'\n"
     ]
    },
    {
     "data": {
      "text/plain": "'Yo Alice, together we are the awesome!'"
     },
     "execution_count": 112,
     "metadata": {},
     "output_type": "execute_result"
    }
   ],
   "source": [
    "randomly_greet(\"Alice\")"
   ],
   "metadata": {
    "collapsed": false
   }
  },
  {
   "cell_type": "code",
   "execution_count": 113,
   "outputs": [
    {
     "data": {
      "text/plain": "{'__name__': '__main__',\n '__doc__': 'Automatically created module for IPython interactive environment',\n '__package__': None,\n '__loader__': None,\n '__spec__': None,\n '__builtin__': <module 'builtins' (built-in)>,\n '__builtins__': <module 'builtins' (built-in)>,\n '_ih': ['',\n  'print(\"mohammad\")',\n  'def add_one(number):\\n    return number + 1\\n\\nadd_one(2)',\n  'def say_hello(name):\\n    return f\"Hello {name}\"\\n\\ndef be_awesome(name):\\n    return f\"Yo {name}, together we are the awesomest!\"\\n\\ndef greet_bob(greeter_func):\\n    return greeter_func(\"Bob\")',\n  'greet_bob(say_hello)',\n  'greet_bob(be_awesome)',\n  'def parent():\\n    print(\"Printing from the parent() function\")\\n\\n    def first_child():\\n        print(\"Printing from the first_child() function\")\\n\\n    def second_child():\\n        print(\"Printing from the second_child() function\")',\n  'def parent():\\n    print(\"Printing from the parent() function\")\\n\\n    def first_child():\\n        print(\"Printing from the first_child() function\")\\n\\n    def second_child():\\n        print(\"Printing from the second_child() function\")\\n\\n    second_child()\\n    first_child()',\n  'parent()',\n  'def parent(num):\\n    def first_child():\\n        return \"Hi, I am Emma\"\\n\\n    def second_child():\\n        return \"Call me Liam\"\\n\\n    if num == 1:\\n        return first_child\\n    else:\\n        return second_child',\n  'parent(1)',\n  'parent(2)',\n  'def my_decorator(func):\\n    def wrapper():\\n        print(\"Something is happening before the function is called.\")\\n        func()\\n        print(\"Something is happening after the function is called.\")\\n    return wrapper        ',\n  'def say_whee():\\n    print(\"Whee!\")',\n  'say_whee = my_decorator(say_whee)',\n  'say_whee()',\n  'say_whee',\n  'from datetime import datetime\\n\\ndef not_during_the_night(func):\\n    def wrapper():\\n        if 7 <= datetime.now().hour < 22:\\n            func()\\n        else:\\n            pass  # Hush, the neighbors are asleep\\n    return wrapper\\n\\ndef say_whee():\\n    print(\"Whee!\")\\n\\nsay_whee = not_during_the_night(say_whee)',\n  'say_whee()',\n  'say_whee',\n  'def my_decorator(func):\\n    def wrapper():\\n        print(\"Something is happening before the function is called.\")\\n        func()\\n        print(\"Something is happening after the function is called.\")\\n    return wrapper',\n  '@my_decorator\\ndef say_whee():\\n    print(\"Whee!\")',\n  'check = my_decorator(say_whee)\\ncheck',\n  'check = my_decorator(say_whee)\\ncheck()',\n  'check = my_decorator(check)\\ncheck()',\n  'check = my_decorator(check)\\ncheck()',\n  'check = my_decorator(check)\\ncheck()',\n  'say_whee()',\n  'say_whee()',\n  'from datetime import datetime\\n\\ndef not_during_the_night(func):\\n    def wrapper():\\n        if 7 <= datetime.now().hour < 22:\\n            func()\\n        else:\\n            pass  # Hush, the neighbors are asleep\\n    return wrapper\\n\\ndef say_whee():\\n    print(\"Whee!\")\\n\\nsay_whee = not_during_the_night(say_whee)',\n  'say_whee()',\n  'say_whee()',\n  'def my_decorator(func):\\n    def wrapper():\\n        print(\"Something is happening before the function is called.\")\\n        func()\\n        print(\"Something is happening after the function is called.\")\\n    return wrapper',\n  '@my_decorator\\ndef check():\\n    print(\"Whee!\")',\n  'check = my_decorator(check)\\ncheck()',\n  'def my_decorator(func):\\n    def wrapper():\\n        print(\"Something is happening before the function is called.\")\\n        func()\\n        print(\"Something is happening after the function is called.\")\\n    return wrapper',\n  '@my_decorator\\ndef check():\\n    print(\"Whee!\")',\n  'check = my_decorator(check)',\n  'check()',\n  'def my_decorator(func):\\n    def wrapper():\\n        print(\"Something is happening before the function is called.\")\\n        func()\\n        print(\"Something is happening after the function is called.\")\\n    return wrapper',\n  '@my_decorator\\ndef say_whee():\\n    print(\"Whee!\")',\n  'say_whee = my_decorator(say_whee)',\n  'say_whee()',\n  'def do_twice(func):\\n    def wrapper_do_twice():\\n        func()\\n        func()\\n    return wrapper_do_twice',\n  '@do_twice\\ndef say_whee():\\n    print(\"Whee!\")',\n  'say_whee()',\n  '@do_twice\\ndef greet(name):\\n    print(f\"hello {name}\")',\n  'greet(\"mohammad\")',\n  'def do_twice(func):\\n    def wrapper_do_twice(*args, **kwargs):\\n        func(*args, **kwargs)\\n        func(*args, **kwargs)\\n    return wrapper_do_twice',\n  'say_whee()',\n  'greet(\"mohammad\")',\n  '@do_twice\\ndef greet(name):\\n    print(f\"hello {name}\")',\n  'def do_twice(func):\\n    def wrapper_do_twice(*args, **kwargs):\\n        func(*args, **kwargs)\\n        func(*args, **kwargs)\\n    return wrapper_do_twice',\n  '@do_twice\\ndef say_whee():\\n    print(\"Whee!\")',\n  '@do_twice\\ndef greet(name):\\n    print(f\"hello {name}\")',\n  'say_whee()',\n  'greet(\"mohammad\")',\n  '@do_twice\\ndef return_greeting(name):\\n    print(\"Creating greeting\")\\n    return f\"Hi {name}\"',\n  'hi_mohammad = return_greeting(\"Mohammad\")',\n  'print(hi_mohammad)',\n  'def do_twice(func):\\n    def wrapper_do_twice(*args, **kwargs):\\n        func(*args, **kwargs)\\n        return func(*args, **kwargs)\\n    return wrapper_do_twice',\n  '@do_twice\\ndef return_greeting(name):\\n    print(\"Creating greeting\")\\n    return f\"Hi {name}\"',\n  'return_greeting(\"Mohammad\")',\n  'print',\n  'print.__name__',\n  'help(print)',\n  'say_whee',\n  'say_whee.__name__',\n  'help(say_whee)',\n  'help(return_greeting)',\n  'import functools\\n\\ndef do_twice(func):\\n    @functools.wraps(func)\\n    def wrapper_do_twice(*args, **kwargs):\\n        func(*args, **kwargs)\\n        return func(*args, **kwargs)\\n    return wrapper_do_twice',\n  'say_whee = do_twice(say_whee)',\n  'say_whee',\n  'say_whee.__name__',\n  '@do_twice\\ndef say_whee():\\n    print(\"Whee!\")',\n  'say_whee = do_twice(say_whee)',\n  'say_whee',\n  'say_whee.__name__',\n  'help(say_whee)',\n  'import functools\\n\\ndef decorator(func):\\n    @functools.wraps(func):\\n    def wrapper_decorator(*args, **kwargs):\\n        print(\"Start\")\\n        value = func(*args, **kwargs)\\n        print(\"End\")\\n        return value\\n    return wrapper_decorator',\n  'import functools\\n\\ndef decorator(func):\\n    @functools.wraps(func)\\n    def wrapper_decorator(*args, **kwargs):\\n        print(\"Start\")\\n        value = func(*args, **kwargs)\\n        print(\"End\")\\n        return value\\n    return wrapper_decorator',\n  'import functools\\nimport time\\n\\ndef timer(func):\\n    @functools.wraps(func)\\n    def wrapper_timer(*args, **kwargs):\\n        # print(\"Start\")\\n        start_time = time.perf_counter()\\n        value = func(*args, **kwargs)\\n        # print(\"End\")\\n        end_time = time.perf_counter()\\n        run_time = end_time - start_time\\n        print(f\"Finished {func.__name__!r} in {run_time:.4f} secs\")\\n        return value\\n    return wrapper_timer',\n  '@timer\\ndef waste_some_time(num_times):\\n    for _ in range(num_times):\\n        sum([i**2 for i in range(1000)])',\n  'waste_some_time(1)',\n  'waste_some_time(1000)',\n  '### Debugging Code',\n  'import functools\\n\\ndef debug(func):\\n    @functools.wraps(func)\\n    def wrapper_debug(*args, **kwargs):\\n        args_repr = [repr(a) for a in args]\\n        kwargs_repr = [f\"{k}={v!r}\" for k, v in kwargs.items()]\\n        signature = \", \".join(args_repr + kwargs_repr)\\n        print(f\"Calling {func.__name__}({signature})\")\\n        value = func(*args, **kwargs)\\n        print(f\"{func.__name__!r} returned {value!r}\")\\n        return value\\n    return wrapper_debug',\n  '@debug\\ndef make_greeting(name, age=None):\\n    if age is None:\\n        return f\"Howdy {name}!\"\\n    else:\\n        return f\"Whoa {name}! {age} already, you are growing up!\"',\n  'make_greeting(\"Mohammad\")',\n  'make_greeting(\"Richard\", age=112)',\n  'import functools\\n\\n\\ndef debug(func):\\n    @functools.wraps(func)\\n    def wrapper_debug(*args, **kwargs):\\n        args_repr = [repr(a) for a in args]\\n        kwargs_repr = [f\"{k}={v!r}\" for k, v in kwargs.items()]\\n        signature = \", \".join(args_repr)\\n        print(f\"Calling {func.__name__}({signature})\")\\n        value = func(*args, **kwargs)\\n        print(f\"{func.__name__!r} returned {value!r}\")\\n        return value\\n\\n    return wrapper_debug',\n  '@debug\\ndef make_greeting(name, age=None):\\n    if age is None:\\n        return f\"Howdy {name}!\"\\n    else:\\n        return f\"Whoa {name}! {age} already, you are growing up!\"',\n  'make_greeting(\"Richard\", age=112)',\n  'import functools\\n\\n\\ndef debug(func):\\n    @functools.wraps(func)\\n    def wrapper_debug(*args, **kwargs):\\n        args_repr = [repr(a) for a in args]\\n        kwargs_repr = [f\"{k}={v!r}\" for k, v in kwargs.items()]\\n        signature = \", \".join(args_repr + kwargs_repr)\\n        print(f\"Calling {func.__name__}({signature})\")\\n        value = func(*args, **kwargs)\\n        print(f\"{func.__name__!r} returned {value!r}\")\\n        return value\\n\\n    return wrapper_debug',\n  '@debug\\ndef make_greeting(name, age=None):\\n    if age is None:\\n        return f\"Howdy {name}!\"\\n    else:\\n        return f\"Whoa {name}! {age} already, you are growing up!\"',\n  'make_greeting(\"Mohammad\")',\n  'make_greeting(\"Richard\", age=112)',\n  'import functools\\n\\n\\ndef debug(func):\\n    @functools.wraps(func)\\n    def wrapper_debug(*args, **kwargs):\\n        args_repr = [repr(a) for a in args]\\n        kwargs_repr = [f\"{k}={v!r}\" for k, v in kwargs.items()]\\n        signature = \", \".join(args_repr + kwargs_repr)\\n        print(f\"Calling {func.__name__}({signature})\")\\n        value = func(*args, **kwargs)\\n        print(f\"{func.__name__!r} returned {value!r}\")\\n        return value\\n\\n    return wrapper_debug',\n  '@debug\\ndef make_greeting(name, age=None):\\n    if age is None:\\n        return f\"Howdy {name}!\"\\n    else:\\n        return f\"Whoa {name}! {age} already, you are growing up!\"',\n  'make_greeting(\"Mohammad\")',\n  'import math\\n\\nmath.factorial = debug(math.factorial)\\n\\ndef approximate_e(terms = 18):\\n    return sum(1/math.factorial(n) for n in range(terms))',\n  'approximate_e(5)',\n  'import functools\\nimport time \\n\\n\\ndef slow_down(func):\\n    @functools.wraps(func)\\n    def wrapper_slow_down(*args, **kwargs):\\n        # print(\"Start\")\\n        time.sleep(1)\\n        return func(*args, **kwargs)\\n        # value = func(*args, **kwargs)\\n        # print(\"End\")\\n        # return value\\n\\n    return wrapper_slow_down',\n  '@slow_down\\ndef countdown(from_unmber):\\n    if from_unmber < 1:\\n        print(\"Liftoff!\")\\n    else:\\n        print(from_unmber)\\n        countdown(from_unmber-1)',\n  'countdown(3)',\n  '@slow_down\\ndef countdown(from_number):\\n    if from_number < 1:\\n        print(\"Liftoff!\")\\n    else:\\n        print(from_number)\\n        countdown(from_number-1)',\n  'countdown(3)',\n  'import random\\n\\nPLUGINS = dict()\\n\\n\\ndef register(func):\\n    \"\"\"Register a function as a plug-in\"\"\"\\n    PLUGINS[func.__name__] = func\\n    return func',\n  '@register\\ndef say_hello(name):\\n    return f\\'Hello {name}\\'\\n\\n@register\\ndef be_awesome(name):\\n    return f\"Yo {name}, together we are the awesome!\"\\n\\ndef randomly_greet(name):\\n    greeter, greeter_func = random.choice(list(PLUGINS.items()))\\n    print(f\"Using {greeter!r}\")\\n    return greeter_func(name)',\n  'PLUGINS',\n  'randomly_greet(\"Alice\")',\n  'randomly_greet(\"Alice\")',\n  'randomly_greet(\"Alice\")',\n  'globals()'],\n '_oh': {2: 3,\n  4: 'Hello Bob',\n  5: 'Yo Bob, together we are the awesomest!',\n  10: <function __main__.parent.<locals>.first_child()>,\n  11: <function __main__.parent.<locals>.second_child()>,\n  16: <function __main__.my_decorator.<locals>.wrapper()>,\n  19: <function __main__.not_during_the_night.<locals>.wrapper()>,\n  22: <function __main__.my_decorator.<locals>.wrapper()>,\n  62: 'Hi Mohammad',\n  63: <function print(*args, sep=' ', end='\\n', file=None, flush=False)>,\n  64: 'print',\n  66: <function __main__.do_twice.<locals>.wrapper_do_twice(*args, **kwargs)>,\n  67: 'wrapper_do_twice',\n  72: <function __main__.do_twice.<locals>.wrapper_do_twice(*args, **kwargs)>,\n  73: 'wrapper_do_twice',\n  76: <function __main__.say_whee()>,\n  77: 'say_whee',\n  88: 'Howdy Mohammad!',\n  89: 'Whoa Richard! 112 already, you are growing up!',\n  92: 'Whoa Richard! 112 already, you are growing up!',\n  95: 'Howdy Mohammad!',\n  96: 'Whoa Richard! 112 already, you are growing up!',\n  99: 'Howdy Mohammad!',\n  101: 2.708333333333333,\n  109: {'say_hello': <function __main__.say_hello(name)>,\n   'be_awesome': <function __main__.be_awesome(name)>},\n  110: 'Yo Alice, together we are the awesome!',\n  111: 'Hello Alice',\n  112: 'Yo Alice, together we are the awesome!'},\n '_dh': [WindowsPath('C:/Users/USER/PycharmProjects/Python-3-Object-Oriented-Programming-Third-Edition/Chapter10/realpython')],\n 'In': ['',\n  'print(\"mohammad\")',\n  'def add_one(number):\\n    return number + 1\\n\\nadd_one(2)',\n  'def say_hello(name):\\n    return f\"Hello {name}\"\\n\\ndef be_awesome(name):\\n    return f\"Yo {name}, together we are the awesomest!\"\\n\\ndef greet_bob(greeter_func):\\n    return greeter_func(\"Bob\")',\n  'greet_bob(say_hello)',\n  'greet_bob(be_awesome)',\n  'def parent():\\n    print(\"Printing from the parent() function\")\\n\\n    def first_child():\\n        print(\"Printing from the first_child() function\")\\n\\n    def second_child():\\n        print(\"Printing from the second_child() function\")',\n  'def parent():\\n    print(\"Printing from the parent() function\")\\n\\n    def first_child():\\n        print(\"Printing from the first_child() function\")\\n\\n    def second_child():\\n        print(\"Printing from the second_child() function\")\\n\\n    second_child()\\n    first_child()',\n  'parent()',\n  'def parent(num):\\n    def first_child():\\n        return \"Hi, I am Emma\"\\n\\n    def second_child():\\n        return \"Call me Liam\"\\n\\n    if num == 1:\\n        return first_child\\n    else:\\n        return second_child',\n  'parent(1)',\n  'parent(2)',\n  'def my_decorator(func):\\n    def wrapper():\\n        print(\"Something is happening before the function is called.\")\\n        func()\\n        print(\"Something is happening after the function is called.\")\\n    return wrapper        ',\n  'def say_whee():\\n    print(\"Whee!\")',\n  'say_whee = my_decorator(say_whee)',\n  'say_whee()',\n  'say_whee',\n  'from datetime import datetime\\n\\ndef not_during_the_night(func):\\n    def wrapper():\\n        if 7 <= datetime.now().hour < 22:\\n            func()\\n        else:\\n            pass  # Hush, the neighbors are asleep\\n    return wrapper\\n\\ndef say_whee():\\n    print(\"Whee!\")\\n\\nsay_whee = not_during_the_night(say_whee)',\n  'say_whee()',\n  'say_whee',\n  'def my_decorator(func):\\n    def wrapper():\\n        print(\"Something is happening before the function is called.\")\\n        func()\\n        print(\"Something is happening after the function is called.\")\\n    return wrapper',\n  '@my_decorator\\ndef say_whee():\\n    print(\"Whee!\")',\n  'check = my_decorator(say_whee)\\ncheck',\n  'check = my_decorator(say_whee)\\ncheck()',\n  'check = my_decorator(check)\\ncheck()',\n  'check = my_decorator(check)\\ncheck()',\n  'check = my_decorator(check)\\ncheck()',\n  'say_whee()',\n  'say_whee()',\n  'from datetime import datetime\\n\\ndef not_during_the_night(func):\\n    def wrapper():\\n        if 7 <= datetime.now().hour < 22:\\n            func()\\n        else:\\n            pass  # Hush, the neighbors are asleep\\n    return wrapper\\n\\ndef say_whee():\\n    print(\"Whee!\")\\n\\nsay_whee = not_during_the_night(say_whee)',\n  'say_whee()',\n  'say_whee()',\n  'def my_decorator(func):\\n    def wrapper():\\n        print(\"Something is happening before the function is called.\")\\n        func()\\n        print(\"Something is happening after the function is called.\")\\n    return wrapper',\n  '@my_decorator\\ndef check():\\n    print(\"Whee!\")',\n  'check = my_decorator(check)\\ncheck()',\n  'def my_decorator(func):\\n    def wrapper():\\n        print(\"Something is happening before the function is called.\")\\n        func()\\n        print(\"Something is happening after the function is called.\")\\n    return wrapper',\n  '@my_decorator\\ndef check():\\n    print(\"Whee!\")',\n  'check = my_decorator(check)',\n  'check()',\n  'def my_decorator(func):\\n    def wrapper():\\n        print(\"Something is happening before the function is called.\")\\n        func()\\n        print(\"Something is happening after the function is called.\")\\n    return wrapper',\n  '@my_decorator\\ndef say_whee():\\n    print(\"Whee!\")',\n  'say_whee = my_decorator(say_whee)',\n  'say_whee()',\n  'def do_twice(func):\\n    def wrapper_do_twice():\\n        func()\\n        func()\\n    return wrapper_do_twice',\n  '@do_twice\\ndef say_whee():\\n    print(\"Whee!\")',\n  'say_whee()',\n  '@do_twice\\ndef greet(name):\\n    print(f\"hello {name}\")',\n  'greet(\"mohammad\")',\n  'def do_twice(func):\\n    def wrapper_do_twice(*args, **kwargs):\\n        func(*args, **kwargs)\\n        func(*args, **kwargs)\\n    return wrapper_do_twice',\n  'say_whee()',\n  'greet(\"mohammad\")',\n  '@do_twice\\ndef greet(name):\\n    print(f\"hello {name}\")',\n  'def do_twice(func):\\n    def wrapper_do_twice(*args, **kwargs):\\n        func(*args, **kwargs)\\n        func(*args, **kwargs)\\n    return wrapper_do_twice',\n  '@do_twice\\ndef say_whee():\\n    print(\"Whee!\")',\n  '@do_twice\\ndef greet(name):\\n    print(f\"hello {name}\")',\n  'say_whee()',\n  'greet(\"mohammad\")',\n  '@do_twice\\ndef return_greeting(name):\\n    print(\"Creating greeting\")\\n    return f\"Hi {name}\"',\n  'hi_mohammad = return_greeting(\"Mohammad\")',\n  'print(hi_mohammad)',\n  'def do_twice(func):\\n    def wrapper_do_twice(*args, **kwargs):\\n        func(*args, **kwargs)\\n        return func(*args, **kwargs)\\n    return wrapper_do_twice',\n  '@do_twice\\ndef return_greeting(name):\\n    print(\"Creating greeting\")\\n    return f\"Hi {name}\"',\n  'return_greeting(\"Mohammad\")',\n  'print',\n  'print.__name__',\n  'help(print)',\n  'say_whee',\n  'say_whee.__name__',\n  'help(say_whee)',\n  'help(return_greeting)',\n  'import functools\\n\\ndef do_twice(func):\\n    @functools.wraps(func)\\n    def wrapper_do_twice(*args, **kwargs):\\n        func(*args, **kwargs)\\n        return func(*args, **kwargs)\\n    return wrapper_do_twice',\n  'say_whee = do_twice(say_whee)',\n  'say_whee',\n  'say_whee.__name__',\n  '@do_twice\\ndef say_whee():\\n    print(\"Whee!\")',\n  'say_whee = do_twice(say_whee)',\n  'say_whee',\n  'say_whee.__name__',\n  'help(say_whee)',\n  'import functools\\n\\ndef decorator(func):\\n    @functools.wraps(func):\\n    def wrapper_decorator(*args, **kwargs):\\n        print(\"Start\")\\n        value = func(*args, **kwargs)\\n        print(\"End\")\\n        return value\\n    return wrapper_decorator',\n  'import functools\\n\\ndef decorator(func):\\n    @functools.wraps(func)\\n    def wrapper_decorator(*args, **kwargs):\\n        print(\"Start\")\\n        value = func(*args, **kwargs)\\n        print(\"End\")\\n        return value\\n    return wrapper_decorator',\n  'import functools\\nimport time\\n\\ndef timer(func):\\n    @functools.wraps(func)\\n    def wrapper_timer(*args, **kwargs):\\n        # print(\"Start\")\\n        start_time = time.perf_counter()\\n        value = func(*args, **kwargs)\\n        # print(\"End\")\\n        end_time = time.perf_counter()\\n        run_time = end_time - start_time\\n        print(f\"Finished {func.__name__!r} in {run_time:.4f} secs\")\\n        return value\\n    return wrapper_timer',\n  '@timer\\ndef waste_some_time(num_times):\\n    for _ in range(num_times):\\n        sum([i**2 for i in range(1000)])',\n  'waste_some_time(1)',\n  'waste_some_time(1000)',\n  '### Debugging Code',\n  'import functools\\n\\ndef debug(func):\\n    @functools.wraps(func)\\n    def wrapper_debug(*args, **kwargs):\\n        args_repr = [repr(a) for a in args]\\n        kwargs_repr = [f\"{k}={v!r}\" for k, v in kwargs.items()]\\n        signature = \", \".join(args_repr + kwargs_repr)\\n        print(f\"Calling {func.__name__}({signature})\")\\n        value = func(*args, **kwargs)\\n        print(f\"{func.__name__!r} returned {value!r}\")\\n        return value\\n    return wrapper_debug',\n  '@debug\\ndef make_greeting(name, age=None):\\n    if age is None:\\n        return f\"Howdy {name}!\"\\n    else:\\n        return f\"Whoa {name}! {age} already, you are growing up!\"',\n  'make_greeting(\"Mohammad\")',\n  'make_greeting(\"Richard\", age=112)',\n  'import functools\\n\\n\\ndef debug(func):\\n    @functools.wraps(func)\\n    def wrapper_debug(*args, **kwargs):\\n        args_repr = [repr(a) for a in args]\\n        kwargs_repr = [f\"{k}={v!r}\" for k, v in kwargs.items()]\\n        signature = \", \".join(args_repr)\\n        print(f\"Calling {func.__name__}({signature})\")\\n        value = func(*args, **kwargs)\\n        print(f\"{func.__name__!r} returned {value!r}\")\\n        return value\\n\\n    return wrapper_debug',\n  '@debug\\ndef make_greeting(name, age=None):\\n    if age is None:\\n        return f\"Howdy {name}!\"\\n    else:\\n        return f\"Whoa {name}! {age} already, you are growing up!\"',\n  'make_greeting(\"Richard\", age=112)',\n  'import functools\\n\\n\\ndef debug(func):\\n    @functools.wraps(func)\\n    def wrapper_debug(*args, **kwargs):\\n        args_repr = [repr(a) for a in args]\\n        kwargs_repr = [f\"{k}={v!r}\" for k, v in kwargs.items()]\\n        signature = \", \".join(args_repr + kwargs_repr)\\n        print(f\"Calling {func.__name__}({signature})\")\\n        value = func(*args, **kwargs)\\n        print(f\"{func.__name__!r} returned {value!r}\")\\n        return value\\n\\n    return wrapper_debug',\n  '@debug\\ndef make_greeting(name, age=None):\\n    if age is None:\\n        return f\"Howdy {name}!\"\\n    else:\\n        return f\"Whoa {name}! {age} already, you are growing up!\"',\n  'make_greeting(\"Mohammad\")',\n  'make_greeting(\"Richard\", age=112)',\n  'import functools\\n\\n\\ndef debug(func):\\n    @functools.wraps(func)\\n    def wrapper_debug(*args, **kwargs):\\n        args_repr = [repr(a) for a in args]\\n        kwargs_repr = [f\"{k}={v!r}\" for k, v in kwargs.items()]\\n        signature = \", \".join(args_repr + kwargs_repr)\\n        print(f\"Calling {func.__name__}({signature})\")\\n        value = func(*args, **kwargs)\\n        print(f\"{func.__name__!r} returned {value!r}\")\\n        return value\\n\\n    return wrapper_debug',\n  '@debug\\ndef make_greeting(name, age=None):\\n    if age is None:\\n        return f\"Howdy {name}!\"\\n    else:\\n        return f\"Whoa {name}! {age} already, you are growing up!\"',\n  'make_greeting(\"Mohammad\")',\n  'import math\\n\\nmath.factorial = debug(math.factorial)\\n\\ndef approximate_e(terms = 18):\\n    return sum(1/math.factorial(n) for n in range(terms))',\n  'approximate_e(5)',\n  'import functools\\nimport time \\n\\n\\ndef slow_down(func):\\n    @functools.wraps(func)\\n    def wrapper_slow_down(*args, **kwargs):\\n        # print(\"Start\")\\n        time.sleep(1)\\n        return func(*args, **kwargs)\\n        # value = func(*args, **kwargs)\\n        # print(\"End\")\\n        # return value\\n\\n    return wrapper_slow_down',\n  '@slow_down\\ndef countdown(from_unmber):\\n    if from_unmber < 1:\\n        print(\"Liftoff!\")\\n    else:\\n        print(from_unmber)\\n        countdown(from_unmber-1)',\n  'countdown(3)',\n  '@slow_down\\ndef countdown(from_number):\\n    if from_number < 1:\\n        print(\"Liftoff!\")\\n    else:\\n        print(from_number)\\n        countdown(from_number-1)',\n  'countdown(3)',\n  'import random\\n\\nPLUGINS = dict()\\n\\n\\ndef register(func):\\n    \"\"\"Register a function as a plug-in\"\"\"\\n    PLUGINS[func.__name__] = func\\n    return func',\n  '@register\\ndef say_hello(name):\\n    return f\\'Hello {name}\\'\\n\\n@register\\ndef be_awesome(name):\\n    return f\"Yo {name}, together we are the awesome!\"\\n\\ndef randomly_greet(name):\\n    greeter, greeter_func = random.choice(list(PLUGINS.items()))\\n    print(f\"Using {greeter!r}\")\\n    return greeter_func(name)',\n  'PLUGINS',\n  'randomly_greet(\"Alice\")',\n  'randomly_greet(\"Alice\")',\n  'randomly_greet(\"Alice\")',\n  'globals()'],\n 'Out': {2: 3,\n  4: 'Hello Bob',\n  5: 'Yo Bob, together we are the awesomest!',\n  10: <function __main__.parent.<locals>.first_child()>,\n  11: <function __main__.parent.<locals>.second_child()>,\n  16: <function __main__.my_decorator.<locals>.wrapper()>,\n  19: <function __main__.not_during_the_night.<locals>.wrapper()>,\n  22: <function __main__.my_decorator.<locals>.wrapper()>,\n  62: 'Hi Mohammad',\n  63: <function print(*args, sep=' ', end='\\n', file=None, flush=False)>,\n  64: 'print',\n  66: <function __main__.do_twice.<locals>.wrapper_do_twice(*args, **kwargs)>,\n  67: 'wrapper_do_twice',\n  72: <function __main__.do_twice.<locals>.wrapper_do_twice(*args, **kwargs)>,\n  73: 'wrapper_do_twice',\n  76: <function __main__.say_whee()>,\n  77: 'say_whee',\n  88: 'Howdy Mohammad!',\n  89: 'Whoa Richard! 112 already, you are growing up!',\n  92: 'Whoa Richard! 112 already, you are growing up!',\n  95: 'Howdy Mohammad!',\n  96: 'Whoa Richard! 112 already, you are growing up!',\n  99: 'Howdy Mohammad!',\n  101: 2.708333333333333,\n  109: {'say_hello': <function __main__.say_hello(name)>,\n   'be_awesome': <function __main__.be_awesome(name)>},\n  110: 'Yo Alice, together we are the awesome!',\n  111: 'Hello Alice',\n  112: 'Yo Alice, together we are the awesome!'},\n 'get_ipython': <bound method InteractiveShell.get_ipython of <ipykernel.zmqshell.ZMQInteractiveShell object at 0x000001DA8D735ED0>>,\n 'exit': <IPython.core.autocall.ZMQExitAutocall at 0x1da8d76d650>,\n 'quit': <IPython.core.autocall.ZMQExitAutocall at 0x1da8d76d650>,\n 'open': <function io.open(file, mode='r', buffering=-1, encoding=None, errors=None, newline=None, closefd=True, opener=None)>,\n '_': 'Yo Alice, together we are the awesome!',\n '__': 'Hello Alice',\n '___': 'Yo Alice, together we are the awesome!',\n 'sys': <module 'sys' (built-in)>,\n 'remove_imported_pydev_package': <function pydev_jupyter_utils.remove_imported_pydev_package()>,\n '_pydevd_bundle': <module '_pydevd_bundle' from 'C:\\\\Program Files\\\\JetBrains\\\\PyCharm 2022.3\\\\plugins\\\\python\\\\helpers\\\\pydev\\\\_pydevd_bundle\\\\__init__.py'>,\n 'pydev_jupyter_vars': <module 'pydev_jupyter_vars' from 'C:\\\\Program Files\\\\JetBrains\\\\PyCharm 2022.3\\\\plugins\\\\python\\\\helpers-pro\\\\jupyter_debug\\\\pydev_jupyter_vars.py'>,\n '_i': 'randomly_greet(\"Alice\")',\n '_ii': 'randomly_greet(\"Alice\")',\n '_iii': 'randomly_greet(\"Alice\")',\n '_i1': 'print(\"mohammad\")',\n '_i2': 'def add_one(number):\\n    return number + 1\\n\\nadd_one(2)',\n 'add_one': <function __main__.add_one(number)>,\n '_2': 3,\n '_i3': 'def say_hello(name):\\n    return f\"Hello {name}\"\\n\\ndef be_awesome(name):\\n    return f\"Yo {name}, together we are the awesomest!\"\\n\\ndef greet_bob(greeter_func):\\n    return greeter_func(\"Bob\")',\n 'say_hello': <function __main__.say_hello(name)>,\n 'be_awesome': <function __main__.be_awesome(name)>,\n 'greet_bob': <function __main__.greet_bob(greeter_func)>,\n '_i4': 'greet_bob(say_hello)',\n '_4': 'Hello Bob',\n '_i5': 'greet_bob(be_awesome)',\n '_5': 'Yo Bob, together we are the awesomest!',\n '_i6': 'def parent():\\n    print(\"Printing from the parent() function\")\\n\\n    def first_child():\\n        print(\"Printing from the first_child() function\")\\n\\n    def second_child():\\n        print(\"Printing from the second_child() function\")',\n 'parent': <function __main__.parent(num)>,\n '_i7': 'def parent():\\n    print(\"Printing from the parent() function\")\\n\\n    def first_child():\\n        print(\"Printing from the first_child() function\")\\n\\n    def second_child():\\n        print(\"Printing from the second_child() function\")\\n\\n    second_child()\\n    first_child()',\n '_i8': 'parent()',\n '_i9': 'def parent(num):\\n    def first_child():\\n        return \"Hi, I am Emma\"\\n\\n    def second_child():\\n        return \"Call me Liam\"\\n\\n    if num == 1:\\n        return first_child\\n    else:\\n        return second_child',\n '_i10': 'parent(1)',\n '_10': <function __main__.parent.<locals>.first_child()>,\n '_i11': 'parent(2)',\n '_11': <function __main__.parent.<locals>.second_child()>,\n '_i12': 'def my_decorator(func):\\n    def wrapper():\\n        print(\"Something is happening before the function is called.\")\\n        func()\\n        print(\"Something is happening after the function is called.\")\\n    return wrapper        ',\n 'my_decorator': <function __main__.my_decorator(func)>,\n '_i13': 'def say_whee():\\n    print(\"Whee!\")',\n 'say_whee': <function __main__.say_whee()>,\n '_i14': 'say_whee = my_decorator(say_whee)',\n '_i15': 'say_whee()',\n '_i16': 'say_whee',\n '_16': <function __main__.my_decorator.<locals>.wrapper()>,\n '_i17': 'from datetime import datetime\\n\\ndef not_during_the_night(func):\\n    def wrapper():\\n        if 7 <= datetime.now().hour < 22:\\n            func()\\n        else:\\n            pass  # Hush, the neighbors are asleep\\n    return wrapper\\n\\ndef say_whee():\\n    print(\"Whee!\")\\n\\nsay_whee = not_during_the_night(say_whee)',\n 'datetime': datetime.datetime,\n 'not_during_the_night': <function __main__.not_during_the_night(func)>,\n '_i18': 'say_whee()',\n '_i19': 'say_whee',\n '_19': <function __main__.not_during_the_night.<locals>.wrapper()>,\n '_i20': 'def my_decorator(func):\\n    def wrapper():\\n        print(\"Something is happening before the function is called.\")\\n        func()\\n        print(\"Something is happening after the function is called.\")\\n    return wrapper',\n '_i21': '@my_decorator\\ndef say_whee():\\n    print(\"Whee!\")',\n '_i22': 'check = my_decorator(say_whee)\\ncheck',\n 'check': <function __main__.my_decorator.<locals>.wrapper()>,\n '_22': <function __main__.my_decorator.<locals>.wrapper()>,\n '_i23': 'check = my_decorator(say_whee)\\ncheck()',\n '_i24': 'check = my_decorator(check)\\ncheck()',\n '_i25': 'check = my_decorator(check)\\ncheck()',\n '_i26': 'check = my_decorator(check)\\ncheck()',\n '_i27': 'say_whee()',\n '_i28': 'say_whee()',\n '_i29': 'from datetime import datetime\\n\\ndef not_during_the_night(func):\\n    def wrapper():\\n        if 7 <= datetime.now().hour < 22:\\n            func()\\n        else:\\n            pass  # Hush, the neighbors are asleep\\n    return wrapper\\n\\ndef say_whee():\\n    print(\"Whee!\")\\n\\nsay_whee = not_during_the_night(say_whee)',\n '_i30': 'say_whee()',\n '_i31': 'say_whee()',\n '_i32': 'def my_decorator(func):\\n    def wrapper():\\n        print(\"Something is happening before the function is called.\")\\n        func()\\n        print(\"Something is happening after the function is called.\")\\n    return wrapper',\n '_i33': '@my_decorator\\ndef check():\\n    print(\"Whee!\")',\n '_i34': 'check = my_decorator(check)\\ncheck()',\n '_i35': 'def my_decorator(func):\\n    def wrapper():\\n        print(\"Something is happening before the function is called.\")\\n        func()\\n        print(\"Something is happening after the function is called.\")\\n    return wrapper',\n '_i36': '@my_decorator\\ndef check():\\n    print(\"Whee!\")',\n '_i37': 'check = my_decorator(check)',\n '_i38': 'check()',\n '_i39': 'def my_decorator(func):\\n    def wrapper():\\n        print(\"Something is happening before the function is called.\")\\n        func()\\n        print(\"Something is happening after the function is called.\")\\n    return wrapper',\n '_i40': '@my_decorator\\ndef say_whee():\\n    print(\"Whee!\")',\n '_i41': 'say_whee = my_decorator(say_whee)',\n '_i42': 'say_whee()',\n '_i43': 'def do_twice(func):\\n    def wrapper_do_twice():\\n        func()\\n        func()\\n    return wrapper_do_twice',\n 'do_twice': <function __main__.do_twice(func)>,\n '_i44': '@do_twice\\ndef say_whee():\\n    print(\"Whee!\")',\n '_i45': 'say_whee()',\n '_i46': '@do_twice\\ndef greet(name):\\n    print(f\"hello {name}\")',\n 'greet': <function __main__.do_twice.<locals>.wrapper_do_twice(*args, **kwargs)>,\n '_i47': 'greet(\"mohammad\")',\n '_i48': 'def do_twice(func):\\n    def wrapper_do_twice(*args, **kwargs):\\n        func(*args, **kwargs)\\n        func(*args, **kwargs)\\n    return wrapper_do_twice',\n '_i49': 'say_whee()',\n '_i50': 'greet(\"mohammad\")',\n '_i51': '@do_twice\\ndef greet(name):\\n    print(f\"hello {name}\")',\n '_i52': 'def do_twice(func):\\n    def wrapper_do_twice(*args, **kwargs):\\n        func(*args, **kwargs)\\n        func(*args, **kwargs)\\n    return wrapper_do_twice',\n '_i53': '@do_twice\\ndef say_whee():\\n    print(\"Whee!\")',\n '_i54': '@do_twice\\ndef greet(name):\\n    print(f\"hello {name}\")',\n '_i55': 'say_whee()',\n '_i56': 'greet(\"mohammad\")',\n '_i57': '@do_twice\\ndef return_greeting(name):\\n    print(\"Creating greeting\")\\n    return f\"Hi {name}\"',\n 'return_greeting': <function __main__.do_twice.<locals>.wrapper_do_twice(*args, **kwargs)>,\n '_i58': 'hi_mohammad = return_greeting(\"Mohammad\")',\n 'hi_mohammad': None,\n '_i59': 'print(hi_mohammad)',\n '_i60': 'def do_twice(func):\\n    def wrapper_do_twice(*args, **kwargs):\\n        func(*args, **kwargs)\\n        return func(*args, **kwargs)\\n    return wrapper_do_twice',\n '_i61': '@do_twice\\ndef return_greeting(name):\\n    print(\"Creating greeting\")\\n    return f\"Hi {name}\"',\n '_i62': 'return_greeting(\"Mohammad\")',\n '_62': 'Hi Mohammad',\n '_i63': 'print',\n '_63': <function print(*args, sep=' ', end='\\n', file=None, flush=False)>,\n '_i64': 'print.__name__',\n '_64': 'print',\n '_i65': 'help(print)',\n '_i66': 'say_whee',\n '_66': <function __main__.do_twice.<locals>.wrapper_do_twice(*args, **kwargs)>,\n '_i67': 'say_whee.__name__',\n '_67': 'wrapper_do_twice',\n '_i68': 'help(say_whee)',\n '_i69': 'help(return_greeting)',\n '_i70': 'import functools\\n\\ndef do_twice(func):\\n    @functools.wraps(func)\\n    def wrapper_do_twice(*args, **kwargs):\\n        func(*args, **kwargs)\\n        return func(*args, **kwargs)\\n    return wrapper_do_twice',\n 'functools': <module 'functools' from 'C:\\\\Users\\\\USER\\\\AppData\\\\Local\\\\Programs\\\\Python\\\\Python311\\\\Lib\\\\functools.py'>,\n '_i71': 'say_whee = do_twice(say_whee)',\n '_i72': 'say_whee',\n '_72': <function __main__.do_twice.<locals>.wrapper_do_twice(*args, **kwargs)>,\n '_i73': 'say_whee.__name__',\n '_73': 'wrapper_do_twice',\n '_i74': '@do_twice\\ndef say_whee():\\n    print(\"Whee!\")',\n '_i75': 'say_whee = do_twice(say_whee)',\n '_i76': 'say_whee',\n '_76': <function __main__.say_whee()>,\n '_i77': 'say_whee.__name__',\n '_77': 'say_whee',\n '_i78': 'help(say_whee)',\n '_i79': 'import functools\\n\\ndef decorator(func):\\n    @functools.wraps(func):\\n    def wrapper_decorator(*args, **kwargs):\\n        print(\"Start\")\\n        value = func(*args, **kwargs)\\n        print(\"End\")\\n        return value\\n    return wrapper_decorator',\n '_i80': 'import functools\\n\\ndef decorator(func):\\n    @functools.wraps(func)\\n    def wrapper_decorator(*args, **kwargs):\\n        print(\"Start\")\\n        value = func(*args, **kwargs)\\n        print(\"End\")\\n        return value\\n    return wrapper_decorator',\n 'decorator': <function __main__.decorator(func)>,\n '_i81': 'import functools\\nimport time\\n\\ndef timer(func):\\n    @functools.wraps(func)\\n    def wrapper_timer(*args, **kwargs):\\n        # print(\"Start\")\\n        start_time = time.perf_counter()\\n        value = func(*args, **kwargs)\\n        # print(\"End\")\\n        end_time = time.perf_counter()\\n        run_time = end_time - start_time\\n        print(f\"Finished {func.__name__!r} in {run_time:.4f} secs\")\\n        return value\\n    return wrapper_timer',\n 'time': <module 'time' (built-in)>,\n 'timer': <function __main__.timer(func)>,\n '_i82': '@timer\\ndef waste_some_time(num_times):\\n    for _ in range(num_times):\\n        sum([i**2 for i in range(1000)])',\n 'waste_some_time': <function __main__.waste_some_time(num_times)>,\n '_i83': 'waste_some_time(1)',\n '_i84': 'waste_some_time(1000)',\n '_i85': '### Debugging Code',\n '_i86': 'import functools\\n\\ndef debug(func):\\n    @functools.wraps(func)\\n    def wrapper_debug(*args, **kwargs):\\n        args_repr = [repr(a) for a in args]\\n        kwargs_repr = [f\"{k}={v!r}\" for k, v in kwargs.items()]\\n        signature = \", \".join(args_repr + kwargs_repr)\\n        print(f\"Calling {func.__name__}({signature})\")\\n        value = func(*args, **kwargs)\\n        print(f\"{func.__name__!r} returned {value!r}\")\\n        return value\\n    return wrapper_debug',\n 'debug': <function __main__.debug(func)>,\n '_i87': '@debug\\ndef make_greeting(name, age=None):\\n    if age is None:\\n        return f\"Howdy {name}!\"\\n    else:\\n        return f\"Whoa {name}! {age} already, you are growing up!\"',\n 'make_greeting': <function __main__.make_greeting(name, age=None)>,\n '_i88': 'make_greeting(\"Mohammad\")',\n '_88': 'Howdy Mohammad!',\n '_i89': 'make_greeting(\"Richard\", age=112)',\n '_89': 'Whoa Richard! 112 already, you are growing up!',\n '_i90': 'import functools\\n\\n\\ndef debug(func):\\n    @functools.wraps(func)\\n    def wrapper_debug(*args, **kwargs):\\n        args_repr = [repr(a) for a in args]\\n        kwargs_repr = [f\"{k}={v!r}\" for k, v in kwargs.items()]\\n        signature = \", \".join(args_repr)\\n        print(f\"Calling {func.__name__}({signature})\")\\n        value = func(*args, **kwargs)\\n        print(f\"{func.__name__!r} returned {value!r}\")\\n        return value\\n\\n    return wrapper_debug',\n '_i91': '@debug\\ndef make_greeting(name, age=None):\\n    if age is None:\\n        return f\"Howdy {name}!\"\\n    else:\\n        return f\"Whoa {name}! {age} already, you are growing up!\"',\n '_i92': 'make_greeting(\"Richard\", age=112)',\n '_92': 'Whoa Richard! 112 already, you are growing up!',\n '_i93': 'import functools\\n\\n\\ndef debug(func):\\n    @functools.wraps(func)\\n    def wrapper_debug(*args, **kwargs):\\n        args_repr = [repr(a) for a in args]\\n        kwargs_repr = [f\"{k}={v!r}\" for k, v in kwargs.items()]\\n        signature = \", \".join(args_repr + kwargs_repr)\\n        print(f\"Calling {func.__name__}({signature})\")\\n        value = func(*args, **kwargs)\\n        print(f\"{func.__name__!r} returned {value!r}\")\\n        return value\\n\\n    return wrapper_debug',\n '_i94': '@debug\\ndef make_greeting(name, age=None):\\n    if age is None:\\n        return f\"Howdy {name}!\"\\n    else:\\n        return f\"Whoa {name}! {age} already, you are growing up!\"',\n '_i95': 'make_greeting(\"Mohammad\")',\n '_95': 'Howdy Mohammad!',\n '_i96': 'make_greeting(\"Richard\", age=112)',\n '_96': 'Whoa Richard! 112 already, you are growing up!',\n '_i97': 'import functools\\n\\n\\ndef debug(func):\\n    @functools.wraps(func)\\n    def wrapper_debug(*args, **kwargs):\\n        args_repr = [repr(a) for a in args]\\n        kwargs_repr = [f\"{k}={v!r}\" for k, v in kwargs.items()]\\n        signature = \", \".join(args_repr + kwargs_repr)\\n        print(f\"Calling {func.__name__}({signature})\")\\n        value = func(*args, **kwargs)\\n        print(f\"{func.__name__!r} returned {value!r}\")\\n        return value\\n\\n    return wrapper_debug',\n '_i98': '@debug\\ndef make_greeting(name, age=None):\\n    if age is None:\\n        return f\"Howdy {name}!\"\\n    else:\\n        return f\"Whoa {name}! {age} already, you are growing up!\"',\n '_i99': 'make_greeting(\"Mohammad\")',\n '_99': 'Howdy Mohammad!',\n '_i100': 'import math\\n\\nmath.factorial = debug(math.factorial)\\n\\ndef approximate_e(terms = 18):\\n    return sum(1/math.factorial(n) for n in range(terms))',\n 'math': <module 'math' (built-in)>,\n 'approximate_e': <function __main__.approximate_e(terms=18)>,\n '_i101': 'approximate_e(5)',\n '_101': 2.708333333333333,\n '_i102': 'import functools\\nimport time \\n\\n\\ndef slow_down(func):\\n    @functools.wraps(func)\\n    def wrapper_slow_down(*args, **kwargs):\\n        # print(\"Start\")\\n        time.sleep(1)\\n        return func(*args, **kwargs)\\n        # value = func(*args, **kwargs)\\n        # print(\"End\")\\n        # return value\\n\\n    return wrapper_slow_down',\n 'slow_down': <function __main__.slow_down(func)>,\n '_i103': '@slow_down\\ndef countdown(from_unmber):\\n    if from_unmber < 1:\\n        print(\"Liftoff!\")\\n    else:\\n        print(from_unmber)\\n        countdown(from_unmber-1)',\n 'countdown': <function __main__.countdown(from_number)>,\n '_i104': 'countdown(3)',\n '_i105': '@slow_down\\ndef countdown(from_number):\\n    if from_number < 1:\\n        print(\"Liftoff!\")\\n    else:\\n        print(from_number)\\n        countdown(from_number-1)',\n '_i106': 'countdown(3)',\n '_i107': 'import random\\n\\nPLUGINS = dict()\\n\\n\\ndef register(func):\\n    \"\"\"Register a function as a plug-in\"\"\"\\n    PLUGINS[func.__name__] = func\\n    return func',\n 'random': <module 'random' from 'C:\\\\Users\\\\USER\\\\AppData\\\\Local\\\\Programs\\\\Python\\\\Python311\\\\Lib\\\\random.py'>,\n 'PLUGINS': {'say_hello': <function __main__.say_hello(name)>,\n  'be_awesome': <function __main__.be_awesome(name)>},\n 'register': <function __main__.register(func)>,\n '_i108': '@register\\ndef say_hello(name):\\n    return f\\'Hello {name}\\'\\n\\n@register\\ndef be_awesome(name):\\n    return f\"Yo {name}, together we are the awesome!\"\\n\\ndef randomly_greet(name):\\n    greeter, greeter_func = random.choice(list(PLUGINS.items()))\\n    print(f\"Using {greeter!r}\")\\n    return greeter_func(name)',\n 'randomly_greet': <function __main__.randomly_greet(name)>,\n '_i109': 'PLUGINS',\n '_109': {'say_hello': <function __main__.say_hello(name)>,\n  'be_awesome': <function __main__.be_awesome(name)>},\n '_i110': 'randomly_greet(\"Alice\")',\n '_110': 'Yo Alice, together we are the awesome!',\n '_i111': 'randomly_greet(\"Alice\")',\n '_111': 'Hello Alice',\n '_i112': 'randomly_greet(\"Alice\")',\n '_112': 'Yo Alice, together we are the awesome!',\n '_i113': 'globals()'}"
     },
     "execution_count": 113,
     "metadata": {},
     "output_type": "execute_result"
    }
   ],
   "source": [
    "globals()"
   ],
   "metadata": {
    "collapsed": false
   }
  },
  {
   "cell_type": "code",
   "execution_count": null,
   "outputs": [],
   "source": [],
   "metadata": {
    "collapsed": false
   }
  }
 ],
 "metadata": {
  "kernelspec": {
   "display_name": "Python 3",
   "language": "python",
   "name": "python3"
  },
  "language_info": {
   "codemirror_mode": {
    "name": "ipython",
    "version": 2
   },
   "file_extension": ".py",
   "mimetype": "text/x-python",
   "name": "python",
   "nbconvert_exporter": "python",
   "pygments_lexer": "ipython2",
   "version": "2.7.6"
  }
 },
 "nbformat": 4,
 "nbformat_minor": 0
}
