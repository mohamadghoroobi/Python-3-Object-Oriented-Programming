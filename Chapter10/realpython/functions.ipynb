{
 "cells": [
  {
   "cell_type": "markdown",
   "source": [
    "# Functions"
   ],
   "metadata": {
    "collapsed": false
   }
  },
  {
   "cell_type": "code",
   "execution_count": null,
   "outputs": [],
   "source": [
    "def add_one(number):\n",
    "    return number + 1\n",
    "\n",
    "\n",
    "add_one(2)"
   ],
   "metadata": {
    "collapsed": false
   }
  },
  {
   "cell_type": "markdown",
   "source": [
    "### First-Class Objects"
   ],
   "metadata": {
    "collapsed": false
   }
  },
  {
   "cell_type": "code",
   "execution_count": 3,
   "outputs": [],
   "source": [
    "def say_hello(name):\n",
    "    return f\"Hello {name}\"\n",
    "\n",
    "\n",
    "def be_awesome(name):\n",
    "    return f\"Yo {name}, together we are the awesomest!\"\n",
    "\n",
    "\n",
    "def greet_bob(greeter_func):\n",
    "    return greeter_func(\"Bob\")"
   ],
   "metadata": {
    "collapsed": false
   }
  },
  {
   "cell_type": "code",
   "execution_count": 4,
   "outputs": [
    {
     "data": {
      "text/plain": "'Hello Bob'"
     },
     "execution_count": 4,
     "metadata": {},
     "output_type": "execute_result"
    }
   ],
   "source": [
    "greet_bob(say_hello)"
   ],
   "metadata": {
    "collapsed": false
   }
  },
  {
   "cell_type": "code",
   "execution_count": 5,
   "outputs": [
    {
     "data": {
      "text/plain": "'Yo Bob, together we are the awesomest!'"
     },
     "execution_count": 5,
     "metadata": {},
     "output_type": "execute_result"
    }
   ],
   "source": [
    "greet_bob(be_awesome)"
   ],
   "metadata": {
    "collapsed": false
   }
  },
  {
   "cell_type": "markdown",
   "source": [
    "### Inner Functions"
   ],
   "metadata": {
    "collapsed": false
   }
  },
  {
   "cell_type": "code",
   "execution_count": 7,
   "outputs": [],
   "source": [
    "def parent():\n",
    "    print(\"Printing from the parent() function\")\n",
    "\n",
    "    def first_child():\n",
    "        print(\"Printing from the first_child() function\")\n",
    "\n",
    "    def second_child():\n",
    "        print(\"Printing from the second_child() function\")\n",
    "\n",
    "    second_child()\n",
    "    first_child()"
   ],
   "metadata": {
    "collapsed": false
   }
  },
  {
   "cell_type": "code",
   "execution_count": 8,
   "outputs": [
    {
     "name": "stdout",
     "output_type": "stream",
     "text": [
      "Printing from the parent() function\n",
      "Printing from the second_child() function\n",
      "Printing from the first_child() function\n"
     ]
    }
   ],
   "source": [
    "parent()"
   ],
   "metadata": {
    "collapsed": false
   }
  },
  {
   "cell_type": "markdown",
   "source": [
    "### Returning Functions From Functions"
   ],
   "metadata": {
    "collapsed": false
   }
  },
  {
   "cell_type": "code",
   "execution_count": 9,
   "outputs": [],
   "source": [
    "def parent(num):\n",
    "    def first_child():\n",
    "        return \"Hi, I am Emma\"\n",
    "\n",
    "    def second_child():\n",
    "        return \"Call me Liam\"\n",
    "\n",
    "    if num == 1:\n",
    "        return first_child\n",
    "    else:\n",
    "        return second_child"
   ],
   "metadata": {
    "collapsed": false
   }
  },
  {
   "cell_type": "code",
   "execution_count": 10,
   "outputs": [
    {
     "data": {
      "text/plain": "<function __main__.parent.<locals>.first_child()>"
     },
     "execution_count": 10,
     "metadata": {},
     "output_type": "execute_result"
    }
   ],
   "source": [
    "parent(1)"
   ],
   "metadata": {
    "collapsed": false
   }
  },
  {
   "cell_type": "code",
   "execution_count": 11,
   "outputs": [
    {
     "data": {
      "text/plain": "<function __main__.parent.<locals>.second_child()>"
     },
     "execution_count": 11,
     "metadata": {},
     "output_type": "execute_result"
    }
   ],
   "source": [
    "parent(2)"
   ],
   "metadata": {
    "collapsed": false
   }
  },
  {
   "cell_type": "markdown",
   "source": [
    "# Simple Decorators"
   ],
   "metadata": {
    "collapsed": false
   }
  },
  {
   "cell_type": "code",
   "execution_count": 12,
   "outputs": [],
   "source": [
    "def my_decorator(func):\n",
    "    def wrapper():\n",
    "        print(\"Something is happening before the function is called.\")\n",
    "        func()\n",
    "        print(\"Something is happening after the function is called.\")\n",
    "\n",
    "    return wrapper"
   ],
   "metadata": {
    "collapsed": false
   }
  },
  {
   "cell_type": "code",
   "execution_count": 13,
   "outputs": [],
   "source": [
    "def say_whee():\n",
    "    print(\"Whee!\")"
   ],
   "metadata": {
    "collapsed": false
   }
  },
  {
   "cell_type": "code",
   "execution_count": 14,
   "outputs": [],
   "source": [
    "say_whee = my_decorator(say_whee)"
   ],
   "metadata": {
    "collapsed": false
   }
  },
  {
   "cell_type": "code",
   "execution_count": 15,
   "outputs": [
    {
     "name": "stdout",
     "output_type": "stream",
     "text": [
      "Something is happening before the function is called.\n",
      "Whee!\n",
      "Something is happening after the function is called.\n"
     ]
    }
   ],
   "source": [
    "say_whee()"
   ],
   "metadata": {
    "collapsed": false
   }
  },
  {
   "cell_type": "code",
   "execution_count": 16,
   "outputs": [
    {
     "data": {
      "text/plain": "<function __main__.my_decorator.<locals>.wrapper()>"
     },
     "execution_count": 16,
     "metadata": {},
     "output_type": "execute_result"
    }
   ],
   "source": [
    "say_whee"
   ],
   "metadata": {
    "collapsed": false
   }
  },
  {
   "cell_type": "code",
   "execution_count": 29,
   "outputs": [],
   "source": [
    "from datetime import datetime\n",
    "\n",
    "\n",
    "def not_during_the_night(func):\n",
    "    def wrapper():\n",
    "        if 7 <= datetime.now().hour < 22:\n",
    "            func()\n",
    "        else:\n",
    "            pass  # Hush, the neighbors are asleep\n",
    "\n",
    "    return wrapper\n",
    "\n",
    "\n",
    "def say_whee():\n",
    "    print(\"Whee!\")\n",
    "\n",
    "\n",
    "say_whee = not_during_the_night(say_whee)"
   ],
   "metadata": {
    "collapsed": false
   }
  },
  {
   "cell_type": "code",
   "execution_count": 31,
   "outputs": [
    {
     "name": "stdout",
     "output_type": "stream",
     "text": [
      "Whee!\n"
     ]
    }
   ],
   "source": [
    "say_whee()"
   ],
   "metadata": {
    "collapsed": false
   }
  },
  {
   "cell_type": "code",
   "execution_count": 19,
   "outputs": [
    {
     "data": {
      "text/plain": "<function __main__.not_during_the_night.<locals>.wrapper()>"
     },
     "execution_count": 19,
     "metadata": {},
     "output_type": "execute_result"
    }
   ],
   "source": [
    "say_whee"
   ],
   "metadata": {
    "collapsed": false
   }
  },
  {
   "cell_type": "markdown",
   "source": [
    "### Syntactic Sugar!"
   ],
   "metadata": {
    "collapsed": false
   }
  },
  {
   "cell_type": "code",
   "execution_count": 39,
   "outputs": [],
   "source": [
    "def my_decorator(func):\n",
    "    def wrapper():\n",
    "        print(\"Something is happening before the function is called.\")\n",
    "        func()\n",
    "        print(\"Something is happening after the function is called.\")\n",
    "\n",
    "    return wrapper"
   ],
   "metadata": {
    "collapsed": false
   }
  },
  {
   "cell_type": "code",
   "execution_count": 40,
   "outputs": [],
   "source": [
    "@my_decorator\n",
    "def say_whee():\n",
    "    print(\"Whee!\")"
   ],
   "metadata": {
    "collapsed": false
   }
  },
  {
   "cell_type": "code",
   "execution_count": 41,
   "outputs": [],
   "source": [
    "say_whee = my_decorator(say_whee)"
   ],
   "metadata": {
    "collapsed": false
   }
  },
  {
   "cell_type": "code",
   "execution_count": 42,
   "outputs": [
    {
     "name": "stdout",
     "output_type": "stream",
     "text": [
      "Something is happening before the function is called.\n",
      "Something is happening before the function is called.\n",
      "Whee!\n",
      "Something is happening after the function is called.\n",
      "Something is happening after the function is called.\n"
     ]
    }
   ],
   "source": [
    "say_whee()"
   ],
   "metadata": {
    "collapsed": false
   }
  },
  {
   "cell_type": "markdown",
   "source": [
    "### Reusing Decorators"
   ],
   "metadata": {
    "collapsed": false
   }
  },
  {
   "cell_type": "code",
   "execution_count": 43,
   "outputs": [],
   "source": [
    "def do_twice(func):\n",
    "    def wrapper_do_twice():\n",
    "        func()\n",
    "        func()\n",
    "\n",
    "    return wrapper_do_twice"
   ],
   "metadata": {
    "collapsed": false
   }
  },
  {
   "cell_type": "code",
   "execution_count": 44,
   "outputs": [],
   "source": [
    "@do_twice\n",
    "def say_whee():\n",
    "    print(\"Whee!\")"
   ],
   "metadata": {
    "collapsed": false
   }
  },
  {
   "cell_type": "code",
   "execution_count": 45,
   "outputs": [
    {
     "name": "stdout",
     "output_type": "stream",
     "text": [
      "Whee!\n",
      "Whee!\n"
     ]
    }
   ],
   "source": [
    "say_whee()"
   ],
   "metadata": {
    "collapsed": false
   }
  },
  {
   "cell_type": "markdown",
   "source": [
    "### Decorating Functions With Arguments"
   ],
   "metadata": {
    "collapsed": false
   }
  },
  {
   "cell_type": "code",
   "execution_count": 46,
   "outputs": [],
   "source": [
    "@do_twice\n",
    "def greet(name):\n",
    "    print(f\"hello {name}\")"
   ],
   "metadata": {
    "collapsed": false
   }
  },
  {
   "cell_type": "code",
   "execution_count": 47,
   "outputs": [
    {
     "ename": "TypeError",
     "evalue": "do_twice.<locals>.wrapper_do_twice() takes 0 positional arguments but 1 was given",
     "output_type": "error",
     "traceback": [
      "\u001B[1;31m---------------------------------------------------------------------------\u001B[0m",
      "\u001B[1;31mTypeError\u001B[0m                                 Traceback (most recent call last)",
      "Cell \u001B[1;32mIn[47], line 1\u001B[0m\n\u001B[1;32m----> 1\u001B[0m \u001B[43mgreet\u001B[49m\u001B[43m(\u001B[49m\u001B[38;5;124;43m\"\u001B[39;49m\u001B[38;5;124;43mmohammad\u001B[39;49m\u001B[38;5;124;43m\"\u001B[39;49m\u001B[43m)\u001B[49m\n",
      "\u001B[1;31mTypeError\u001B[0m: do_twice.<locals>.wrapper_do_twice() takes 0 positional arguments but 1 was given"
     ]
    }
   ],
   "source": [
    "greet(\"mohammad\")"
   ],
   "metadata": {
    "collapsed": false
   }
  },
  {
   "cell_type": "code",
   "execution_count": 52,
   "outputs": [],
   "source": [
    "def do_twice(func):\n",
    "    def wrapper_do_twice(*args, **kwargs):\n",
    "        func(*args, **kwargs)\n",
    "        func(*args, **kwargs)\n",
    "\n",
    "    return wrapper_do_twice"
   ],
   "metadata": {
    "collapsed": false
   }
  },
  {
   "cell_type": "code",
   "execution_count": 53,
   "outputs": [],
   "source": [
    "@do_twice\n",
    "def say_whee():\n",
    "    print(\"Whee!\")"
   ],
   "metadata": {
    "collapsed": false
   }
  },
  {
   "cell_type": "code",
   "execution_count": 54,
   "outputs": [],
   "source": [
    "@do_twice\n",
    "def greet(name):\n",
    "    print(f\"hello {name}\")"
   ],
   "metadata": {
    "collapsed": false
   }
  },
  {
   "cell_type": "code",
   "execution_count": 55,
   "outputs": [
    {
     "name": "stdout",
     "output_type": "stream",
     "text": [
      "Whee!\n",
      "Whee!\n"
     ]
    }
   ],
   "source": [
    "say_whee()"
   ],
   "metadata": {
    "collapsed": false
   }
  },
  {
   "cell_type": "code",
   "execution_count": 56,
   "outputs": [
    {
     "name": "stdout",
     "output_type": "stream",
     "text": [
      "hello mohammad\n",
      "hello mohammad\n"
     ]
    }
   ],
   "source": [
    "greet(\"mohammad\")"
   ],
   "metadata": {
    "collapsed": false
   }
  },
  {
   "cell_type": "markdown",
   "source": [
    "### Returning Values From Decorated Functions"
   ],
   "metadata": {
    "collapsed": false
   }
  },
  {
   "cell_type": "code",
   "execution_count": 57,
   "outputs": [],
   "source": [
    "@do_twice\n",
    "def return_greeting(name):\n",
    "    print(\"Creating greeting\")\n",
    "    return f\"Hi {name}\""
   ],
   "metadata": {
    "collapsed": false
   }
  },
  {
   "cell_type": "code",
   "execution_count": 58,
   "outputs": [
    {
     "name": "stdout",
     "output_type": "stream",
     "text": [
      "Creating greeting\n",
      "Creating greeting\n"
     ]
    }
   ],
   "source": [
    "hi_mohammad = return_greeting(\"Mohammad\")"
   ],
   "metadata": {
    "collapsed": false
   }
  },
  {
   "cell_type": "code",
   "execution_count": 59,
   "outputs": [
    {
     "name": "stdout",
     "output_type": "stream",
     "text": [
      "None\n"
     ]
    }
   ],
   "source": [
    "print(hi_mohammad)"
   ],
   "metadata": {
    "collapsed": false
   }
  },
  {
   "cell_type": "code",
   "execution_count": 60,
   "outputs": [],
   "source": [
    "def do_twice(func):\n",
    "    def wrapper_do_twice(*args, **kwargs):\n",
    "        func(*args, **kwargs)\n",
    "        return func(*args, **kwargs)\n",
    "\n",
    "    return wrapper_do_twice"
   ],
   "metadata": {
    "collapsed": false
   }
  },
  {
   "cell_type": "code",
   "execution_count": 61,
   "outputs": [],
   "source": [
    "@do_twice\n",
    "def return_greeting(name):\n",
    "    print(\"Creating greeting\")\n",
    "    return f\"Hi {name}\""
   ],
   "metadata": {
    "collapsed": false
   }
  },
  {
   "cell_type": "code",
   "execution_count": 62,
   "outputs": [
    {
     "name": "stdout",
     "output_type": "stream",
     "text": [
      "Creating greeting\n",
      "Creating greeting\n"
     ]
    },
    {
     "data": {
      "text/plain": "'Hi Mohammad'"
     },
     "execution_count": 62,
     "metadata": {},
     "output_type": "execute_result"
    }
   ],
   "source": [
    "return_greeting(\"Mohammad\")"
   ],
   "metadata": {
    "collapsed": false
   }
  },
  {
   "cell_type": "code",
   "execution_count": 63,
   "outputs": [
    {
     "data": {
      "text/plain": "<function print(*args, sep=' ', end='\\n', file=None, flush=False)>"
     },
     "execution_count": 63,
     "metadata": {},
     "output_type": "execute_result"
    }
   ],
   "source": [
    "print"
   ],
   "metadata": {
    "collapsed": false
   }
  },
  {
   "cell_type": "code",
   "execution_count": 64,
   "outputs": [
    {
     "data": {
      "text/plain": "'print'"
     },
     "execution_count": 64,
     "metadata": {},
     "output_type": "execute_result"
    }
   ],
   "source": [
    "print.__name__"
   ],
   "metadata": {
    "collapsed": false
   }
  },
  {
   "cell_type": "code",
   "execution_count": 65,
   "outputs": [
    {
     "name": "stdout",
     "output_type": "stream",
     "text": [
      "Help on built-in function print in module builtins:\n",
      "\n",
      "print(*args, sep=' ', end='\\n', file=None, flush=False)\n",
      "    Prints the values to a stream, or to sys.stdout by default.\n",
      "    \n",
      "    sep\n",
      "      string inserted between values, default a space.\n",
      "    end\n",
      "      string appended after the last value, default a newline.\n",
      "    file\n",
      "      a file-like object (stream); defaults to the current sys.stdout.\n",
      "    flush\n",
      "      whether to forcibly flush the stream.\n",
      "\n"
     ]
    }
   ],
   "source": [
    "help(print)"
   ],
   "metadata": {
    "collapsed": false
   }
  },
  {
   "cell_type": "code",
   "execution_count": 66,
   "outputs": [
    {
     "data": {
      "text/plain": "<function __main__.do_twice.<locals>.wrapper_do_twice(*args, **kwargs)>"
     },
     "execution_count": 66,
     "metadata": {},
     "output_type": "execute_result"
    }
   ],
   "source": [
    "say_whee"
   ],
   "metadata": {
    "collapsed": false
   }
  },
  {
   "cell_type": "code",
   "execution_count": 67,
   "outputs": [
    {
     "data": {
      "text/plain": "'wrapper_do_twice'"
     },
     "execution_count": 67,
     "metadata": {},
     "output_type": "execute_result"
    }
   ],
   "source": [
    "say_whee.__name__"
   ],
   "metadata": {
    "collapsed": false
   }
  },
  {
   "cell_type": "code",
   "execution_count": 68,
   "outputs": [
    {
     "name": "stdout",
     "output_type": "stream",
     "text": [
      "Help on function wrapper_do_twice in module __main__:\n",
      "\n",
      "wrapper_do_twice(*args, **kwargs)\n",
      "\n"
     ]
    }
   ],
   "source": [
    "help(say_whee)"
   ],
   "metadata": {
    "collapsed": false
   }
  },
  {
   "cell_type": "code",
   "execution_count": 70,
   "outputs": [],
   "source": [
    "import functools\n",
    "\n",
    "\n",
    "def do_twice(func):\n",
    "    @functools.wraps(func)\n",
    "    def wrapper_do_twice(*args, **kwargs):\n",
    "        func(*args, **kwargs)\n",
    "        return func(*args, **kwargs)\n",
    "\n",
    "    return wrapper_do_twice"
   ],
   "metadata": {
    "collapsed": false
   }
  },
  {
   "cell_type": "code",
   "execution_count": 74,
   "outputs": [],
   "source": [
    "@do_twice\n",
    "def say_whee():\n",
    "    print(\"Whee!\")"
   ],
   "metadata": {
    "collapsed": false
   }
  },
  {
   "cell_type": "code",
   "execution_count": 75,
   "outputs": [],
   "source": [
    "say_whee = do_twice(say_whee)"
   ],
   "metadata": {
    "collapsed": false
   }
  },
  {
   "cell_type": "code",
   "execution_count": 76,
   "outputs": [
    {
     "data": {
      "text/plain": "<function __main__.say_whee()>"
     },
     "execution_count": 76,
     "metadata": {},
     "output_type": "execute_result"
    }
   ],
   "source": [
    "say_whee"
   ],
   "metadata": {
    "collapsed": false
   }
  },
  {
   "cell_type": "code",
   "execution_count": 77,
   "outputs": [
    {
     "data": {
      "text/plain": "'say_whee'"
     },
     "execution_count": 77,
     "metadata": {},
     "output_type": "execute_result"
    }
   ],
   "source": [
    "say_whee.__name__"
   ],
   "metadata": {
    "collapsed": false
   }
  },
  {
   "cell_type": "code",
   "execution_count": 78,
   "outputs": [
    {
     "name": "stdout",
     "output_type": "stream",
     "text": [
      "Help on function say_whee in module __main__:\n",
      "\n",
      "say_whee()\n",
      "\n"
     ]
    }
   ],
   "source": [
    "help(say_whee)"
   ],
   "metadata": {
    "collapsed": false
   }
  },
  {
   "cell_type": "markdown",
   "source": [
    "# A Few Real World Examples"
   ],
   "metadata": {
    "collapsed": false
   }
  },
  {
   "cell_type": "code",
   "execution_count": 80,
   "outputs": [],
   "source": [
    "import functools\n",
    "\n",
    "\n",
    "def decorator(func):\n",
    "    @functools.wraps(func)\n",
    "    def wrapper_decorator(*args, **kwargs):\n",
    "        print(\"Start\")\n",
    "        value = func(*args, **kwargs)\n",
    "        print(\"End\")\n",
    "        return value\n",
    "\n",
    "    return wrapper_decorator"
   ],
   "metadata": {
    "collapsed": false
   }
  },
  {
   "cell_type": "markdown",
   "source": [
    "### Timing Functions"
   ],
   "metadata": {
    "collapsed": false
   }
  },
  {
   "cell_type": "code",
   "execution_count": 81,
   "outputs": [],
   "source": [
    "import functools\n",
    "import time\n",
    "\n",
    "\n",
    "def timer(func):\n",
    "    @functools.wraps(func)\n",
    "    def wrapper_timer(*args, **kwargs):\n",
    "        # print(\"Start\")\n",
    "        start_time = time.perf_counter()\n",
    "        value = func(*args, **kwargs)\n",
    "        # print(\"End\")\n",
    "        end_time = time.perf_counter()\n",
    "        run_time = end_time - start_time\n",
    "        print(f\"Finished {func.__name__!r} in {run_time:.4f} secs\")\n",
    "        return value\n",
    "\n",
    "    return wrapper_timer"
   ],
   "metadata": {
    "collapsed": false
   }
  },
  {
   "cell_type": "code",
   "execution_count": 82,
   "outputs": [],
   "source": [
    "@timer\n",
    "def waste_some_time(num_times):\n",
    "    for _ in range(num_times):\n",
    "        sum([i ** 2 for i in range(1000)])"
   ],
   "metadata": {
    "collapsed": false
   }
  },
  {
   "cell_type": "code",
   "execution_count": 83,
   "outputs": [
    {
     "name": "stdout",
     "output_type": "stream",
     "text": [
      "Finished 'waste_some_time' in 0.0001 secs\n"
     ]
    }
   ],
   "source": [
    "waste_some_time(1)"
   ],
   "metadata": {
    "collapsed": false
   }
  },
  {
   "cell_type": "code",
   "execution_count": 84,
   "outputs": [
    {
     "name": "stdout",
     "output_type": "stream",
     "text": [
      "Finished 'waste_some_time' in 0.0579 secs\n"
     ]
    }
   ],
   "source": [
    "waste_some_time(1000)"
   ],
   "metadata": {
    "collapsed": false
   }
  },
  {
   "cell_type": "markdown",
   "source": [
    "### Debugging Code"
   ],
   "metadata": {
    "collapsed": false
   }
  },
  {
   "cell_type": "code",
   "execution_count": 97,
   "outputs": [],
   "source": [
    "import functools\n",
    "\n",
    "\n",
    "def debug(func):\n",
    "    @functools.wraps(func)\n",
    "    def wrapper_debug(*args, **kwargs):\n",
    "        args_repr = [repr(a) for a in args]\n",
    "        kwargs_repr = [f\"{k}={v!r}\" for k, v in kwargs.items()]\n",
    "        signature = \", \".join(args_repr + kwargs_repr)\n",
    "        print(f\"Calling {func.__name__}({signature})\")\n",
    "        value = func(*args, **kwargs)\n",
    "        print(f\"{func.__name__!r} returned {value!r}\")\n",
    "        return value\n",
    "\n",
    "    return wrapper_debug"
   ],
   "metadata": {
    "collapsed": false
   }
  },
  {
   "cell_type": "code",
   "execution_count": 98,
   "outputs": [],
   "source": [
    "@debug\n",
    "def make_greeting(name, age=None):\n",
    "    if age is None:\n",
    "        return f\"Howdy {name}!\"\n",
    "    else:\n",
    "        return f\"Whoa {name}! {age} already, you are growing up!\""
   ],
   "metadata": {
    "collapsed": false
   }
  },
  {
   "cell_type": "code",
   "execution_count": 99,
   "outputs": [
    {
     "name": "stdout",
     "output_type": "stream",
     "text": [
      "Calling make_greeting('Mohammad')\n",
      "'make_greeting' returned 'Howdy Mohammad!'\n"
     ]
    },
    {
     "data": {
      "text/plain": "'Howdy Mohammad!'"
     },
     "execution_count": 99,
     "metadata": {},
     "output_type": "execute_result"
    }
   ],
   "source": [
    "make_greeting(\"Mohammad\")"
   ],
   "metadata": {
    "collapsed": false
   }
  },
  {
   "cell_type": "code",
   "execution_count": 96,
   "outputs": [
    {
     "name": "stdout",
     "output_type": "stream",
     "text": [
      "Calling make_greeting('Richard', age=112)\n",
      "'make_greeting' returned 'Whoa Richard! 112 already, you are growing up!'\n"
     ]
    },
    {
     "data": {
      "text/plain": "'Whoa Richard! 112 already, you are growing up!'"
     },
     "execution_count": 96,
     "metadata": {},
     "output_type": "execute_result"
    }
   ],
   "source": [
    "make_greeting(\"Richard\", age=112)"
   ],
   "metadata": {
    "collapsed": false
   }
  },
  {
   "cell_type": "code",
   "execution_count": 100,
   "outputs": [],
   "source": [
    "import math\n",
    "\n",
    "math.factorial = debug(math.factorial)\n",
    "\n",
    "\n",
    "def approximate_e(terms=18):\n",
    "    return sum(1 / math.factorial(n) for n in range(terms))"
   ],
   "metadata": {
    "collapsed": false
   }
  },
  {
   "cell_type": "code",
   "execution_count": 101,
   "outputs": [
    {
     "name": "stdout",
     "output_type": "stream",
     "text": [
      "Calling factorial(0)\n",
      "'factorial' returned 1\n",
      "Calling factorial(1)\n",
      "'factorial' returned 1\n",
      "Calling factorial(2)\n",
      "'factorial' returned 2\n",
      "Calling factorial(3)\n",
      "'factorial' returned 6\n",
      "Calling factorial(4)\n",
      "'factorial' returned 24\n"
     ]
    },
    {
     "data": {
      "text/plain": "2.708333333333333"
     },
     "execution_count": 101,
     "metadata": {},
     "output_type": "execute_result"
    }
   ],
   "source": [
    "approximate_e(5)"
   ],
   "metadata": {
    "collapsed": false
   }
  },
  {
   "cell_type": "markdown",
   "source": [
    "### Slowing Down Code"
   ],
   "metadata": {
    "collapsed": false
   }
  },
  {
   "cell_type": "code",
   "execution_count": 102,
   "outputs": [],
   "source": [
    "import functools\n",
    "import time\n",
    "\n",
    "\n",
    "def slow_down(func):\n",
    "    @functools.wraps(func)\n",
    "    def wrapper_slow_down(*args, **kwargs):\n",
    "        # print(\"Start\")\n",
    "        time.sleep(1)\n",
    "        return func(*args, **kwargs)\n",
    "        # value = func(*args, **kwargs)\n",
    "        # print(\"End\")\n",
    "        # return value\n",
    "\n",
    "    return wrapper_slow_down"
   ],
   "metadata": {
    "collapsed": false
   }
  },
  {
   "cell_type": "code",
   "execution_count": 105,
   "outputs": [],
   "source": [
    "@slow_down\n",
    "def countdown(from_number):\n",
    "    if from_number < 1:\n",
    "        print(\"Liftoff!\")\n",
    "    else:\n",
    "        print(from_number)\n",
    "        countdown(from_number - 1)"
   ],
   "metadata": {
    "collapsed": false
   }
  },
  {
   "cell_type": "code",
   "execution_count": 106,
   "outputs": [
    {
     "name": "stdout",
     "output_type": "stream",
     "text": [
      "3\n",
      "2\n",
      "1\n",
      "Liftoff!\n"
     ]
    }
   ],
   "source": [
    "countdown(3)"
   ],
   "metadata": {
    "collapsed": false
   }
  },
  {
   "cell_type": "markdown",
   "source": [
    "### Registering Plugins"
   ],
   "metadata": {
    "collapsed": false
   }
  },
  {
   "cell_type": "code",
   "execution_count": 107,
   "outputs": [],
   "source": [
    "import random\n",
    "\n",
    "PLUGINS = dict()\n",
    "\n",
    "\n",
    "def register(func):\n",
    "    \"\"\"Register a function as a plug-in\"\"\"\n",
    "    PLUGINS[func.__name__] = func\n",
    "    return func"
   ],
   "metadata": {
    "collapsed": false
   }
  },
  {
   "cell_type": "code",
   "execution_count": 108,
   "outputs": [],
   "source": [
    "@register\n",
    "def say_hello(name):\n",
    "    return f'Hello {name}'\n",
    "\n",
    "\n",
    "@register\n",
    "def be_awesome(name):\n",
    "    return f\"Yo {name}, together we are the awesome!\"\n",
    "\n",
    "\n",
    "def randomly_greet(name):\n",
    "    greeter, greeter_func = random.choice(list(PLUGINS.items()))\n",
    "    print(f\"Using {greeter!r}\")\n",
    "    return greeter_func(name)"
   ],
   "metadata": {
    "collapsed": false
   }
  },
  {
   "cell_type": "code",
   "execution_count": 109,
   "outputs": [
    {
     "data": {
      "text/plain": "{'say_hello': <function __main__.say_hello(name)>,\n 'be_awesome': <function __main__.be_awesome(name)>}"
     },
     "execution_count": 109,
     "metadata": {},
     "output_type": "execute_result"
    }
   ],
   "source": [
    "PLUGINS"
   ],
   "metadata": {
    "collapsed": false
   }
  },
  {
   "cell_type": "code",
   "execution_count": 112,
   "outputs": [
    {
     "name": "stdout",
     "output_type": "stream",
     "text": [
      "Using 'be_awesome'\n"
     ]
    },
    {
     "data": {
      "text/plain": "'Yo Alice, together we are the awesome!'"
     },
     "execution_count": 112,
     "metadata": {},
     "output_type": "execute_result"
    }
   ],
   "source": [
    "randomly_greet(\"Alice\")"
   ],
   "metadata": {
    "collapsed": false
   }
  },
  {
   "cell_type": "code",
   "execution_count": 113,
   "outputs": [
    {
     "data": {
      "text/plain": "{'__name__': '__main__',\n '__doc__': 'Automatically created module for IPython interactive environment',\n '__package__': None,\n '__loader__': None,\n '__spec__': None,\n '__builtin__': <module 'builtins' (built-in)>,\n '__builtins__': <module 'builtins' (built-in)>,\n '_ih': ['',\n  'print(\"mohammad\")',\n  'def add_one(number):\\n    return number + 1\\n\\nadd_one(2)',\n  'def say_hello(name):\\n    return f\"Hello {name}\"\\n\\ndef be_awesome(name):\\n    return f\"Yo {name}, together we are the awesomest!\"\\n\\ndef greet_bob(greeter_func):\\n    return greeter_func(\"Bob\")',\n  'greet_bob(say_hello)',\n  'greet_bob(be_awesome)',\n  'def parent():\\n    print(\"Printing from the parent() function\")\\n\\n    def first_child():\\n        print(\"Printing from the first_child() function\")\\n\\n    def second_child():\\n        print(\"Printing from the second_child() function\")',\n  'def parent():\\n    print(\"Printing from the parent() function\")\\n\\n    def first_child():\\n        print(\"Printing from the first_child() function\")\\n\\n    def second_child():\\n        print(\"Printing from the second_child() function\")\\n\\n    second_child()\\n    first_child()',\n  'parent()',\n  'def parent(num):\\n    def first_child():\\n        return \"Hi, I am Emma\"\\n\\n    def second_child():\\n        return \"Call me Liam\"\\n\\n    if num == 1:\\n        return first_child\\n    else:\\n        return second_child',\n  'parent(1)',\n  'parent(2)',\n  'def my_decorator(func):\\n    def wrapper():\\n        print(\"Something is happening before the function is called.\")\\n        func()\\n        print(\"Something is happening after the function is called.\")\\n    return wrapper        ',\n  'def say_whee():\\n    print(\"Whee!\")',\n  'say_whee = my_decorator(say_whee)',\n  'say_whee()',\n  'say_whee',\n  'from datetime import datetime\\n\\ndef not_during_the_night(func):\\n    def wrapper():\\n        if 7 <= datetime.now().hour < 22:\\n            func()\\n        else:\\n            pass  # Hush, the neighbors are asleep\\n    return wrapper\\n\\ndef say_whee():\\n    print(\"Whee!\")\\n\\nsay_whee = not_during_the_night(say_whee)',\n  'say_whee()',\n  'say_whee',\n  'def my_decorator(func):\\n    def wrapper():\\n        print(\"Something is happening before the function is called.\")\\n        func()\\n        print(\"Something is happening after the function is called.\")\\n    return wrapper',\n  '@my_decorator\\ndef say_whee():\\n    print(\"Whee!\")',\n  'check = my_decorator(say_whee)\\ncheck',\n  'check = my_decorator(say_whee)\\ncheck()',\n  'check = my_decorator(check)\\ncheck()',\n  'check = my_decorator(check)\\ncheck()',\n  'check = my_decorator(check)\\ncheck()',\n  'say_whee()',\n  'say_whee()',\n  'from datetime import datetime\\n\\ndef not_during_the_night(func):\\n    def wrapper():\\n        if 7 <= datetime.now().hour < 22:\\n            func()\\n        else:\\n            pass  # Hush, the neighbors are asleep\\n    return wrapper\\n\\ndef say_whee():\\n    print(\"Whee!\")\\n\\nsay_whee = not_during_the_night(say_whee)',\n  'say_whee()',\n  'say_whee()',\n  'def my_decorator(func):\\n    def wrapper():\\n        print(\"Something is happening before the function is called.\")\\n        func()\\n        print(\"Something is happening after the function is called.\")\\n    return wrapper',\n  '@my_decorator\\ndef check():\\n    print(\"Whee!\")',\n  'check = my_decorator(check)\\ncheck()',\n  'def my_decorator(func):\\n    def wrapper():\\n        print(\"Something is happening before the function is called.\")\\n        func()\\n        print(\"Something is happening after the function is called.\")\\n    return wrapper',\n  '@my_decorator\\ndef check():\\n    print(\"Whee!\")',\n  'check = my_decorator(check)',\n  'check()',\n  'def my_decorator(func):\\n    def wrapper():\\n        print(\"Something is happening before the function is called.\")\\n        func()\\n        print(\"Something is happening after the function is called.\")\\n    return wrapper',\n  '@my_decorator\\ndef say_whee():\\n    print(\"Whee!\")',\n  'say_whee = my_decorator(say_whee)',\n  'say_whee()',\n  'def do_twice(func):\\n    def wrapper_do_twice():\\n        func()\\n        func()\\n    return wrapper_do_twice',\n  '@do_twice\\ndef say_whee():\\n    print(\"Whee!\")',\n  'say_whee()',\n  '@do_twice\\ndef greet(name):\\n    print(f\"hello {name}\")',\n  'greet(\"mohammad\")',\n  'def do_twice(func):\\n    def wrapper_do_twice(*args, **kwargs):\\n        func(*args, **kwargs)\\n        func(*args, **kwargs)\\n    return wrapper_do_twice',\n  'say_whee()',\n  'greet(\"mohammad\")',\n  '@do_twice\\ndef greet(name):\\n    print(f\"hello {name}\")',\n  'def do_twice(func):\\n    def wrapper_do_twice(*args, **kwargs):\\n        func(*args, **kwargs)\\n        func(*args, **kwargs)\\n    return wrapper_do_twice',\n  '@do_twice\\ndef say_whee():\\n    print(\"Whee!\")',\n  '@do_twice\\ndef greet(name):\\n    print(f\"hello {name}\")',\n  'say_whee()',\n  'greet(\"mohammad\")',\n  '@do_twice\\ndef return_greeting(name):\\n    print(\"Creating greeting\")\\n    return f\"Hi {name}\"',\n  'hi_mohammad = return_greeting(\"Mohammad\")',\n  'print(hi_mohammad)',\n  'def do_twice(func):\\n    def wrapper_do_twice(*args, **kwargs):\\n        func(*args, **kwargs)\\n        return func(*args, **kwargs)\\n    return wrapper_do_twice',\n  '@do_twice\\ndef return_greeting(name):\\n    print(\"Creating greeting\")\\n    return f\"Hi {name}\"',\n  'return_greeting(\"Mohammad\")',\n  'print',\n  'print.__name__',\n  'help(print)',\n  'say_whee',\n  'say_whee.__name__',\n  'help(say_whee)',\n  'help(return_greeting)',\n  'import functools\\n\\ndef do_twice(func):\\n    @functools.wraps(func)\\n    def wrapper_do_twice(*args, **kwargs):\\n        func(*args, **kwargs)\\n        return func(*args, **kwargs)\\n    return wrapper_do_twice',\n  'say_whee = do_twice(say_whee)',\n  'say_whee',\n  'say_whee.__name__',\n  '@do_twice\\ndef say_whee():\\n    print(\"Whee!\")',\n  'say_whee = do_twice(say_whee)',\n  'say_whee',\n  'say_whee.__name__',\n  'help(say_whee)',\n  'import functools\\n\\ndef decorator(func):\\n    @functools.wraps(func):\\n    def wrapper_decorator(*args, **kwargs):\\n        print(\"Start\")\\n        value = func(*args, **kwargs)\\n        print(\"End\")\\n        return value\\n    return wrapper_decorator',\n  'import functools\\n\\ndef decorator(func):\\n    @functools.wraps(func)\\n    def wrapper_decorator(*args, **kwargs):\\n        print(\"Start\")\\n        value = func(*args, **kwargs)\\n        print(\"End\")\\n        return value\\n    return wrapper_decorator',\n  'import functools\\nimport time\\n\\ndef timer(func):\\n    @functools.wraps(func)\\n    def wrapper_timer(*args, **kwargs):\\n        # print(\"Start\")\\n        start_time = time.perf_counter()\\n        value = func(*args, **kwargs)\\n        # print(\"End\")\\n        end_time = time.perf_counter()\\n        run_time = end_time - start_time\\n        print(f\"Finished {func.__name__!r} in {run_time:.4f} secs\")\\n        return value\\n    return wrapper_timer',\n  '@timer\\ndef waste_some_time(num_times):\\n    for _ in range(num_times):\\n        sum([i**2 for i in range(1000)])',\n  'waste_some_time(1)',\n  'waste_some_time(1000)',\n  '### Debugging Code',\n  'import functools\\n\\ndef debug(func):\\n    @functools.wraps(func)\\n    def wrapper_debug(*args, **kwargs):\\n        args_repr = [repr(a) for a in args]\\n        kwargs_repr = [f\"{k}={v!r}\" for k, v in kwargs.items()]\\n        signature = \", \".join(args_repr + kwargs_repr)\\n        print(f\"Calling {func.__name__}({signature})\")\\n        value = func(*args, **kwargs)\\n        print(f\"{func.__name__!r} returned {value!r}\")\\n        return value\\n    return wrapper_debug',\n  '@debug\\ndef make_greeting(name, age=None):\\n    if age is None:\\n        return f\"Howdy {name}!\"\\n    else:\\n        return f\"Whoa {name}! {age} already, you are growing up!\"',\n  'make_greeting(\"Mohammad\")',\n  'make_greeting(\"Richard\", age=112)',\n  'import functools\\n\\n\\ndef debug(func):\\n    @functools.wraps(func)\\n    def wrapper_debug(*args, **kwargs):\\n        args_repr = [repr(a) for a in args]\\n        kwargs_repr = [f\"{k}={v!r}\" for k, v in kwargs.items()]\\n        signature = \", \".join(args_repr)\\n        print(f\"Calling {func.__name__}({signature})\")\\n        value = func(*args, **kwargs)\\n        print(f\"{func.__name__!r} returned {value!r}\")\\n        return value\\n\\n    return wrapper_debug',\n  '@debug\\ndef make_greeting(name, age=None):\\n    if age is None:\\n        return f\"Howdy {name}!\"\\n    else:\\n        return f\"Whoa {name}! {age} already, you are growing up!\"',\n  'make_greeting(\"Richard\", age=112)',\n  'import functools\\n\\n\\ndef debug(func):\\n    @functools.wraps(func)\\n    def wrapper_debug(*args, **kwargs):\\n        args_repr = [repr(a) for a in args]\\n        kwargs_repr = [f\"{k}={v!r}\" for k, v in kwargs.items()]\\n        signature = \", \".join(args_repr + kwargs_repr)\\n        print(f\"Calling {func.__name__}({signature})\")\\n        value = func(*args, **kwargs)\\n        print(f\"{func.__name__!r} returned {value!r}\")\\n        return value\\n\\n    return wrapper_debug',\n  '@debug\\ndef make_greeting(name, age=None):\\n    if age is None:\\n        return f\"Howdy {name}!\"\\n    else:\\n        return f\"Whoa {name}! {age} already, you are growing up!\"',\n  'make_greeting(\"Mohammad\")',\n  'make_greeting(\"Richard\", age=112)',\n  'import functools\\n\\n\\ndef debug(func):\\n    @functools.wraps(func)\\n    def wrapper_debug(*args, **kwargs):\\n        args_repr = [repr(a) for a in args]\\n        kwargs_repr = [f\"{k}={v!r}\" for k, v in kwargs.items()]\\n        signature = \", \".join(args_repr + kwargs_repr)\\n        print(f\"Calling {func.__name__}({signature})\")\\n        value = func(*args, **kwargs)\\n        print(f\"{func.__name__!r} returned {value!r}\")\\n        return value\\n\\n    return wrapper_debug',\n  '@debug\\ndef make_greeting(name, age=None):\\n    if age is None:\\n        return f\"Howdy {name}!\"\\n    else:\\n        return f\"Whoa {name}! {age} already, you are growing up!\"',\n  'make_greeting(\"Mohammad\")',\n  'import math\\n\\nmath.factorial = debug(math.factorial)\\n\\ndef approximate_e(terms = 18):\\n    return sum(1/math.factorial(n) for n in range(terms))',\n  'approximate_e(5)',\n  'import functools\\nimport time \\n\\n\\ndef slow_down(func):\\n    @functools.wraps(func)\\n    def wrapper_slow_down(*args, **kwargs):\\n        # print(\"Start\")\\n        time.sleep(1)\\n        return func(*args, **kwargs)\\n        # value = func(*args, **kwargs)\\n        # print(\"End\")\\n        # return value\\n\\n    return wrapper_slow_down',\n  '@slow_down\\ndef countdown(from_unmber):\\n    if from_unmber < 1:\\n        print(\"Liftoff!\")\\n    else:\\n        print(from_unmber)\\n        countdown(from_unmber-1)',\n  'countdown(3)',\n  '@slow_down\\ndef countdown(from_number):\\n    if from_number < 1:\\n        print(\"Liftoff!\")\\n    else:\\n        print(from_number)\\n        countdown(from_number-1)',\n  'countdown(3)',\n  'import random\\n\\nPLUGINS = dict()\\n\\n\\ndef register(func):\\n    \"\"\"Register a function as a plug-in\"\"\"\\n    PLUGINS[func.__name__] = func\\n    return func',\n  '@register\\ndef say_hello(name):\\n    return f\\'Hello {name}\\'\\n\\n@register\\ndef be_awesome(name):\\n    return f\"Yo {name}, together we are the awesome!\"\\n\\ndef randomly_greet(name):\\n    greeter, greeter_func = random.choice(list(PLUGINS.items()))\\n    print(f\"Using {greeter!r}\")\\n    return greeter_func(name)',\n  'PLUGINS',\n  'randomly_greet(\"Alice\")',\n  'randomly_greet(\"Alice\")',\n  'randomly_greet(\"Alice\")',\n  'globals()'],\n '_oh': {2: 3,\n  4: 'Hello Bob',\n  5: 'Yo Bob, together we are the awesomest!',\n  10: <function __main__.parent.<locals>.first_child()>,\n  11: <function __main__.parent.<locals>.second_child()>,\n  16: <function __main__.my_decorator.<locals>.wrapper()>,\n  19: <function __main__.not_during_the_night.<locals>.wrapper()>,\n  22: <function __main__.my_decorator.<locals>.wrapper()>,\n  62: 'Hi Mohammad',\n  63: <function print(*args, sep=' ', end='\\n', file=None, flush=False)>,\n  64: 'print',\n  66: <function __main__.do_twice.<locals>.wrapper_do_twice(*args, **kwargs)>,\n  67: 'wrapper_do_twice',\n  72: <function __main__.do_twice.<locals>.wrapper_do_twice(*args, **kwargs)>,\n  73: 'wrapper_do_twice',\n  76: <function __main__.say_whee()>,\n  77: 'say_whee',\n  88: 'Howdy Mohammad!',\n  89: 'Whoa Richard! 112 already, you are growing up!',\n  92: 'Whoa Richard! 112 already, you are growing up!',\n  95: 'Howdy Mohammad!',\n  96: 'Whoa Richard! 112 already, you are growing up!',\n  99: 'Howdy Mohammad!',\n  101: 2.708333333333333,\n  109: {'say_hello': <function __main__.say_hello(name)>,\n   'be_awesome': <function __main__.be_awesome(name)>},\n  110: 'Yo Alice, together we are the awesome!',\n  111: 'Hello Alice',\n  112: 'Yo Alice, together we are the awesome!'},\n '_dh': [WindowsPath('C:/Users/USER/PycharmProjects/Python-3-Object-Oriented-Programming-Third-Edition/Chapter10/realpython')],\n 'In': ['',\n  'print(\"mohammad\")',\n  'def add_one(number):\\n    return number + 1\\n\\nadd_one(2)',\n  'def say_hello(name):\\n    return f\"Hello {name}\"\\n\\ndef be_awesome(name):\\n    return f\"Yo {name}, together we are the awesomest!\"\\n\\ndef greet_bob(greeter_func):\\n    return greeter_func(\"Bob\")',\n  'greet_bob(say_hello)',\n  'greet_bob(be_awesome)',\n  'def parent():\\n    print(\"Printing from the parent() function\")\\n\\n    def first_child():\\n        print(\"Printing from the first_child() function\")\\n\\n    def second_child():\\n        print(\"Printing from the second_child() function\")',\n  'def parent():\\n    print(\"Printing from the parent() function\")\\n\\n    def first_child():\\n        print(\"Printing from the first_child() function\")\\n\\n    def second_child():\\n        print(\"Printing from the second_child() function\")\\n\\n    second_child()\\n    first_child()',\n  'parent()',\n  'def parent(num):\\n    def first_child():\\n        return \"Hi, I am Emma\"\\n\\n    def second_child():\\n        return \"Call me Liam\"\\n\\n    if num == 1:\\n        return first_child\\n    else:\\n        return second_child',\n  'parent(1)',\n  'parent(2)',\n  'def my_decorator(func):\\n    def wrapper():\\n        print(\"Something is happening before the function is called.\")\\n        func()\\n        print(\"Something is happening after the function is called.\")\\n    return wrapper        ',\n  'def say_whee():\\n    print(\"Whee!\")',\n  'say_whee = my_decorator(say_whee)',\n  'say_whee()',\n  'say_whee',\n  'from datetime import datetime\\n\\ndef not_during_the_night(func):\\n    def wrapper():\\n        if 7 <= datetime.now().hour < 22:\\n            func()\\n        else:\\n            pass  # Hush, the neighbors are asleep\\n    return wrapper\\n\\ndef say_whee():\\n    print(\"Whee!\")\\n\\nsay_whee = not_during_the_night(say_whee)',\n  'say_whee()',\n  'say_whee',\n  'def my_decorator(func):\\n    def wrapper():\\n        print(\"Something is happening before the function is called.\")\\n        func()\\n        print(\"Something is happening after the function is called.\")\\n    return wrapper',\n  '@my_decorator\\ndef say_whee():\\n    print(\"Whee!\")',\n  'check = my_decorator(say_whee)\\ncheck',\n  'check = my_decorator(say_whee)\\ncheck()',\n  'check = my_decorator(check)\\ncheck()',\n  'check = my_decorator(check)\\ncheck()',\n  'check = my_decorator(check)\\ncheck()',\n  'say_whee()',\n  'say_whee()',\n  'from datetime import datetime\\n\\ndef not_during_the_night(func):\\n    def wrapper():\\n        if 7 <= datetime.now().hour < 22:\\n            func()\\n        else:\\n            pass  # Hush, the neighbors are asleep\\n    return wrapper\\n\\ndef say_whee():\\n    print(\"Whee!\")\\n\\nsay_whee = not_during_the_night(say_whee)',\n  'say_whee()',\n  'say_whee()',\n  'def my_decorator(func):\\n    def wrapper():\\n        print(\"Something is happening before the function is called.\")\\n        func()\\n        print(\"Something is happening after the function is called.\")\\n    return wrapper',\n  '@my_decorator\\ndef check():\\n    print(\"Whee!\")',\n  'check = my_decorator(check)\\ncheck()',\n  'def my_decorator(func):\\n    def wrapper():\\n        print(\"Something is happening before the function is called.\")\\n        func()\\n        print(\"Something is happening after the function is called.\")\\n    return wrapper',\n  '@my_decorator\\ndef check():\\n    print(\"Whee!\")',\n  'check = my_decorator(check)',\n  'check()',\n  'def my_decorator(func):\\n    def wrapper():\\n        print(\"Something is happening before the function is called.\")\\n        func()\\n        print(\"Something is happening after the function is called.\")\\n    return wrapper',\n  '@my_decorator\\ndef say_whee():\\n    print(\"Whee!\")',\n  'say_whee = my_decorator(say_whee)',\n  'say_whee()',\n  'def do_twice(func):\\n    def wrapper_do_twice():\\n        func()\\n        func()\\n    return wrapper_do_twice',\n  '@do_twice\\ndef say_whee():\\n    print(\"Whee!\")',\n  'say_whee()',\n  '@do_twice\\ndef greet(name):\\n    print(f\"hello {name}\")',\n  'greet(\"mohammad\")',\n  'def do_twice(func):\\n    def wrapper_do_twice(*args, **kwargs):\\n        func(*args, **kwargs)\\n        func(*args, **kwargs)\\n    return wrapper_do_twice',\n  'say_whee()',\n  'greet(\"mohammad\")',\n  '@do_twice\\ndef greet(name):\\n    print(f\"hello {name}\")',\n  'def do_twice(func):\\n    def wrapper_do_twice(*args, **kwargs):\\n        func(*args, **kwargs)\\n        func(*args, **kwargs)\\n    return wrapper_do_twice',\n  '@do_twice\\ndef say_whee():\\n    print(\"Whee!\")',\n  '@do_twice\\ndef greet(name):\\n    print(f\"hello {name}\")',\n  'say_whee()',\n  'greet(\"mohammad\")',\n  '@do_twice\\ndef return_greeting(name):\\n    print(\"Creating greeting\")\\n    return f\"Hi {name}\"',\n  'hi_mohammad = return_greeting(\"Mohammad\")',\n  'print(hi_mohammad)',\n  'def do_twice(func):\\n    def wrapper_do_twice(*args, **kwargs):\\n        func(*args, **kwargs)\\n        return func(*args, **kwargs)\\n    return wrapper_do_twice',\n  '@do_twice\\ndef return_greeting(name):\\n    print(\"Creating greeting\")\\n    return f\"Hi {name}\"',\n  'return_greeting(\"Mohammad\")',\n  'print',\n  'print.__name__',\n  'help(print)',\n  'say_whee',\n  'say_whee.__name__',\n  'help(say_whee)',\n  'help(return_greeting)',\n  'import functools\\n\\ndef do_twice(func):\\n    @functools.wraps(func)\\n    def wrapper_do_twice(*args, **kwargs):\\n        func(*args, **kwargs)\\n        return func(*args, **kwargs)\\n    return wrapper_do_twice',\n  'say_whee = do_twice(say_whee)',\n  'say_whee',\n  'say_whee.__name__',\n  '@do_twice\\ndef say_whee():\\n    print(\"Whee!\")',\n  'say_whee = do_twice(say_whee)',\n  'say_whee',\n  'say_whee.__name__',\n  'help(say_whee)',\n  'import functools\\n\\ndef decorator(func):\\n    @functools.wraps(func):\\n    def wrapper_decorator(*args, **kwargs):\\n        print(\"Start\")\\n        value = func(*args, **kwargs)\\n        print(\"End\")\\n        return value\\n    return wrapper_decorator',\n  'import functools\\n\\ndef decorator(func):\\n    @functools.wraps(func)\\n    def wrapper_decorator(*args, **kwargs):\\n        print(\"Start\")\\n        value = func(*args, **kwargs)\\n        print(\"End\")\\n        return value\\n    return wrapper_decorator',\n  'import functools\\nimport time\\n\\ndef timer(func):\\n    @functools.wraps(func)\\n    def wrapper_timer(*args, **kwargs):\\n        # print(\"Start\")\\n        start_time = time.perf_counter()\\n        value = func(*args, **kwargs)\\n        # print(\"End\")\\n        end_time = time.perf_counter()\\n        run_time = end_time - start_time\\n        print(f\"Finished {func.__name__!r} in {run_time:.4f} secs\")\\n        return value\\n    return wrapper_timer',\n  '@timer\\ndef waste_some_time(num_times):\\n    for _ in range(num_times):\\n        sum([i**2 for i in range(1000)])',\n  'waste_some_time(1)',\n  'waste_some_time(1000)',\n  '### Debugging Code',\n  'import functools\\n\\ndef debug(func):\\n    @functools.wraps(func)\\n    def wrapper_debug(*args, **kwargs):\\n        args_repr = [repr(a) for a in args]\\n        kwargs_repr = [f\"{k}={v!r}\" for k, v in kwargs.items()]\\n        signature = \", \".join(args_repr + kwargs_repr)\\n        print(f\"Calling {func.__name__}({signature})\")\\n        value = func(*args, **kwargs)\\n        print(f\"{func.__name__!r} returned {value!r}\")\\n        return value\\n    return wrapper_debug',\n  '@debug\\ndef make_greeting(name, age=None):\\n    if age is None:\\n        return f\"Howdy {name}!\"\\n    else:\\n        return f\"Whoa {name}! {age} already, you are growing up!\"',\n  'make_greeting(\"Mohammad\")',\n  'make_greeting(\"Richard\", age=112)',\n  'import functools\\n\\n\\ndef debug(func):\\n    @functools.wraps(func)\\n    def wrapper_debug(*args, **kwargs):\\n        args_repr = [repr(a) for a in args]\\n        kwargs_repr = [f\"{k}={v!r}\" for k, v in kwargs.items()]\\n        signature = \", \".join(args_repr)\\n        print(f\"Calling {func.__name__}({signature})\")\\n        value = func(*args, **kwargs)\\n        print(f\"{func.__name__!r} returned {value!r}\")\\n        return value\\n\\n    return wrapper_debug',\n  '@debug\\ndef make_greeting(name, age=None):\\n    if age is None:\\n        return f\"Howdy {name}!\"\\n    else:\\n        return f\"Whoa {name}! {age} already, you are growing up!\"',\n  'make_greeting(\"Richard\", age=112)',\n  'import functools\\n\\n\\ndef debug(func):\\n    @functools.wraps(func)\\n    def wrapper_debug(*args, **kwargs):\\n        args_repr = [repr(a) for a in args]\\n        kwargs_repr = [f\"{k}={v!r}\" for k, v in kwargs.items()]\\n        signature = \", \".join(args_repr + kwargs_repr)\\n        print(f\"Calling {func.__name__}({signature})\")\\n        value = func(*args, **kwargs)\\n        print(f\"{func.__name__!r} returned {value!r}\")\\n        return value\\n\\n    return wrapper_debug',\n  '@debug\\ndef make_greeting(name, age=None):\\n    if age is None:\\n        return f\"Howdy {name}!\"\\n    else:\\n        return f\"Whoa {name}! {age} already, you are growing up!\"',\n  'make_greeting(\"Mohammad\")',\n  'make_greeting(\"Richard\", age=112)',\n  'import functools\\n\\n\\ndef debug(func):\\n    @functools.wraps(func)\\n    def wrapper_debug(*args, **kwargs):\\n        args_repr = [repr(a) for a in args]\\n        kwargs_repr = [f\"{k}={v!r}\" for k, v in kwargs.items()]\\n        signature = \", \".join(args_repr + kwargs_repr)\\n        print(f\"Calling {func.__name__}({signature})\")\\n        value = func(*args, **kwargs)\\n        print(f\"{func.__name__!r} returned {value!r}\")\\n        return value\\n\\n    return wrapper_debug',\n  '@debug\\ndef make_greeting(name, age=None):\\n    if age is None:\\n        return f\"Howdy {name}!\"\\n    else:\\n        return f\"Whoa {name}! {age} already, you are growing up!\"',\n  'make_greeting(\"Mohammad\")',\n  'import math\\n\\nmath.factorial = debug(math.factorial)\\n\\ndef approximate_e(terms = 18):\\n    return sum(1/math.factorial(n) for n in range(terms))',\n  'approximate_e(5)',\n  'import functools\\nimport time \\n\\n\\ndef slow_down(func):\\n    @functools.wraps(func)\\n    def wrapper_slow_down(*args, **kwargs):\\n        # print(\"Start\")\\n        time.sleep(1)\\n        return func(*args, **kwargs)\\n        # value = func(*args, **kwargs)\\n        # print(\"End\")\\n        # return value\\n\\n    return wrapper_slow_down',\n  '@slow_down\\ndef countdown(from_unmber):\\n    if from_unmber < 1:\\n        print(\"Liftoff!\")\\n    else:\\n        print(from_unmber)\\n        countdown(from_unmber-1)',\n  'countdown(3)',\n  '@slow_down\\ndef countdown(from_number):\\n    if from_number < 1:\\n        print(\"Liftoff!\")\\n    else:\\n        print(from_number)\\n        countdown(from_number-1)',\n  'countdown(3)',\n  'import random\\n\\nPLUGINS = dict()\\n\\n\\ndef register(func):\\n    \"\"\"Register a function as a plug-in\"\"\"\\n    PLUGINS[func.__name__] = func\\n    return func',\n  '@register\\ndef say_hello(name):\\n    return f\\'Hello {name}\\'\\n\\n@register\\ndef be_awesome(name):\\n    return f\"Yo {name}, together we are the awesome!\"\\n\\ndef randomly_greet(name):\\n    greeter, greeter_func = random.choice(list(PLUGINS.items()))\\n    print(f\"Using {greeter!r}\")\\n    return greeter_func(name)',\n  'PLUGINS',\n  'randomly_greet(\"Alice\")',\n  'randomly_greet(\"Alice\")',\n  'randomly_greet(\"Alice\")',\n  'globals()'],\n 'Out': {2: 3,\n  4: 'Hello Bob',\n  5: 'Yo Bob, together we are the awesomest!',\n  10: <function __main__.parent.<locals>.first_child()>,\n  11: <function __main__.parent.<locals>.second_child()>,\n  16: <function __main__.my_decorator.<locals>.wrapper()>,\n  19: <function __main__.not_during_the_night.<locals>.wrapper()>,\n  22: <function __main__.my_decorator.<locals>.wrapper()>,\n  62: 'Hi Mohammad',\n  63: <function print(*args, sep=' ', end='\\n', file=None, flush=False)>,\n  64: 'print',\n  66: <function __main__.do_twice.<locals>.wrapper_do_twice(*args, **kwargs)>,\n  67: 'wrapper_do_twice',\n  72: <function __main__.do_twice.<locals>.wrapper_do_twice(*args, **kwargs)>,\n  73: 'wrapper_do_twice',\n  76: <function __main__.say_whee()>,\n  77: 'say_whee',\n  88: 'Howdy Mohammad!',\n  89: 'Whoa Richard! 112 already, you are growing up!',\n  92: 'Whoa Richard! 112 already, you are growing up!',\n  95: 'Howdy Mohammad!',\n  96: 'Whoa Richard! 112 already, you are growing up!',\n  99: 'Howdy Mohammad!',\n  101: 2.708333333333333,\n  109: {'say_hello': <function __main__.say_hello(name)>,\n   'be_awesome': <function __main__.be_awesome(name)>},\n  110: 'Yo Alice, together we are the awesome!',\n  111: 'Hello Alice',\n  112: 'Yo Alice, together we are the awesome!'},\n 'get_ipython': <bound method InteractiveShell.get_ipython of <ipykernel.zmqshell.ZMQInteractiveShell object at 0x000001DA8D735ED0>>,\n 'exit': <IPython.core.autocall.ZMQExitAutocall at 0x1da8d76d650>,\n 'quit': <IPython.core.autocall.ZMQExitAutocall at 0x1da8d76d650>,\n 'open': <function io.open(file, mode='r', buffering=-1, encoding=None, errors=None, newline=None, closefd=True, opener=None)>,\n '_': 'Yo Alice, together we are the awesome!',\n '__': 'Hello Alice',\n '___': 'Yo Alice, together we are the awesome!',\n 'sys': <module 'sys' (built-in)>,\n 'remove_imported_pydev_package': <function pydev_jupyter_utils.remove_imported_pydev_package()>,\n '_pydevd_bundle': <module '_pydevd_bundle' from 'C:\\\\Program Files\\\\JetBrains\\\\PyCharm 2022.3\\\\plugins\\\\python\\\\helpers\\\\pydev\\\\_pydevd_bundle\\\\__init__.py'>,\n 'pydev_jupyter_vars': <module 'pydev_jupyter_vars' from 'C:\\\\Program Files\\\\JetBrains\\\\PyCharm 2022.3\\\\plugins\\\\python\\\\helpers-pro\\\\jupyter_debug\\\\pydev_jupyter_vars.py'>,\n '_i': 'randomly_greet(\"Alice\")',\n '_ii': 'randomly_greet(\"Alice\")',\n '_iii': 'randomly_greet(\"Alice\")',\n '_i1': 'print(\"mohammad\")',\n '_i2': 'def add_one(number):\\n    return number + 1\\n\\nadd_one(2)',\n 'add_one': <function __main__.add_one(number)>,\n '_2': 3,\n '_i3': 'def say_hello(name):\\n    return f\"Hello {name}\"\\n\\ndef be_awesome(name):\\n    return f\"Yo {name}, together we are the awesomest!\"\\n\\ndef greet_bob(greeter_func):\\n    return greeter_func(\"Bob\")',\n 'say_hello': <function __main__.say_hello(name)>,\n 'be_awesome': <function __main__.be_awesome(name)>,\n 'greet_bob': <function __main__.greet_bob(greeter_func)>,\n '_i4': 'greet_bob(say_hello)',\n '_4': 'Hello Bob',\n '_i5': 'greet_bob(be_awesome)',\n '_5': 'Yo Bob, together we are the awesomest!',\n '_i6': 'def parent():\\n    print(\"Printing from the parent() function\")\\n\\n    def first_child():\\n        print(\"Printing from the first_child() function\")\\n\\n    def second_child():\\n        print(\"Printing from the second_child() function\")',\n 'parent': <function __main__.parent(num)>,\n '_i7': 'def parent():\\n    print(\"Printing from the parent() function\")\\n\\n    def first_child():\\n        print(\"Printing from the first_child() function\")\\n\\n    def second_child():\\n        print(\"Printing from the second_child() function\")\\n\\n    second_child()\\n    first_child()',\n '_i8': 'parent()',\n '_i9': 'def parent(num):\\n    def first_child():\\n        return \"Hi, I am Emma\"\\n\\n    def second_child():\\n        return \"Call me Liam\"\\n\\n    if num == 1:\\n        return first_child\\n    else:\\n        return second_child',\n '_i10': 'parent(1)',\n '_10': <function __main__.parent.<locals>.first_child()>,\n '_i11': 'parent(2)',\n '_11': <function __main__.parent.<locals>.second_child()>,\n '_i12': 'def my_decorator(func):\\n    def wrapper():\\n        print(\"Something is happening before the function is called.\")\\n        func()\\n        print(\"Something is happening after the function is called.\")\\n    return wrapper        ',\n 'my_decorator': <function __main__.my_decorator(func)>,\n '_i13': 'def say_whee():\\n    print(\"Whee!\")',\n 'say_whee': <function __main__.say_whee()>,\n '_i14': 'say_whee = my_decorator(say_whee)',\n '_i15': 'say_whee()',\n '_i16': 'say_whee',\n '_16': <function __main__.my_decorator.<locals>.wrapper()>,\n '_i17': 'from datetime import datetime\\n\\ndef not_during_the_night(func):\\n    def wrapper():\\n        if 7 <= datetime.now().hour < 22:\\n            func()\\n        else:\\n            pass  # Hush, the neighbors are asleep\\n    return wrapper\\n\\ndef say_whee():\\n    print(\"Whee!\")\\n\\nsay_whee = not_during_the_night(say_whee)',\n 'datetime': datetime.datetime,\n 'not_during_the_night': <function __main__.not_during_the_night(func)>,\n '_i18': 'say_whee()',\n '_i19': 'say_whee',\n '_19': <function __main__.not_during_the_night.<locals>.wrapper()>,\n '_i20': 'def my_decorator(func):\\n    def wrapper():\\n        print(\"Something is happening before the function is called.\")\\n        func()\\n        print(\"Something is happening after the function is called.\")\\n    return wrapper',\n '_i21': '@my_decorator\\ndef say_whee():\\n    print(\"Whee!\")',\n '_i22': 'check = my_decorator(say_whee)\\ncheck',\n 'check': <function __main__.my_decorator.<locals>.wrapper()>,\n '_22': <function __main__.my_decorator.<locals>.wrapper()>,\n '_i23': 'check = my_decorator(say_whee)\\ncheck()',\n '_i24': 'check = my_decorator(check)\\ncheck()',\n '_i25': 'check = my_decorator(check)\\ncheck()',\n '_i26': 'check = my_decorator(check)\\ncheck()',\n '_i27': 'say_whee()',\n '_i28': 'say_whee()',\n '_i29': 'from datetime import datetime\\n\\ndef not_during_the_night(func):\\n    def wrapper():\\n        if 7 <= datetime.now().hour < 22:\\n            func()\\n        else:\\n            pass  # Hush, the neighbors are asleep\\n    return wrapper\\n\\ndef say_whee():\\n    print(\"Whee!\")\\n\\nsay_whee = not_during_the_night(say_whee)',\n '_i30': 'say_whee()',\n '_i31': 'say_whee()',\n '_i32': 'def my_decorator(func):\\n    def wrapper():\\n        print(\"Something is happening before the function is called.\")\\n        func()\\n        print(\"Something is happening after the function is called.\")\\n    return wrapper',\n '_i33': '@my_decorator\\ndef check():\\n    print(\"Whee!\")',\n '_i34': 'check = my_decorator(check)\\ncheck()',\n '_i35': 'def my_decorator(func):\\n    def wrapper():\\n        print(\"Something is happening before the function is called.\")\\n        func()\\n        print(\"Something is happening after the function is called.\")\\n    return wrapper',\n '_i36': '@my_decorator\\ndef check():\\n    print(\"Whee!\")',\n '_i37': 'check = my_decorator(check)',\n '_i38': 'check()',\n '_i39': 'def my_decorator(func):\\n    def wrapper():\\n        print(\"Something is happening before the function is called.\")\\n        func()\\n        print(\"Something is happening after the function is called.\")\\n    return wrapper',\n '_i40': '@my_decorator\\ndef say_whee():\\n    print(\"Whee!\")',\n '_i41': 'say_whee = my_decorator(say_whee)',\n '_i42': 'say_whee()',\n '_i43': 'def do_twice(func):\\n    def wrapper_do_twice():\\n        func()\\n        func()\\n    return wrapper_do_twice',\n 'do_twice': <function __main__.do_twice(func)>,\n '_i44': '@do_twice\\ndef say_whee():\\n    print(\"Whee!\")',\n '_i45': 'say_whee()',\n '_i46': '@do_twice\\ndef greet(name):\\n    print(f\"hello {name}\")',\n 'greet': <function __main__.do_twice.<locals>.wrapper_do_twice(*args, **kwargs)>,\n '_i47': 'greet(\"mohammad\")',\n '_i48': 'def do_twice(func):\\n    def wrapper_do_twice(*args, **kwargs):\\n        func(*args, **kwargs)\\n        func(*args, **kwargs)\\n    return wrapper_do_twice',\n '_i49': 'say_whee()',\n '_i50': 'greet(\"mohammad\")',\n '_i51': '@do_twice\\ndef greet(name):\\n    print(f\"hello {name}\")',\n '_i52': 'def do_twice(func):\\n    def wrapper_do_twice(*args, **kwargs):\\n        func(*args, **kwargs)\\n        func(*args, **kwargs)\\n    return wrapper_do_twice',\n '_i53': '@do_twice\\ndef say_whee():\\n    print(\"Whee!\")',\n '_i54': '@do_twice\\ndef greet(name):\\n    print(f\"hello {name}\")',\n '_i55': 'say_whee()',\n '_i56': 'greet(\"mohammad\")',\n '_i57': '@do_twice\\ndef return_greeting(name):\\n    print(\"Creating greeting\")\\n    return f\"Hi {name}\"',\n 'return_greeting': <function __main__.do_twice.<locals>.wrapper_do_twice(*args, **kwargs)>,\n '_i58': 'hi_mohammad = return_greeting(\"Mohammad\")',\n 'hi_mohammad': None,\n '_i59': 'print(hi_mohammad)',\n '_i60': 'def do_twice(func):\\n    def wrapper_do_twice(*args, **kwargs):\\n        func(*args, **kwargs)\\n        return func(*args, **kwargs)\\n    return wrapper_do_twice',\n '_i61': '@do_twice\\ndef return_greeting(name):\\n    print(\"Creating greeting\")\\n    return f\"Hi {name}\"',\n '_i62': 'return_greeting(\"Mohammad\")',\n '_62': 'Hi Mohammad',\n '_i63': 'print',\n '_63': <function print(*args, sep=' ', end='\\n', file=None, flush=False)>,\n '_i64': 'print.__name__',\n '_64': 'print',\n '_i65': 'help(print)',\n '_i66': 'say_whee',\n '_66': <function __main__.do_twice.<locals>.wrapper_do_twice(*args, **kwargs)>,\n '_i67': 'say_whee.__name__',\n '_67': 'wrapper_do_twice',\n '_i68': 'help(say_whee)',\n '_i69': 'help(return_greeting)',\n '_i70': 'import functools\\n\\ndef do_twice(func):\\n    @functools.wraps(func)\\n    def wrapper_do_twice(*args, **kwargs):\\n        func(*args, **kwargs)\\n        return func(*args, **kwargs)\\n    return wrapper_do_twice',\n 'functools': <module 'functools' from 'C:\\\\Users\\\\USER\\\\AppData\\\\Local\\\\Programs\\\\Python\\\\Python311\\\\Lib\\\\functools.py'>,\n '_i71': 'say_whee = do_twice(say_whee)',\n '_i72': 'say_whee',\n '_72': <function __main__.do_twice.<locals>.wrapper_do_twice(*args, **kwargs)>,\n '_i73': 'say_whee.__name__',\n '_73': 'wrapper_do_twice',\n '_i74': '@do_twice\\ndef say_whee():\\n    print(\"Whee!\")',\n '_i75': 'say_whee = do_twice(say_whee)',\n '_i76': 'say_whee',\n '_76': <function __main__.say_whee()>,\n '_i77': 'say_whee.__name__',\n '_77': 'say_whee',\n '_i78': 'help(say_whee)',\n '_i79': 'import functools\\n\\ndef decorator(func):\\n    @functools.wraps(func):\\n    def wrapper_decorator(*args, **kwargs):\\n        print(\"Start\")\\n        value = func(*args, **kwargs)\\n        print(\"End\")\\n        return value\\n    return wrapper_decorator',\n '_i80': 'import functools\\n\\ndef decorator(func):\\n    @functools.wraps(func)\\n    def wrapper_decorator(*args, **kwargs):\\n        print(\"Start\")\\n        value = func(*args, **kwargs)\\n        print(\"End\")\\n        return value\\n    return wrapper_decorator',\n 'decorator': <function __main__.decorator(func)>,\n '_i81': 'import functools\\nimport time\\n\\ndef timer(func):\\n    @functools.wraps(func)\\n    def wrapper_timer(*args, **kwargs):\\n        # print(\"Start\")\\n        start_time = time.perf_counter()\\n        value = func(*args, **kwargs)\\n        # print(\"End\")\\n        end_time = time.perf_counter()\\n        run_time = end_time - start_time\\n        print(f\"Finished {func.__name__!r} in {run_time:.4f} secs\")\\n        return value\\n    return wrapper_timer',\n 'time': <module 'time' (built-in)>,\n 'timer': <function __main__.timer(func)>,\n '_i82': '@timer\\ndef waste_some_time(num_times):\\n    for _ in range(num_times):\\n        sum([i**2 for i in range(1000)])',\n 'waste_some_time': <function __main__.waste_some_time(num_times)>,\n '_i83': 'waste_some_time(1)',\n '_i84': 'waste_some_time(1000)',\n '_i85': '### Debugging Code',\n '_i86': 'import functools\\n\\ndef debug(func):\\n    @functools.wraps(func)\\n    def wrapper_debug(*args, **kwargs):\\n        args_repr = [repr(a) for a in args]\\n        kwargs_repr = [f\"{k}={v!r}\" for k, v in kwargs.items()]\\n        signature = \", \".join(args_repr + kwargs_repr)\\n        print(f\"Calling {func.__name__}({signature})\")\\n        value = func(*args, **kwargs)\\n        print(f\"{func.__name__!r} returned {value!r}\")\\n        return value\\n    return wrapper_debug',\n 'debug': <function __main__.debug(func)>,\n '_i87': '@debug\\ndef make_greeting(name, age=None):\\n    if age is None:\\n        return f\"Howdy {name}!\"\\n    else:\\n        return f\"Whoa {name}! {age} already, you are growing up!\"',\n 'make_greeting': <function __main__.make_greeting(name, age=None)>,\n '_i88': 'make_greeting(\"Mohammad\")',\n '_88': 'Howdy Mohammad!',\n '_i89': 'make_greeting(\"Richard\", age=112)',\n '_89': 'Whoa Richard! 112 already, you are growing up!',\n '_i90': 'import functools\\n\\n\\ndef debug(func):\\n    @functools.wraps(func)\\n    def wrapper_debug(*args, **kwargs):\\n        args_repr = [repr(a) for a in args]\\n        kwargs_repr = [f\"{k}={v!r}\" for k, v in kwargs.items()]\\n        signature = \", \".join(args_repr)\\n        print(f\"Calling {func.__name__}({signature})\")\\n        value = func(*args, **kwargs)\\n        print(f\"{func.__name__!r} returned {value!r}\")\\n        return value\\n\\n    return wrapper_debug',\n '_i91': '@debug\\ndef make_greeting(name, age=None):\\n    if age is None:\\n        return f\"Howdy {name}!\"\\n    else:\\n        return f\"Whoa {name}! {age} already, you are growing up!\"',\n '_i92': 'make_greeting(\"Richard\", age=112)',\n '_92': 'Whoa Richard! 112 already, you are growing up!',\n '_i93': 'import functools\\n\\n\\ndef debug(func):\\n    @functools.wraps(func)\\n    def wrapper_debug(*args, **kwargs):\\n        args_repr = [repr(a) for a in args]\\n        kwargs_repr = [f\"{k}={v!r}\" for k, v in kwargs.items()]\\n        signature = \", \".join(args_repr + kwargs_repr)\\n        print(f\"Calling {func.__name__}({signature})\")\\n        value = func(*args, **kwargs)\\n        print(f\"{func.__name__!r} returned {value!r}\")\\n        return value\\n\\n    return wrapper_debug',\n '_i94': '@debug\\ndef make_greeting(name, age=None):\\n    if age is None:\\n        return f\"Howdy {name}!\"\\n    else:\\n        return f\"Whoa {name}! {age} already, you are growing up!\"',\n '_i95': 'make_greeting(\"Mohammad\")',\n '_95': 'Howdy Mohammad!',\n '_i96': 'make_greeting(\"Richard\", age=112)',\n '_96': 'Whoa Richard! 112 already, you are growing up!',\n '_i97': 'import functools\\n\\n\\ndef debug(func):\\n    @functools.wraps(func)\\n    def wrapper_debug(*args, **kwargs):\\n        args_repr = [repr(a) for a in args]\\n        kwargs_repr = [f\"{k}={v!r}\" for k, v in kwargs.items()]\\n        signature = \", \".join(args_repr + kwargs_repr)\\n        print(f\"Calling {func.__name__}({signature})\")\\n        value = func(*args, **kwargs)\\n        print(f\"{func.__name__!r} returned {value!r}\")\\n        return value\\n\\n    return wrapper_debug',\n '_i98': '@debug\\ndef make_greeting(name, age=None):\\n    if age is None:\\n        return f\"Howdy {name}!\"\\n    else:\\n        return f\"Whoa {name}! {age} already, you are growing up!\"',\n '_i99': 'make_greeting(\"Mohammad\")',\n '_99': 'Howdy Mohammad!',\n '_i100': 'import math\\n\\nmath.factorial = debug(math.factorial)\\n\\ndef approximate_e(terms = 18):\\n    return sum(1/math.factorial(n) for n in range(terms))',\n 'math': <module 'math' (built-in)>,\n 'approximate_e': <function __main__.approximate_e(terms=18)>,\n '_i101': 'approximate_e(5)',\n '_101': 2.708333333333333,\n '_i102': 'import functools\\nimport time \\n\\n\\ndef slow_down(func):\\n    @functools.wraps(func)\\n    def wrapper_slow_down(*args, **kwargs):\\n        # print(\"Start\")\\n        time.sleep(1)\\n        return func(*args, **kwargs)\\n        # value = func(*args, **kwargs)\\n        # print(\"End\")\\n        # return value\\n\\n    return wrapper_slow_down',\n 'slow_down': <function __main__.slow_down(func)>,\n '_i103': '@slow_down\\ndef countdown(from_unmber):\\n    if from_unmber < 1:\\n        print(\"Liftoff!\")\\n    else:\\n        print(from_unmber)\\n        countdown(from_unmber-1)',\n 'countdown': <function __main__.countdown(from_number)>,\n '_i104': 'countdown(3)',\n '_i105': '@slow_down\\ndef countdown(from_number):\\n    if from_number < 1:\\n        print(\"Liftoff!\")\\n    else:\\n        print(from_number)\\n        countdown(from_number-1)',\n '_i106': 'countdown(3)',\n '_i107': 'import random\\n\\nPLUGINS = dict()\\n\\n\\ndef register(func):\\n    \"\"\"Register a function as a plug-in\"\"\"\\n    PLUGINS[func.__name__] = func\\n    return func',\n 'random': <module 'random' from 'C:\\\\Users\\\\USER\\\\AppData\\\\Local\\\\Programs\\\\Python\\\\Python311\\\\Lib\\\\random.py'>,\n 'PLUGINS': {'say_hello': <function __main__.say_hello(name)>,\n  'be_awesome': <function __main__.be_awesome(name)>},\n 'register': <function __main__.register(func)>,\n '_i108': '@register\\ndef say_hello(name):\\n    return f\\'Hello {name}\\'\\n\\n@register\\ndef be_awesome(name):\\n    return f\"Yo {name}, together we are the awesome!\"\\n\\ndef randomly_greet(name):\\n    greeter, greeter_func = random.choice(list(PLUGINS.items()))\\n    print(f\"Using {greeter!r}\")\\n    return greeter_func(name)',\n 'randomly_greet': <function __main__.randomly_greet(name)>,\n '_i109': 'PLUGINS',\n '_109': {'say_hello': <function __main__.say_hello(name)>,\n  'be_awesome': <function __main__.be_awesome(name)>},\n '_i110': 'randomly_greet(\"Alice\")',\n '_110': 'Yo Alice, together we are the awesome!',\n '_i111': 'randomly_greet(\"Alice\")',\n '_111': 'Hello Alice',\n '_i112': 'randomly_greet(\"Alice\")',\n '_112': 'Yo Alice, together we are the awesome!',\n '_i113': 'globals()'}"
     },
     "execution_count": 113,
     "metadata": {},
     "output_type": "execute_result"
    }
   ],
   "source": [
    "globals()"
   ],
   "metadata": {
    "collapsed": false
   }
  },
  {
   "cell_type": "markdown",
   "source": [
    "### Is the User Logged In?"
   ],
   "metadata": {
    "collapsed": false
   }
  },
  {
   "cell_type": "code",
   "execution_count": 114,
   "outputs": [],
   "source": [
    "from flask import Flask, g, request, redirect, url_for\n",
    "import functools\n",
    "\n",
    "app = Flask(__name__)\n",
    "\n",
    "\n",
    "def login_required(func):\n",
    "    \"\"\"Make sure user is logged in before proceeding\"\"\"\n",
    "\n",
    "    @functools.wraps(func)\n",
    "    def wrapper_login_required(*args, **kwargs):\n",
    "        # print(\"Start\")\n",
    "        if g.user in None:\n",
    "            return redirect(url_for(\"login\", next=request.url))\n",
    "        return func(*args, **kwargs)\n",
    "        # value = func(*args, **kwargs)\n",
    "        # print(\"End\")\n",
    "        # return value\n",
    "\n",
    "    return wrapper_login_required"
   ],
   "metadata": {
    "collapsed": false
   }
  },
  {
   "cell_type": "code",
   "execution_count": 115,
   "outputs": [],
   "source": [
    "@app.route(\"/secret\")\n",
    "@login_required\n",
    "def secret():\n",
    "    pass"
   ],
   "metadata": {
    "collapsed": false
   }
  },
  {
   "cell_type": "markdown",
   "source": [
    "# Fancy Decorators"
   ],
   "metadata": {
    "collapsed": false
   }
  },
  {
   "cell_type": "code",
   "execution_count": 116,
   "outputs": [],
   "source": [
    "class TimeWaster:\n",
    "    @debug\n",
    "    def __init__(self, max_num):\n",
    "        self.max_num = max_num\n",
    "\n",
    "    @timer\n",
    "    def waste_time(self, num_times):\n",
    "        for _ in range(num_times):\n",
    "            sum([i ** 2 for i in range(self.max_num)])"
   ],
   "metadata": {
    "collapsed": false
   }
  },
  {
   "cell_type": "code",
   "execution_count": 117,
   "outputs": [
    {
     "name": "stdout",
     "output_type": "stream",
     "text": [
      "Calling __init__(<__main__.TimeWaster object at 0x000001DA8E425350>, 1000)\n",
      "'__init__' returned None\n"
     ]
    }
   ],
   "source": [
    "tw = TimeWaster(1000)"
   ],
   "metadata": {
    "collapsed": false
   }
  },
  {
   "cell_type": "code",
   "execution_count": 118,
   "outputs": [
    {
     "name": "stdout",
     "output_type": "stream",
     "text": [
      "Finished 'waste_time' in 0.0480 secs\n"
     ]
    }
   ],
   "source": [
    "tw.waste_time(999)"
   ],
   "metadata": {
    "collapsed": false
   }
  },
  {
   "cell_type": "code",
   "execution_count": 119,
   "outputs": [],
   "source": [
    "from dataclasses import dataclass\n",
    "\n",
    "\n",
    "@dataclass\n",
    "class PlayingCard:\n",
    "    rank: str\n",
    "    suit: str"
   ],
   "metadata": {
    "collapsed": false
   }
  },
  {
   "cell_type": "code",
   "execution_count": 120,
   "outputs": [],
   "source": [
    "@timer\n",
    "class TimeWaster:\n",
    "    def __init__(self, max_num):\n",
    "        self.max_num = max_num\n",
    "\n",
    "    def waste_time(self, num_times):\n",
    "        for _ in range(num_times):\n",
    "            sum([i ** 2 for i in range(self.max_num)])"
   ],
   "metadata": {
    "collapsed": false
   }
  },
  {
   "cell_type": "code",
   "execution_count": 121,
   "outputs": [
    {
     "name": "stdout",
     "output_type": "stream",
     "text": [
      "Finished 'TimeWaster' in 0.0000 secs\n"
     ]
    }
   ],
   "source": [
    "tw = TimeWaster(1000)"
   ],
   "metadata": {
    "collapsed": false
   }
  },
  {
   "cell_type": "code",
   "execution_count": 122,
   "outputs": [],
   "source": [
    "tw.waste_time(999)"
   ],
   "metadata": {
    "collapsed": false
   }
  },
  {
   "cell_type": "markdown",
   "source": [
    "### Nesting Decorators"
   ],
   "metadata": {
    "collapsed": false
   }
  },
  {
   "cell_type": "code",
   "execution_count": 123,
   "outputs": [],
   "source": [
    "@debug\n",
    "@do_twice\n",
    "def greet(name):\n",
    "    print(f\"Hello {name}\")"
   ],
   "metadata": {
    "collapsed": false
   }
  },
  {
   "cell_type": "code",
   "execution_count": 124,
   "outputs": [
    {
     "name": "stdout",
     "output_type": "stream",
     "text": [
      "Calling greet('Eva')\n",
      "Hello Eva\n",
      "Hello Eva\n",
      "'greet' returned None\n"
     ]
    }
   ],
   "source": [
    "greet(\"Eva\")"
   ],
   "metadata": {
    "collapsed": false
   }
  },
  {
   "cell_type": "code",
   "execution_count": 125,
   "outputs": [],
   "source": [
    "@do_twice\n",
    "@debug\n",
    "def greet(name):\n",
    "    print(f\"Hello {name}\")"
   ],
   "metadata": {
    "collapsed": false
   }
  },
  {
   "cell_type": "code",
   "execution_count": 126,
   "outputs": [
    {
     "name": "stdout",
     "output_type": "stream",
     "text": [
      "Calling greet('Eva')\n",
      "Hello Eva\n",
      "'greet' returned None\n",
      "Calling greet('Eva')\n",
      "Hello Eva\n",
      "'greet' returned None\n"
     ]
    }
   ],
   "source": [
    "greet(\"Eva\")"
   ],
   "metadata": {
    "collapsed": false
   }
  },
  {
   "cell_type": "markdown",
   "source": [
    "### Decorators With Arguments"
   ],
   "metadata": {
    "collapsed": false
   }
  },
  {
   "cell_type": "code",
   "execution_count": 133,
   "outputs": [],
   "source": [
    "import functools\n",
    "\n",
    "\n",
    "def repeat(num_times):\n",
    "    def decorator_repeat(func):\n",
    "        @functools.wraps(func)\n",
    "        def wrapper_repeat(*args, **kwargs):\n",
    "            # print(\"Start\")\n",
    "            for _ in range(num_times):\n",
    "                value = func(*args, **kwargs)\n",
    "            return value\n",
    "            # print(\"End\")\n",
    "            # return value\n",
    "\n",
    "        return wrapper_repeat\n",
    "\n",
    "    return decorator_repeat"
   ],
   "metadata": {
    "collapsed": false
   }
  },
  {
   "cell_type": "code",
   "execution_count": 134,
   "outputs": [],
   "source": [
    "@repeat(num_times=4)\n",
    "def greet(name):\n",
    "    print(f\"Hello {name}\")"
   ],
   "metadata": {
    "collapsed": false
   }
  },
  {
   "cell_type": "code",
   "execution_count": 135,
   "outputs": [
    {
     "name": "stdout",
     "output_type": "stream",
     "text": [
      "Hello Mohammad\n",
      "Hello Mohammad\n",
      "Hello Mohammad\n",
      "Hello Mohammad\n"
     ]
    }
   ],
   "source": [
    "greet(\"Mohammad\")"
   ],
   "metadata": {
    "collapsed": false
   }
  },
  {
   "cell_type": "markdown",
   "source": [
    "### Both Please, But Never Mind the Bread"
   ],
   "metadata": {
    "collapsed": false
   }
  },
  {
   "cell_type": "code",
   "execution_count": 136,
   "outputs": [],
   "source": [
    "def repeat(_func=None, *, num_times=2):  # 1\n",
    "    def decorator_repeat(func):\n",
    "        @functools.wraps(func)\n",
    "        def wrapper_repeat(*args, **kwargs):\n",
    "            # print(\"Start\")\n",
    "            for _ in range(num_times):\n",
    "                value = func(*args, **kwargs)\n",
    "            return value\n",
    "            # print(\"End\")\n",
    "            # return value\n",
    "\n",
    "        return wrapper_repeat\n",
    "\n",
    "    if _func is None:\n",
    "        return decorator_repeat  # 2\n",
    "    else:\n",
    "        return decorator_repeat(_func)"
   ],
   "metadata": {
    "collapsed": false
   }
  },
  {
   "cell_type": "code",
   "execution_count": 137,
   "outputs": [],
   "source": [
    "@repeat\n",
    "def say_whee():\n",
    "    print(\"Whee!\")\n",
    "\n",
    "\n",
    "@repeat(num_times=3)\n",
    "def greet(name):\n",
    "    print(f\"Hello {name}\")"
   ],
   "metadata": {
    "collapsed": false
   }
  },
  {
   "cell_type": "code",
   "execution_count": 138,
   "outputs": [
    {
     "name": "stdout",
     "output_type": "stream",
     "text": [
      "Whee!\n",
      "Whee!\n"
     ]
    }
   ],
   "source": [
    "say_whee()"
   ],
   "metadata": {
    "collapsed": false
   }
  },
  {
   "cell_type": "code",
   "execution_count": 139,
   "outputs": [
    {
     "name": "stdout",
     "output_type": "stream",
     "text": [
      "Hello Mohammad\n",
      "Hello Mohammad\n",
      "Hello Mohammad\n"
     ]
    }
   ],
   "source": [
    "greet(\"Mohammad\")"
   ],
   "metadata": {
    "collapsed": false
   }
  },
  {
   "cell_type": "markdown",
   "source": [
    "### Stateful Decorators"
   ],
   "metadata": {
    "collapsed": false
   }
  },
  {
   "cell_type": "code",
   "execution_count": 13,
   "outputs": [],
   "source": [
    "import functools\n",
    "\n",
    "\n",
    "def count_calls(func):\n",
    "    @functools.wraps(func)\n",
    "    def wrapper_count_calls(*args, **kwargs):\n",
    "        # print(\"Start\")\n",
    "        wrapper_count_calls.num_calls += 1\n",
    "        print(f\"Call {wrapper_count_calls.num_calls} of {func.__name__!r}\")\n",
    "        return func(*args, **kwargs)\n",
    "\n",
    "    wrapper_count_calls.num_calls = 0\n",
    "    return wrapper_count_calls"
   ],
   "metadata": {
    "collapsed": false,
    "ExecuteTime": {
     "end_time": "2023-06-15T12:08:01.518412700Z",
     "start_time": "2023-06-15T12:08:01.501254400Z"
    }
   }
  },
  {
   "cell_type": "code",
   "execution_count": 141,
   "outputs": [],
   "source": [
    "@count_calls\n",
    "def say_whee():\n",
    "    print(\"Whee!\")"
   ],
   "metadata": {
    "collapsed": false
   }
  },
  {
   "cell_type": "code",
   "execution_count": 142,
   "outputs": [
    {
     "name": "stdout",
     "output_type": "stream",
     "text": [
      "Call 1 of 'say_whee'\n",
      "Whee!\n"
     ]
    }
   ],
   "source": [
    "say_whee()"
   ],
   "metadata": {
    "collapsed": false
   }
  },
  {
   "cell_type": "code",
   "execution_count": 143,
   "outputs": [
    {
     "name": "stdout",
     "output_type": "stream",
     "text": [
      "Call 2 of 'say_whee'\n",
      "Whee!\n"
     ]
    }
   ],
   "source": [
    "say_whee()"
   ],
   "metadata": {
    "collapsed": false
   }
  },
  {
   "cell_type": "code",
   "execution_count": 144,
   "outputs": [
    {
     "data": {
      "text/plain": "2"
     },
     "execution_count": 144,
     "metadata": {},
     "output_type": "execute_result"
    }
   ],
   "source": [
    "say_whee.num_calls"
   ],
   "metadata": {
    "collapsed": false
   }
  },
  {
   "cell_type": "markdown",
   "source": [
    "### Classes as Decorators"
   ],
   "metadata": {
    "collapsed": false
   }
  },
  {
   "cell_type": "code",
   "execution_count": 145,
   "outputs": [],
   "source": [
    "class Counter:\n",
    "    def __init__(self, start=0):\n",
    "        self.count = start\n",
    "\n",
    "    def __call__(self):\n",
    "        self.count += 1\n",
    "        print(f\"Current count is {self.count}\")"
   ],
   "metadata": {
    "collapsed": false
   }
  },
  {
   "cell_type": "code",
   "execution_count": 146,
   "outputs": [],
   "source": [
    "counter = Counter()"
   ],
   "metadata": {
    "collapsed": false
   }
  },
  {
   "cell_type": "code",
   "execution_count": 147,
   "outputs": [
    {
     "name": "stdout",
     "output_type": "stream",
     "text": [
      "Current count is 1\n"
     ]
    }
   ],
   "source": [
    "counter()"
   ],
   "metadata": {
    "collapsed": false
   }
  },
  {
   "cell_type": "code",
   "execution_count": 148,
   "outputs": [
    {
     "name": "stdout",
     "output_type": "stream",
     "text": [
      "Current count is 2\n"
     ]
    }
   ],
   "source": [
    "counter()"
   ],
   "metadata": {
    "collapsed": false
   }
  },
  {
   "cell_type": "code",
   "execution_count": 149,
   "outputs": [
    {
     "data": {
      "text/plain": "2"
     },
     "execution_count": 149,
     "metadata": {},
     "output_type": "execute_result"
    }
   ],
   "source": [
    "counter.count"
   ],
   "metadata": {
    "collapsed": false
   }
  },
  {
   "cell_type": "code",
   "execution_count": 3,
   "outputs": [],
   "source": [
    "import functools\n",
    "\n",
    "\n",
    "class CountCalls:\n",
    "    def __init__(self, func):\n",
    "        functools.update_wrapper(self, func)\n",
    "        self.func = func\n",
    "        self.num_calls = 0\n",
    "\n",
    "    def __call__(self, *args, **kwargs):\n",
    "        self.num_calls += 1\n",
    "        print(f\"Call {self.num_calls} of {self.func.__name__!r}\")\n",
    "        return self.func(*args, **kwargs)"
   ],
   "metadata": {
    "collapsed": false,
    "ExecuteTime": {
     "end_time": "2023-06-15T11:41:07.619453Z",
     "start_time": "2023-06-15T11:41:07.603771100Z"
    }
   }
  },
  {
   "cell_type": "code",
   "execution_count": 5,
   "outputs": [],
   "source": [
    "@CountCalls\n",
    "def say_whee():\n",
    "    print(\"Whee\")"
   ],
   "metadata": {
    "collapsed": false,
    "ExecuteTime": {
     "end_time": "2023-06-15T11:41:34.246879600Z",
     "start_time": "2023-06-15T11:41:34.222248200Z"
    }
   }
  },
  {
   "cell_type": "code",
   "execution_count": 6,
   "outputs": [
    {
     "name": "stdout",
     "output_type": "stream",
     "text": [
      "Call 1 of 'say_whee'\n",
      "Whee\n"
     ]
    }
   ],
   "source": [
    "say_whee()"
   ],
   "metadata": {
    "collapsed": false,
    "ExecuteTime": {
     "end_time": "2023-06-15T11:41:35.915253100Z",
     "start_time": "2023-06-15T11:41:35.892208Z"
    }
   }
  },
  {
   "cell_type": "code",
   "execution_count": 7,
   "outputs": [
    {
     "name": "stdout",
     "output_type": "stream",
     "text": [
      "Call 2 of 'say_whee'\n",
      "Whee\n"
     ]
    }
   ],
   "source": [
    "say_whee()"
   ],
   "metadata": {
    "collapsed": false,
    "ExecuteTime": {
     "end_time": "2023-06-15T11:41:50.971025600Z",
     "start_time": "2023-06-15T11:41:50.963630300Z"
    }
   }
  },
  {
   "cell_type": "code",
   "execution_count": 8,
   "outputs": [
    {
     "data": {
      "text/plain": "2"
     },
     "execution_count": 8,
     "metadata": {},
     "output_type": "execute_result"
    }
   ],
   "source": [
    "say_whee.num_calls"
   ],
   "metadata": {
    "collapsed": false,
    "ExecuteTime": {
     "end_time": "2023-06-15T11:41:54.748870600Z",
     "start_time": "2023-06-15T11:41:54.722295800Z"
    }
   }
  },
  {
   "cell_type": "markdown",
   "source": [
    "# More Reall World Examples"
   ],
   "metadata": {
    "collapsed": false
   }
  },
  {
   "cell_type": "code",
   "execution_count": 15,
   "outputs": [],
   "source": [
    "import functools\n",
    "import time\n",
    "\n",
    "\n",
    "def slow_down(_func=None, *, rate=1):\n",
    "    \"\"\"Sleep given amount of seconds before calling the function\"\"\"\n",
    "\n",
    "    def decorator_slow_down(func):\n",
    "        @functools.wraps(func)\n",
    "        def wrapper_slow_down(*args, **kwargs):\n",
    "            time.sleep(rate)\n",
    "            return func(*args, **kwargs)\n",
    "\n",
    "        return wrapper_slow_down\n",
    "\n",
    "    if _func is None:\n",
    "        return decorator_slow_down\n",
    "    else:\n",
    "        return decorator_slow_down(_func)"
   ],
   "metadata": {
    "collapsed": false,
    "ExecuteTime": {
     "end_time": "2023-06-15T11:48:47.944029400Z",
     "start_time": "2023-06-15T11:48:47.922964300Z"
    }
   }
  },
  {
   "cell_type": "code",
   "execution_count": 20,
   "outputs": [],
   "source": [
    "@slow_down(rate=2)\n",
    "def countdown(from_number):\n",
    "    if from_number < 1:\n",
    "        print(\"Liftoff!\")\n",
    "    else:\n",
    "        print(from_number)\n",
    "        countdown(from_number - 1)"
   ],
   "metadata": {
    "collapsed": false,
    "ExecuteTime": {
     "end_time": "2023-06-15T11:49:55.239087200Z",
     "start_time": "2023-06-15T11:49:55.230598300Z"
    }
   }
  },
  {
   "cell_type": "code",
   "execution_count": 21,
   "outputs": [
    {
     "name": "stdout",
     "output_type": "stream",
     "text": [
      "3\n",
      "2\n",
      "1\n",
      "Liftoff!\n"
     ]
    }
   ],
   "source": [
    "countdown(3)"
   ],
   "metadata": {
    "collapsed": false,
    "ExecuteTime": {
     "end_time": "2023-06-15T11:50:04.765141700Z",
     "start_time": "2023-06-15T11:49:56.760558300Z"
    }
   }
  },
  {
   "cell_type": "markdown",
   "source": [
    "# Creating Singletons"
   ],
   "metadata": {
    "collapsed": false
   }
  },
  {
   "cell_type": "code",
   "execution_count": 1,
   "outputs": [],
   "source": [
    "import functools\n",
    "\n",
    "\n",
    "def singelton(cls):\n",
    "    \"\"\"Make a class a Singleton class (only one instance)\"\"\"\n",
    "\n",
    "    @functools.wraps(cls)\n",
    "    def wrapper_singleton(*args, **kwargs):\n",
    "        if not wrapper_singleton.instance:\n",
    "            wrapper_singleton.instance = cls(*args, **kwargs)\n",
    "        return wrapper_singleton.instance\n",
    "\n",
    "    wrapper_singleton.instance = None\n",
    "    return wrapper_singleton\n",
    "\n",
    "\n",
    "@singelton\n",
    "class TheOne:\n",
    "    pass"
   ],
   "metadata": {
    "collapsed": false,
    "ExecuteTime": {
     "end_time": "2023-06-15T12:03:08.723441400Z",
     "start_time": "2023-06-15T12:03:08.722767100Z"
    }
   }
  },
  {
   "cell_type": "code",
   "execution_count": 2,
   "outputs": [],
   "source": [
    "first_one = TheOne()"
   ],
   "metadata": {
    "collapsed": false,
    "ExecuteTime": {
     "end_time": "2023-06-15T12:04:04.132789Z",
     "start_time": "2023-06-15T12:04:04.098588700Z"
    }
   }
  },
  {
   "cell_type": "code",
   "execution_count": 3,
   "outputs": [],
   "source": [
    "another_one = TheOne()"
   ],
   "metadata": {
    "collapsed": false,
    "ExecuteTime": {
     "end_time": "2023-06-15T12:04:14.692102400Z",
     "start_time": "2023-06-15T12:04:14.645220200Z"
    }
   }
  },
  {
   "cell_type": "code",
   "execution_count": 4,
   "outputs": [
    {
     "data": {
      "text/plain": "1645259655568"
     },
     "execution_count": 4,
     "metadata": {},
     "output_type": "execute_result"
    }
   ],
   "source": [
    "id(first_one)"
   ],
   "metadata": {
    "collapsed": false,
    "ExecuteTime": {
     "end_time": "2023-06-15T12:04:21.054235600Z",
     "start_time": "2023-06-15T12:04:21.003072800Z"
    }
   }
  },
  {
   "cell_type": "code",
   "execution_count": 5,
   "outputs": [
    {
     "data": {
      "text/plain": "1645259655568"
     },
     "execution_count": 5,
     "metadata": {},
     "output_type": "execute_result"
    }
   ],
   "source": [
    "id(another_one)"
   ],
   "metadata": {
    "collapsed": false,
    "ExecuteTime": {
     "end_time": "2023-06-15T12:04:42.574381800Z",
     "start_time": "2023-06-15T12:04:42.542610400Z"
    }
   }
  },
  {
   "cell_type": "code",
   "execution_count": 8,
   "outputs": [],
   "source": [
    "assert id(first_one) == id(another_one)"
   ],
   "metadata": {
    "collapsed": false,
    "ExecuteTime": {
     "end_time": "2023-06-15T12:05:33.755189400Z",
     "start_time": "2023-06-15T12:05:33.730697300Z"
    }
   }
  },
  {
   "cell_type": "code",
   "execution_count": 10,
   "outputs": [
    {
     "data": {
      "text/plain": "True"
     },
     "execution_count": 10,
     "metadata": {},
     "output_type": "execute_result"
    }
   ],
   "source": [
    "first_one is another_one"
   ],
   "metadata": {
    "collapsed": false,
    "ExecuteTime": {
     "end_time": "2023-06-15T12:06:02.261126700Z",
     "start_time": "2023-06-15T12:06:02.227387600Z"
    }
   }
  },
  {
   "cell_type": "code",
   "execution_count": 11,
   "outputs": [
    {
     "data": {
      "text/plain": "True"
     },
     "execution_count": 11,
     "metadata": {},
     "output_type": "execute_result"
    }
   ],
   "source": [
    "another_one is first_one"
   ],
   "metadata": {
    "collapsed": false,
    "ExecuteTime": {
     "end_time": "2023-06-15T12:06:08.613382500Z",
     "start_time": "2023-06-15T12:06:08.581948700Z"
    }
   }
  },
  {
   "cell_type": "code",
   "execution_count": 14,
   "outputs": [],
   "source": [
    "@count_calls\n",
    "def fibonacci(num):\n",
    "    if num < 2:\n",
    "        return num\n",
    "    return fibonacci(num - 1) + fibonacci(num - 2)"
   ],
   "metadata": {
    "collapsed": false,
    "ExecuteTime": {
     "end_time": "2023-06-15T12:10:33.410728300Z",
     "start_time": "2023-06-15T12:10:33.378852400Z"
    }
   }
  },
  {
   "cell_type": "code",
   "execution_count": 15,
   "outputs": [
    {
     "name": "stdout",
     "output_type": "stream",
     "text": [
      "Call 1 of 'fibonacci'\n",
      "Call 2 of 'fibonacci'\n",
      "Call 3 of 'fibonacci'\n",
      "Call 4 of 'fibonacci'\n",
      "Call 5 of 'fibonacci'\n",
      "Call 6 of 'fibonacci'\n",
      "Call 7 of 'fibonacci'\n",
      "Call 8 of 'fibonacci'\n",
      "Call 9 of 'fibonacci'\n",
      "Call 10 of 'fibonacci'\n",
      "Call 11 of 'fibonacci'\n",
      "Call 12 of 'fibonacci'\n",
      "Call 13 of 'fibonacci'\n",
      "Call 14 of 'fibonacci'\n",
      "Call 15 of 'fibonacci'\n",
      "Call 16 of 'fibonacci'\n",
      "Call 17 of 'fibonacci'\n",
      "Call 18 of 'fibonacci'\n",
      "Call 19 of 'fibonacci'\n",
      "Call 20 of 'fibonacci'\n",
      "Call 21 of 'fibonacci'\n",
      "Call 22 of 'fibonacci'\n",
      "Call 23 of 'fibonacci'\n",
      "Call 24 of 'fibonacci'\n",
      "Call 25 of 'fibonacci'\n",
      "Call 26 of 'fibonacci'\n",
      "Call 27 of 'fibonacci'\n",
      "Call 28 of 'fibonacci'\n",
      "Call 29 of 'fibonacci'\n",
      "Call 30 of 'fibonacci'\n",
      "Call 31 of 'fibonacci'\n",
      "Call 32 of 'fibonacci'\n",
      "Call 33 of 'fibonacci'\n",
      "Call 34 of 'fibonacci'\n",
      "Call 35 of 'fibonacci'\n",
      "Call 36 of 'fibonacci'\n",
      "Call 37 of 'fibonacci'\n",
      "Call 38 of 'fibonacci'\n",
      "Call 39 of 'fibonacci'\n",
      "Call 40 of 'fibonacci'\n",
      "Call 41 of 'fibonacci'\n",
      "Call 42 of 'fibonacci'\n",
      "Call 43 of 'fibonacci'\n",
      "Call 44 of 'fibonacci'\n",
      "Call 45 of 'fibonacci'\n",
      "Call 46 of 'fibonacci'\n",
      "Call 47 of 'fibonacci'\n",
      "Call 48 of 'fibonacci'\n",
      "Call 49 of 'fibonacci'\n",
      "Call 50 of 'fibonacci'\n",
      "Call 51 of 'fibonacci'\n",
      "Call 52 of 'fibonacci'\n",
      "Call 53 of 'fibonacci'\n",
      "Call 54 of 'fibonacci'\n",
      "Call 55 of 'fibonacci'\n",
      "Call 56 of 'fibonacci'\n",
      "Call 57 of 'fibonacci'\n",
      "Call 58 of 'fibonacci'\n",
      "Call 59 of 'fibonacci'\n",
      "Call 60 of 'fibonacci'\n",
      "Call 61 of 'fibonacci'\n",
      "Call 62 of 'fibonacci'\n",
      "Call 63 of 'fibonacci'\n",
      "Call 64 of 'fibonacci'\n",
      "Call 65 of 'fibonacci'\n",
      "Call 66 of 'fibonacci'\n",
      "Call 67 of 'fibonacci'\n",
      "Call 68 of 'fibonacci'\n",
      "Call 69 of 'fibonacci'\n",
      "Call 70 of 'fibonacci'\n",
      "Call 71 of 'fibonacci'\n",
      "Call 72 of 'fibonacci'\n",
      "Call 73 of 'fibonacci'\n",
      "Call 74 of 'fibonacci'\n",
      "Call 75 of 'fibonacci'\n",
      "Call 76 of 'fibonacci'\n",
      "Call 77 of 'fibonacci'\n",
      "Call 78 of 'fibonacci'\n",
      "Call 79 of 'fibonacci'\n",
      "Call 80 of 'fibonacci'\n",
      "Call 81 of 'fibonacci'\n",
      "Call 82 of 'fibonacci'\n",
      "Call 83 of 'fibonacci'\n",
      "Call 84 of 'fibonacci'\n",
      "Call 85 of 'fibonacci'\n",
      "Call 86 of 'fibonacci'\n",
      "Call 87 of 'fibonacci'\n",
      "Call 88 of 'fibonacci'\n",
      "Call 89 of 'fibonacci'\n",
      "Call 90 of 'fibonacci'\n",
      "Call 91 of 'fibonacci'\n",
      "Call 92 of 'fibonacci'\n",
      "Call 93 of 'fibonacci'\n",
      "Call 94 of 'fibonacci'\n",
      "Call 95 of 'fibonacci'\n",
      "Call 96 of 'fibonacci'\n",
      "Call 97 of 'fibonacci'\n",
      "Call 98 of 'fibonacci'\n",
      "Call 99 of 'fibonacci'\n",
      "Call 100 of 'fibonacci'\n",
      "Call 101 of 'fibonacci'\n",
      "Call 102 of 'fibonacci'\n",
      "Call 103 of 'fibonacci'\n",
      "Call 104 of 'fibonacci'\n",
      "Call 105 of 'fibonacci'\n",
      "Call 106 of 'fibonacci'\n",
      "Call 107 of 'fibonacci'\n",
      "Call 108 of 'fibonacci'\n",
      "Call 109 of 'fibonacci'\n",
      "Call 110 of 'fibonacci'\n",
      "Call 111 of 'fibonacci'\n",
      "Call 112 of 'fibonacci'\n",
      "Call 113 of 'fibonacci'\n",
      "Call 114 of 'fibonacci'\n",
      "Call 115 of 'fibonacci'\n",
      "Call 116 of 'fibonacci'\n",
      "Call 117 of 'fibonacci'\n",
      "Call 118 of 'fibonacci'\n",
      "Call 119 of 'fibonacci'\n",
      "Call 120 of 'fibonacci'\n",
      "Call 121 of 'fibonacci'\n",
      "Call 122 of 'fibonacci'\n",
      "Call 123 of 'fibonacci'\n",
      "Call 124 of 'fibonacci'\n",
      "Call 125 of 'fibonacci'\n",
      "Call 126 of 'fibonacci'\n",
      "Call 127 of 'fibonacci'\n",
      "Call 128 of 'fibonacci'\n",
      "Call 129 of 'fibonacci'\n",
      "Call 130 of 'fibonacci'\n",
      "Call 131 of 'fibonacci'\n",
      "Call 132 of 'fibonacci'\n",
      "Call 133 of 'fibonacci'\n",
      "Call 134 of 'fibonacci'\n",
      "Call 135 of 'fibonacci'\n",
      "Call 136 of 'fibonacci'\n",
      "Call 137 of 'fibonacci'\n",
      "Call 138 of 'fibonacci'\n",
      "Call 139 of 'fibonacci'\n",
      "Call 140 of 'fibonacci'\n",
      "Call 141 of 'fibonacci'\n",
      "Call 142 of 'fibonacci'\n",
      "Call 143 of 'fibonacci'\n",
      "Call 144 of 'fibonacci'\n",
      "Call 145 of 'fibonacci'\n",
      "Call 146 of 'fibonacci'\n",
      "Call 147 of 'fibonacci'\n",
      "Call 148 of 'fibonacci'\n",
      "Call 149 of 'fibonacci'\n",
      "Call 150 of 'fibonacci'\n",
      "Call 151 of 'fibonacci'\n",
      "Call 152 of 'fibonacci'\n",
      "Call 153 of 'fibonacci'\n",
      "Call 154 of 'fibonacci'\n",
      "Call 155 of 'fibonacci'\n",
      "Call 156 of 'fibonacci'\n",
      "Call 157 of 'fibonacci'\n",
      "Call 158 of 'fibonacci'\n",
      "Call 159 of 'fibonacci'\n",
      "Call 160 of 'fibonacci'\n",
      "Call 161 of 'fibonacci'\n",
      "Call 162 of 'fibonacci'\n",
      "Call 163 of 'fibonacci'\n",
      "Call 164 of 'fibonacci'\n",
      "Call 165 of 'fibonacci'\n",
      "Call 166 of 'fibonacci'\n",
      "Call 167 of 'fibonacci'\n",
      "Call 168 of 'fibonacci'\n",
      "Call 169 of 'fibonacci'\n",
      "Call 170 of 'fibonacci'\n",
      "Call 171 of 'fibonacci'\n",
      "Call 172 of 'fibonacci'\n",
      "Call 173 of 'fibonacci'\n",
      "Call 174 of 'fibonacci'\n",
      "Call 175 of 'fibonacci'\n",
      "Call 176 of 'fibonacci'\n",
      "Call 177 of 'fibonacci'\n"
     ]
    },
    {
     "data": {
      "text/plain": "55"
     },
     "execution_count": 15,
     "metadata": {},
     "output_type": "execute_result"
    }
   ],
   "source": [
    "fibonacci(10)"
   ],
   "metadata": {
    "collapsed": false,
    "ExecuteTime": {
     "end_time": "2023-06-15T12:10:37.943700500Z",
     "start_time": "2023-06-15T12:10:37.915904900Z"
    }
   }
  },
  {
   "cell_type": "code",
   "execution_count": 16,
   "outputs": [
    {
     "data": {
      "text/plain": "177"
     },
     "execution_count": 16,
     "metadata": {},
     "output_type": "execute_result"
    }
   ],
   "source": [
    "fibonacci.num_calls"
   ],
   "metadata": {
    "collapsed": false,
    "ExecuteTime": {
     "end_time": "2023-06-15T12:10:53.015793800Z",
     "start_time": "2023-06-15T12:10:52.972615500Z"
    }
   }
  },
  {
   "cell_type": "code",
   "execution_count": 20,
   "outputs": [],
   "source": [
    "import functools\n",
    "\n",
    "\n",
    "def cache(func):\n",
    "    \"\"\"Keep a cache of previous function calls\"\"\"\n",
    "\n",
    "    def wrapper_cache(*args, **kwargs):\n",
    "        cache_key = args + tuple(kwargs.items())\n",
    "        if cache_key not in wrapper_cache.cache:\n",
    "            wrapper_cache.cache[cache_key] = func(*args, **kwargs)\n",
    "        return wrapper_cache.cache[cache_key]\n",
    "\n",
    "    wrapper_cache.cache = dict()\n",
    "    return wrapper_cache\n",
    "\n",
    "\n",
    "@cache\n",
    "@count_calls\n",
    "def fibonacci(num):\n",
    "    if num < 2:\n",
    "        return num\n",
    "    return fibonacci(num - 1) + fibonacci(num - 2)\n"
   ],
   "metadata": {
    "collapsed": false,
    "ExecuteTime": {
     "end_time": "2023-06-15T12:21:10.542588200Z",
     "start_time": "2023-06-15T12:21:10.521999400Z"
    }
   }
  },
  {
   "cell_type": "code",
   "execution_count": 21,
   "outputs": [
    {
     "name": "stdout",
     "output_type": "stream",
     "text": [
      "Call 1 of 'fibonacci'\n",
      "Call 2 of 'fibonacci'\n",
      "Call 3 of 'fibonacci'\n",
      "Call 4 of 'fibonacci'\n",
      "Call 5 of 'fibonacci'\n",
      "Call 6 of 'fibonacci'\n",
      "Call 7 of 'fibonacci'\n",
      "Call 8 of 'fibonacci'\n",
      "Call 9 of 'fibonacci'\n",
      "Call 10 of 'fibonacci'\n",
      "Call 11 of 'fibonacci'\n"
     ]
    },
    {
     "data": {
      "text/plain": "55"
     },
     "execution_count": 21,
     "metadata": {},
     "output_type": "execute_result"
    }
   ],
   "source": [
    "fibonacci(10)"
   ],
   "metadata": {
    "collapsed": false,
    "ExecuteTime": {
     "end_time": "2023-06-15T12:21:11.100745700Z",
     "start_time": "2023-06-15T12:21:11.091769Z"
    }
   }
  },
  {
   "cell_type": "code",
   "execution_count": 22,
   "outputs": [],
   "source": [
    "import functools\n",
    "\n",
    "\n",
    "@functools.lru_cache(maxsize=4)\n",
    "def fibonacci(num):\n",
    "    print(f\"Calculating fibonacci({num})\")\n",
    "    if num < 2:\n",
    "        return num\n",
    "    return fibonacci(num - 1) + fibonacci(num - 2)"
   ],
   "metadata": {
    "collapsed": false,
    "ExecuteTime": {
     "end_time": "2023-06-15T12:23:37.204611100Z",
     "start_time": "2023-06-15T12:23:37.141667Z"
    }
   }
  },
  {
   "cell_type": "code",
   "execution_count": 23,
   "outputs": [
    {
     "name": "stdout",
     "output_type": "stream",
     "text": [
      "Calculating fibonacci(10)\n",
      "Calculating fibonacci(9)\n",
      "Calculating fibonacci(8)\n",
      "Calculating fibonacci(7)\n",
      "Calculating fibonacci(6)\n",
      "Calculating fibonacci(5)\n",
      "Calculating fibonacci(4)\n",
      "Calculating fibonacci(3)\n",
      "Calculating fibonacci(2)\n",
      "Calculating fibonacci(1)\n",
      "Calculating fibonacci(0)\n"
     ]
    },
    {
     "data": {
      "text/plain": "55"
     },
     "execution_count": 23,
     "metadata": {},
     "output_type": "execute_result"
    }
   ],
   "source": [
    "fibonacci(10)"
   ],
   "metadata": {
    "collapsed": false,
    "ExecuteTime": {
     "end_time": "2023-06-15T12:24:05.199441800Z",
     "start_time": "2023-06-15T12:24:05.135856800Z"
    }
   }
  },
  {
   "cell_type": "code",
   "execution_count": 24,
   "outputs": [
    {
     "data": {
      "text/plain": "21"
     },
     "execution_count": 24,
     "metadata": {},
     "output_type": "execute_result"
    }
   ],
   "source": [
    "fibonacci(8)"
   ],
   "metadata": {
    "collapsed": false,
    "ExecuteTime": {
     "end_time": "2023-06-15T12:24:17.827089800Z",
     "start_time": "2023-06-15T12:24:17.779549900Z"
    }
   }
  },
  {
   "cell_type": "code",
   "execution_count": 25,
   "outputs": [
    {
     "name": "stdout",
     "output_type": "stream",
     "text": [
      "Calculating fibonacci(5)\n",
      "Calculating fibonacci(4)\n",
      "Calculating fibonacci(3)\n",
      "Calculating fibonacci(2)\n",
      "Calculating fibonacci(1)\n",
      "Calculating fibonacci(0)\n"
     ]
    },
    {
     "data": {
      "text/plain": "5"
     },
     "execution_count": 25,
     "metadata": {},
     "output_type": "execute_result"
    }
   ],
   "source": [
    "fibonacci(5)"
   ],
   "metadata": {
    "collapsed": false,
    "ExecuteTime": {
     "end_time": "2023-06-15T12:24:24.019472200Z",
     "start_time": "2023-06-15T12:24:23.956420800Z"
    }
   }
  },
  {
   "cell_type": "code",
   "execution_count": 26,
   "outputs": [
    {
     "name": "stdout",
     "output_type": "stream",
     "text": [
      "Calculating fibonacci(8)\n",
      "Calculating fibonacci(7)\n",
      "Calculating fibonacci(6)\n"
     ]
    },
    {
     "data": {
      "text/plain": "21"
     },
     "execution_count": 26,
     "metadata": {},
     "output_type": "execute_result"
    }
   ],
   "source": [
    "fibonacci(8)"
   ],
   "metadata": {
    "collapsed": false,
    "ExecuteTime": {
     "end_time": "2023-06-15T12:24:37.918206900Z",
     "start_time": "2023-06-15T12:24:37.814868Z"
    }
   }
  },
  {
   "cell_type": "code",
   "execution_count": 27,
   "outputs": [
    {
     "data": {
      "text/plain": "5"
     },
     "execution_count": 27,
     "metadata": {},
     "output_type": "execute_result"
    }
   ],
   "source": [
    "fibonacci(5)"
   ],
   "metadata": {
    "collapsed": false,
    "ExecuteTime": {
     "end_time": "2023-06-15T12:24:50.254851200Z",
     "start_time": "2023-06-15T12:24:50.207193800Z"
    }
   }
  },
  {
   "cell_type": "code",
   "execution_count": 28,
   "outputs": [
    {
     "data": {
      "text/plain": "CacheInfo(hits=17, misses=20, maxsize=4, currsize=4)"
     },
     "execution_count": 28,
     "metadata": {},
     "output_type": "execute_result"
    }
   ],
   "source": [
    "fibonacci.cache_info()"
   ],
   "metadata": {
    "collapsed": false,
    "ExecuteTime": {
     "end_time": "2023-06-15T12:24:59.589281700Z",
     "start_time": "2023-06-15T12:24:59.513978600Z"
    }
   }
  },
  {
   "cell_type": "markdown",
   "source": [
    "### Adding Information About Units"
   ],
   "metadata": {
    "collapsed": false
   }
  },
  {
   "cell_type": "code",
   "execution_count": 29,
   "outputs": [],
   "source": [
    "def set_unit(unit):\n",
    "    \"\"\"Register a unit on a function\"\"\"\n",
    "    def decorator_set_unit(func):\n",
    "        func.unit = unit\n",
    "        return func\n",
    "    return decorator_set_unit"
   ],
   "metadata": {
    "collapsed": false,
    "ExecuteTime": {
     "end_time": "2023-06-15T12:27:11.736886200Z",
     "start_time": "2023-06-15T12:27:11.689641900Z"
    }
   }
  },
  {
   "cell_type": "code",
   "execution_count": 36,
   "outputs": [],
   "source": [
    "import math\n",
    "\n",
    "@set_unit(\"cm^3\")\n",
    "def volume(radius, height):\n",
    "    return math.pi * radius**2 * height"
   ],
   "metadata": {
    "collapsed": false,
    "ExecuteTime": {
     "end_time": "2023-06-15T12:31:01.090802100Z",
     "start_time": "2023-06-15T12:31:01.055222600Z"
    }
   }
  },
  {
   "cell_type": "code",
   "execution_count": 37,
   "outputs": [
    {
     "data": {
      "text/plain": "141.3716694115407"
     },
     "execution_count": 37,
     "metadata": {},
     "output_type": "execute_result"
    }
   ],
   "source": [
    "volume(3, 5)"
   ],
   "metadata": {
    "collapsed": false,
    "ExecuteTime": {
     "end_time": "2023-06-15T12:31:02.090134900Z",
     "start_time": "2023-06-15T12:31:02.076548900Z"
    }
   }
  },
  {
   "cell_type": "code",
   "execution_count": 38,
   "outputs": [
    {
     "data": {
      "text/plain": "'cm^3'"
     },
     "execution_count": 38,
     "metadata": {},
     "output_type": "execute_result"
    }
   ],
   "source": [
    "volume.unit"
   ],
   "metadata": {
    "collapsed": false,
    "ExecuteTime": {
     "end_time": "2023-06-15T12:31:04.685583100Z",
     "start_time": "2023-06-15T12:31:04.662017Z"
    }
   }
  },
  {
   "cell_type": "code",
   "execution_count": 33,
   "outputs": [],
   "source": [
    "import math\n",
    "\n",
    "def volume(radius, height) -> \"cm^3\":\n",
    "    return math.pi * radius**2 * height"
   ],
   "metadata": {
    "collapsed": false,
    "ExecuteTime": {
     "end_time": "2023-06-15T12:28:08.050544400Z",
     "start_time": "2023-06-15T12:28:07.949914200Z"
    }
   }
  },
  {
   "cell_type": "code",
   "execution_count": 34,
   "outputs": [
    {
     "data": {
      "text/plain": "{'return': 'cm^3'}"
     },
     "execution_count": 34,
     "metadata": {},
     "output_type": "execute_result"
    }
   ],
   "source": [
    "volume.__annotations__"
   ],
   "metadata": {
    "collapsed": false,
    "ExecuteTime": {
     "end_time": "2023-06-15T12:28:20.810255900Z",
     "start_time": "2023-06-15T12:28:20.778348200Z"
    }
   }
  },
  {
   "cell_type": "code",
   "execution_count": 41,
   "outputs": [],
   "source": [
    "import pint\n",
    "\n",
    "ureg = pint.UnitRegistry()\n",
    "vol = volume(3, 5) * ureg(volume.unit)"
   ],
   "metadata": {
    "collapsed": false,
    "ExecuteTime": {
     "end_time": "2023-06-15T12:31:24.410085600Z",
     "start_time": "2023-06-15T12:31:23.999015Z"
    }
   }
  },
  {
   "cell_type": "code",
   "execution_count": 42,
   "outputs": [
    {
     "data": {
      "text/plain": "141.3716694115407 <Unit('centimeter ** 3')>",
      "text/html": "141.3716694115407 centimeter<sup>3</sup>",
      "text/latex": "$141.3716694115407\\ \\mathrm{centimeter}^{3}$"
     },
     "execution_count": 42,
     "metadata": {},
     "output_type": "execute_result"
    }
   ],
   "source": [
    "vol"
   ],
   "metadata": {
    "collapsed": false,
    "ExecuteTime": {
     "end_time": "2023-06-15T12:31:24.970449800Z",
     "start_time": "2023-06-15T12:31:24.956724200Z"
    }
   }
  },
  {
   "cell_type": "code",
   "execution_count": 43,
   "outputs": [
    {
     "data": {
      "text/plain": "8.627028576414954 <Unit('inch ** 3')>",
      "text/html": "8.627028576414954 inch<sup>3</sup>",
      "text/latex": "$8.627028576414954\\ \\mathrm{inch}^{3}$"
     },
     "execution_count": 43,
     "metadata": {},
     "output_type": "execute_result"
    }
   ],
   "source": [
    "vol.to(\"cubic inches\")"
   ],
   "metadata": {
    "collapsed": false,
    "ExecuteTime": {
     "end_time": "2023-06-15T12:31:53.029326500Z",
     "start_time": "2023-06-15T12:31:52.982171700Z"
    }
   }
  },
  {
   "cell_type": "code",
   "execution_count": 48,
   "outputs": [
    {
     "data": {
      "text/plain": "0.03734644405374439"
     },
     "execution_count": 48,
     "metadata": {},
     "output_type": "execute_result"
    }
   ],
   "source": [
    "vol.to(\"gallons\").m"
   ],
   "metadata": {
    "collapsed": false,
    "ExecuteTime": {
     "end_time": "2023-06-15T12:32:30.095690600Z",
     "start_time": "2023-06-15T12:32:30.077530Z"
    }
   }
  },
  {
   "cell_type": "code",
   "execution_count": 55,
   "outputs": [],
   "source": [
    "def use_unit(unit):\n",
    "    \"\"\"Have a function return a Quantity with given unit\"\"\"\n",
    "    use_unit.ureg = pint.UnitRegistry()\n",
    "    def decorator_use_unit(func):\n",
    "        @functools.wraps(func)\n",
    "        def wrapper_use_unit(*args, **kwargs):\n",
    "            value = func(*args, **kwargs)\n",
    "            return value * use_unit.ureg(unit)\n",
    "        return wrapper_use_unit\n",
    "    return decorator_use_unit"
   ],
   "metadata": {
    "collapsed": false,
    "ExecuteTime": {
     "end_time": "2023-06-15T12:41:01.561345600Z",
     "start_time": "2023-06-15T12:41:01.537632200Z"
    }
   }
  },
  {
   "cell_type": "code",
   "execution_count": 56,
   "outputs": [],
   "source": [
    "@use_unit(\"meters per second\")\n",
    "def average_speed(distance, duration):\n",
    "    return distance / duration"
   ],
   "metadata": {
    "collapsed": false,
    "ExecuteTime": {
     "end_time": "2023-06-15T12:41:02.582334900Z",
     "start_time": "2023-06-15T12:41:01.907952900Z"
    }
   }
  },
  {
   "cell_type": "code",
   "execution_count": 58,
   "outputs": [
    {
     "data": {
      "text/plain": "10.438413361169102 <Unit('meter / second')>",
      "text/html": "10.438413361169102 meter/second",
      "text/latex": "$10.438413361169102\\ \\frac{\\mathrm{meter}}{\\mathrm{second}}$"
     },
     "execution_count": 58,
     "metadata": {},
     "output_type": "execute_result"
    }
   ],
   "source": [
    "bolt = average_speed(100, 9.58)\n",
    "bolt"
   ],
   "metadata": {
    "collapsed": false,
    "ExecuteTime": {
     "end_time": "2023-06-15T12:41:06.606095Z",
     "start_time": "2023-06-15T12:41:06.569821400Z"
    }
   }
  },
  {
   "cell_type": "code",
   "execution_count": 59,
   "outputs": [
    {
     "data": {
      "text/plain": "37.578288100208766 <Unit('kilometer / hour')>",
      "text/html": "37.578288100208766 kilometer/hour",
      "text/latex": "$37.578288100208766\\ \\frac{\\mathrm{kilometer}}{\\mathrm{hour}}$"
     },
     "execution_count": 59,
     "metadata": {},
     "output_type": "execute_result"
    }
   ],
   "source": [
    "bolt.to(\"km per hour\")"
   ],
   "metadata": {
    "collapsed": false,
    "ExecuteTime": {
     "end_time": "2023-06-15T12:41:53.969139300Z",
     "start_time": "2023-06-15T12:41:53.895816700Z"
    }
   }
  },
  {
   "cell_type": "markdown",
   "source": [
    "### Validating JSON"
   ],
   "metadata": {
    "collapsed": false
   }
  }
 ],
 "metadata": {
  "kernelspec": {
   "display_name": "Python 3",
   "language": "python",
   "name": "python3"
  },
  "language_info": {
   "codemirror_mode": {
    "name": "ipython",
    "version": 2
   },
   "file_extension": ".py",
   "mimetype": "text/x-python",
   "name": "python",
   "nbconvert_exporter": "python",
   "pygments_lexer": "ipython2",
   "version": "2.7.6"
  }
 },
 "nbformat": 4,
 "nbformat_minor": 0
}
