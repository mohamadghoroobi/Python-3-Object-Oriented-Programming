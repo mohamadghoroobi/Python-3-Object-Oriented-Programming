{
 "cells": [
  {
   "cell_type": "raw",
   "source": [],
   "metadata": {
    "collapsed": false
   }
  },
  {
   "cell_type": "markdown",
   "source": [
    "# Introducing Factory Method"
   ],
   "metadata": {
    "collapsed": false
   }
  },
  {
   "cell_type": "code",
   "execution_count": 4,
   "outputs": [],
   "source": [
    "import json\n",
    "import xml.etree.cElementTree as et\n",
    "\n",
    "\n",
    "class Song:\n",
    "    def __init__(self, song_id, title, artist):\n",
    "        self.song_id = song_id\n",
    "        self.title = title\n",
    "        self.artist = artist\n",
    "\n",
    "\n",
    "class SongSerializer:\n",
    "    def serialize(self, song, format):\n",
    "        if format == \"JSON\":\n",
    "            song_info = {\n",
    "                'id': song.song_id,\n",
    "                'title': song.title,\n",
    "                'artist': song.artist\n",
    "            }\n",
    "            return json.dumps(song_info)\n",
    "        elif format == \"XML\":\n",
    "            song_info = et.Element(\"song\", arrtib={song.song_id})\n",
    "            title = et.SubElement(song_info, 'title')\n",
    "            title.text = song.title\n",
    "            artist = et.SubElement(song_info, 'artist')\n",
    "            artist.text = song.artist\n",
    "            return et.tostring(song_info, encoding='unicode')\n",
    "        else:\n",
    "            raise ValueError"
   ],
   "metadata": {
    "collapsed": false,
    "ExecuteTime": {
     "end_time": "2023-06-17T14:59:51.663980400Z",
     "start_time": "2023-06-17T14:59:51.660402500Z"
    }
   }
  },
  {
   "cell_type": "code",
   "execution_count": 7,
   "outputs": [],
   "source": [
    "song = Song('1', 'Water of Love', \"Dire Straits\")\n",
    "serializer = SongSerializer()"
   ],
   "metadata": {
    "collapsed": false,
    "ExecuteTime": {
     "end_time": "2023-06-17T15:03:02.071380700Z",
     "start_time": "2023-06-17T15:03:02.071109Z"
    }
   }
  },
  {
   "cell_type": "code",
   "execution_count": 8,
   "outputs": [
    {
     "data": {
      "text/plain": "'{\"id\": \"1\", \"title\": \"Water of Love\", \"artist\": \"Dire Straits\"}'"
     },
     "execution_count": 8,
     "metadata": {},
     "output_type": "execute_result"
    }
   ],
   "source": [
    "serializer.serialize(song, 'JSON')"
   ],
   "metadata": {
    "collapsed": false,
    "ExecuteTime": {
     "end_time": "2023-06-17T15:03:05.199994800Z",
     "start_time": "2023-06-17T15:03:05.199474300Z"
    }
   }
  },
  {
   "cell_type": "markdown",
   "source": [
    "serializer.serialize(song, 'XML')"
   ],
   "metadata": {
    "collapsed": false
   }
  },
  {
   "cell_type": "code",
   "execution_count": 18,
   "outputs": [
    {
     "ename": "ValueError",
     "evalue": "",
     "output_type": "error",
     "traceback": [
      "\u001B[1;31m---------------------------------------------------------------------------\u001B[0m",
      "\u001B[1;31mValueError\u001B[0m                                Traceback (most recent call last)",
      "Cell \u001B[1;32mIn[18], line 1\u001B[0m\n\u001B[1;32m----> 1\u001B[0m \u001B[43mserializer\u001B[49m\u001B[38;5;241;43m.\u001B[39;49m\u001B[43mserialize\u001B[49m\u001B[43m(\u001B[49m\u001B[43msong\u001B[49m\u001B[43m,\u001B[49m\u001B[43m \u001B[49m\u001B[38;5;124;43m\"\u001B[39;49m\u001B[38;5;124;43mYAML\u001B[39;49m\u001B[38;5;124;43m\"\u001B[39;49m\u001B[43m)\u001B[49m\n",
      "Cell \u001B[1;32mIn[4], line 29\u001B[0m, in \u001B[0;36mSongSerializer.serialize\u001B[1;34m(self, song, format)\u001B[0m\n\u001B[0;32m     27\u001B[0m     \u001B[38;5;28;01mreturn\u001B[39;00m et\u001B[38;5;241m.\u001B[39mtostring(song_info, encoding\u001B[38;5;241m=\u001B[39m\u001B[38;5;124m'\u001B[39m\u001B[38;5;124municode\u001B[39m\u001B[38;5;124m'\u001B[39m)\n\u001B[0;32m     28\u001B[0m \u001B[38;5;28;01melse\u001B[39;00m:\n\u001B[1;32m---> 29\u001B[0m     \u001B[38;5;28;01mraise\u001B[39;00m \u001B[38;5;167;01mValueError\u001B[39;00m\n",
      "\u001B[1;31mValueError\u001B[0m: "
     ]
    }
   ],
   "source": [
    "serializer.serialize(song, \"YAML\")"
   ],
   "metadata": {
    "collapsed": false,
    "ExecuteTime": {
     "end_time": "2023-06-17T15:06:01.982374700Z",
     "start_time": "2023-06-17T15:06:01.957194600Z"
    }
   }
  },
  {
   "cell_type": "markdown",
   "source": [
    "### Refactoring Code Into the Desired Interface"
   ],
   "metadata": {
    "collapsed": false
   }
  },
  {
   "cell_type": "code",
   "execution_count": 21,
   "outputs": [],
   "source": [
    "class SongSerializer:\n",
    "    def serialize(self, song, format):\n",
    "        if format == 'JSON':\n",
    "            return self._serialize_to_json(song)\n",
    "        elif format == 'XML':\n",
    "            return self._serialize_to_xml(song)\n",
    "        else:\n",
    "            raise ValueError(format)\n",
    "\n",
    "    def _serialize_to_json(self, song):\n",
    "        payload = {\n",
    "            'id': song.song_id,\n",
    "            'title': song.title,\n",
    "            'artist': song.artist\n",
    "        }\n",
    "        return json.dumps(payload)\n",
    "\n",
    "    def _serialize_to_xml(self, song):\n",
    "        song_element = et.Element('song', attrib={'id': song.song_id})\n",
    "        title = et.SubElement(song_element, 'title')\n",
    "        title.text = song.title\n",
    "        artist = et.SubElement(song_element, 'artist')\n",
    "        artist.text = song.artist\n",
    "        return et.tostring(song_element, encoding='unicode')"
   ],
   "metadata": {
    "collapsed": false,
    "ExecuteTime": {
     "end_time": "2023-06-17T15:11:00.798420Z",
     "start_time": "2023-06-17T15:11:00.797920700Z"
    }
   }
  },
  {
   "cell_type": "markdown",
   "source": [
    "### Basic Implementation of Factory Method"
   ],
   "metadata": {
    "collapsed": false
   }
  },
  {
   "cell_type": "code",
   "execution_count": 23,
   "outputs": [],
   "source": [
    "class SongSerializer:\n",
    "    def serialize(self, song, format):\n",
    "        serializer = self._get_serializer(format)\n",
    "        return serializer(song)\n",
    "\n",
    "    def _get_serializer(self, format):\n",
    "        if format == 'JSON':\n",
    "            return self._serialize_to_json\n",
    "        elif format == 'XML':\n",
    "            return self._serialize_to_xml\n",
    "        else:\n",
    "            raise ValueError(format)\n",
    "\n",
    "    def _serialize_to_json(self, song):\n",
    "        payload = {\n",
    "            'id': song.song_id,\n",
    "            'title': song.title,\n",
    "            'artist': song.artist\n",
    "        }\n",
    "        return json.dumps(payload)\n",
    "\n",
    "    def _serialize_to_xml(self, song):\n",
    "        song_element = et.Element('song', attrib={'id': song.song_id})\n",
    "        title = et.SubElement(song_element, 'title')\n",
    "        title.text = song.title\n",
    "        artist = et.SubElement(song_element, 'artist')\n",
    "        artist.text = song.artist\n",
    "        return et.tostring(song_element, encoding='unicode')"
   ],
   "metadata": {
    "collapsed": false,
    "ExecuteTime": {
     "end_time": "2023-06-17T15:15:54.302706700Z",
     "start_time": "2023-06-17T15:15:54.301700500Z"
    }
   }
  },
  {
   "cell_type": "code",
   "execution_count": 24,
   "outputs": [],
   "source": [
    "song = Song('1', 'Water of Love', \"Dire Straits\")\n",
    "serializer = SongSerializer()"
   ],
   "metadata": {
    "collapsed": false,
    "ExecuteTime": {
     "end_time": "2023-06-17T15:16:09.002987500Z",
     "start_time": "2023-06-17T15:16:09.000359700Z"
    }
   }
  },
  {
   "cell_type": "code",
   "execution_count": 25,
   "outputs": [
    {
     "data": {
      "text/plain": "'{\"id\": \"1\", \"title\": \"Water of Love\", \"artist\": \"Dire Straits\"}'"
     },
     "execution_count": 25,
     "metadata": {},
     "output_type": "execute_result"
    }
   ],
   "source": [
    "serializer.serialize(song, \"JSON\")"
   ],
   "metadata": {
    "collapsed": false,
    "ExecuteTime": {
     "end_time": "2023-06-17T15:16:21.408376200Z",
     "start_time": "2023-06-17T15:16:21.402724400Z"
    }
   }
  },
  {
   "cell_type": "code",
   "execution_count": 26,
   "outputs": [
    {
     "data": {
      "text/plain": "'<song id=\"1\"><title>Water of Love</title><artist>Dire Straits</artist></song>'"
     },
     "execution_count": 26,
     "metadata": {},
     "output_type": "execute_result"
    }
   ],
   "source": [
    "serializer.serialize(song, \"XML\")"
   ],
   "metadata": {
    "collapsed": false,
    "ExecuteTime": {
     "end_time": "2023-06-17T15:16:31.015287500Z",
     "start_time": "2023-06-17T15:16:31.015287500Z"
    }
   }
  },
  {
   "cell_type": "code",
   "execution_count": 27,
   "outputs": [
    {
     "ename": "ValueError",
     "evalue": "YAML",
     "output_type": "error",
     "traceback": [
      "\u001B[1;31m---------------------------------------------------------------------------\u001B[0m",
      "\u001B[1;31mValueError\u001B[0m                                Traceback (most recent call last)",
      "Cell \u001B[1;32mIn[27], line 1\u001B[0m\n\u001B[1;32m----> 1\u001B[0m \u001B[43mserializer\u001B[49m\u001B[38;5;241;43m.\u001B[39;49m\u001B[43mserialize\u001B[49m\u001B[43m(\u001B[49m\u001B[43msong\u001B[49m\u001B[43m,\u001B[49m\u001B[43m \u001B[49m\u001B[38;5;124;43m\"\u001B[39;49m\u001B[38;5;124;43mYAML\u001B[39;49m\u001B[38;5;124;43m\"\u001B[39;49m\u001B[43m)\u001B[49m\n",
      "Cell \u001B[1;32mIn[23], line 3\u001B[0m, in \u001B[0;36mSongSerializer.serialize\u001B[1;34m(self, song, format)\u001B[0m\n\u001B[0;32m      2\u001B[0m \u001B[38;5;28;01mdef\u001B[39;00m \u001B[38;5;21mserialize\u001B[39m(\u001B[38;5;28mself\u001B[39m, song, \u001B[38;5;28mformat\u001B[39m):\n\u001B[1;32m----> 3\u001B[0m     serializer \u001B[38;5;241m=\u001B[39m \u001B[38;5;28;43mself\u001B[39;49m\u001B[38;5;241;43m.\u001B[39;49m\u001B[43m_get_serializer\u001B[49m\u001B[43m(\u001B[49m\u001B[38;5;28;43mformat\u001B[39;49m\u001B[43m)\u001B[49m\n\u001B[0;32m      4\u001B[0m     \u001B[38;5;28;01mreturn\u001B[39;00m serializer(song)\n",
      "Cell \u001B[1;32mIn[23], line 12\u001B[0m, in \u001B[0;36mSongSerializer._get_serializer\u001B[1;34m(self, format)\u001B[0m\n\u001B[0;32m     10\u001B[0m     \u001B[38;5;28;01mreturn\u001B[39;00m \u001B[38;5;28mself\u001B[39m\u001B[38;5;241m.\u001B[39m_serialize_to_xml\n\u001B[0;32m     11\u001B[0m \u001B[38;5;28;01melse\u001B[39;00m:\n\u001B[1;32m---> 12\u001B[0m     \u001B[38;5;28;01mraise\u001B[39;00m \u001B[38;5;167;01mValueError\u001B[39;00m(\u001B[38;5;28mformat\u001B[39m)\n",
      "\u001B[1;31mValueError\u001B[0m: YAML"
     ]
    }
   ],
   "source": [
    "serializer.serialize(song, \"YAML\")"
   ],
   "metadata": {
    "collapsed": false,
    "ExecuteTime": {
     "end_time": "2023-06-17T15:16:40.442405300Z",
     "start_time": "2023-06-17T15:16:40.406746100Z"
    }
   }
  },
  {
   "cell_type": "markdown",
   "source": [
    "### An Object Serialization Example"
   ],
   "metadata": {
    "collapsed": false
   }
  },
  {
   "cell_type": "code",
   "execution_count": 1,
   "outputs": [],
   "source": [
    "import json\n",
    "import xml.etree.ElementTree as et\n",
    "\n",
    "class JsonSerializer:\n",
    "    def __init__(self):\n",
    "        self._current_object = None\n",
    "\n",
    "    def start_object(self, object_name, object_id):\n",
    "        self._current_object = {\n",
    "            'id': object_id\n",
    "        }\n",
    "\n",
    "    def add_property(self, name, value):\n",
    "        self._current_object[name] = value\n",
    "\n",
    "    def to_str(self):\n",
    "        return json.dumps(self._current_object)"
   ],
   "metadata": {
    "collapsed": false,
    "ExecuteTime": {
     "end_time": "2023-06-17T18:18:01.729943600Z",
     "start_time": "2023-06-17T18:18:01.693517300Z"
    }
   }
  },
  {
   "cell_type": "code",
   "execution_count": 2,
   "outputs": [],
   "source": [
    "class XmlSerializer:\n",
    "    def __init__(self):\n",
    "        self._element = None\n",
    "\n",
    "    def start_object(self, object_name, object_id):\n",
    "        self._element = et.Element(object_name, attrib={'id': object_id})\n",
    "\n",
    "    def add_property(self, name, value):\n",
    "        prop = et.SubElement(self._element, name)\n",
    "        prop.text = value\n",
    "\n",
    "    def to_str(self):\n",
    "        return et.tostring(self._element, encoding='unicode')"
   ],
   "metadata": {
    "collapsed": false,
    "ExecuteTime": {
     "end_time": "2023-06-17T18:18:11.653747900Z",
     "start_time": "2023-06-17T18:18:11.647068800Z"
    }
   }
  },
  {
   "cell_type": "code",
   "execution_count": 3,
   "outputs": [],
   "source": [
    "# In songs.py\n",
    "\n",
    "class Song:\n",
    "    def __init__(self, song_id, title, artist):\n",
    "        self.song_id = song_id\n",
    "        self.title = title\n",
    "        self.artist = artist\n",
    "\n",
    "    def serialize(self, serializer):\n",
    "        serializer.start_object('song', self.song_id)\n",
    "        serializer.add_property('title', self.title)\n",
    "        serializer.add_property('artist', self.artist)"
   ],
   "metadata": {
    "collapsed": false,
    "ExecuteTime": {
     "end_time": "2023-06-17T18:20:19.144006100Z",
     "start_time": "2023-06-17T18:20:19.119024100Z"
    }
   }
  },
  {
   "cell_type": "markdown",
   "source": [
    "### Factory Method as an Object Factory"
   ],
   "metadata": {
    "collapsed": false
   }
  },
  {
   "cell_type": "code",
   "execution_count": null,
   "outputs": [],
   "source": [],
   "metadata": {
    "collapsed": false
   }
  },
  {
   "cell_type": "code",
   "execution_count": null,
   "outputs": [],
   "source": [],
   "metadata": {
    "collapsed": false
   }
  },
  {
   "cell_type": "code",
   "execution_count": null,
   "outputs": [],
   "source": [],
   "metadata": {
    "collapsed": false
   }
  },
  {
   "cell_type": "code",
   "execution_count": null,
   "outputs": [],
   "source": [],
   "metadata": {
    "collapsed": false
   }
  }
 ],
 "metadata": {
  "kernelspec": {
   "display_name": "Python 3",
   "language": "python",
   "name": "python3"
  },
  "language_info": {
   "codemirror_mode": {
    "name": "ipython",
    "version": 2
   },
   "file_extension": ".py",
   "mimetype": "text/x-python",
   "name": "python",
   "nbconvert_exporter": "python",
   "pygments_lexer": "ipython2",
   "version": "2.7.6"
  }
 },
 "nbformat": 4,
 "nbformat_minor": 0
}
